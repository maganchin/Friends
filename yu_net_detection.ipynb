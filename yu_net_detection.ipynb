{
 "cells": [
  {
   "cell_type": "code",
   "execution_count": 1,
   "id": "190c5465-1390-4e1b-8620-4335d0e98b9a",
   "metadata": {},
   "outputs": [],
   "source": [
    "from yunet import YuNet\n",
    "from sface import SFace\n",
    "import glob\n",
    "from sklearn import svm\n",
    "from PIL import Image, ImageDraw, ImageFont\n",
    "import numpy as np\n",
    "import cv2\n",
    "from tqdm import tqdm\n",
    "import sys\n",
    "from numpy import dot\n",
    "from numpy.linalg import norm"
   ]
  },
  {
   "cell_type": "code",
   "execution_count": 2,
   "id": "ac7c50ff-1729-4189-b50f-d7465dcb2ba0",
   "metadata": {},
   "outputs": [],
   "source": [
    "detector = YuNet(\n",
    "    modelPath=\"face_detection_yunet_2023mar.onnx\",\n",
    "    inputSize=[320, 320],\n",
    "    confThreshold=0.8,\n",
    "    nmsThreshold=0.3,\n",
    "    topK=5000,\n",
    ")"
   ]
  },
  {
   "cell_type": "code",
   "execution_count": 3,
   "id": "82f5d17c-2510-43ad-991f-8ce68ba7f5da",
   "metadata": {},
   "outputs": [],
   "source": [
    "recognizer = SFace(modelPath=\"face_recognition_sface_2021dec.onnx\", disType=0)"
   ]
  },
  {
   "cell_type": "code",
   "execution_count": 4,
   "id": "ef6fc13a-30d1-4c8a-82f0-1a4f676e0955",
   "metadata": {},
   "outputs": [],
   "source": [
    "def get_embeddings(person):\n",
    "    face_files = glob.glob(\"pictures/%s/*\" % person)\n",
    "    # is this doing the normalization we need automatically? Check docs perhaps\n",
    "    faces = [cv2.imread(f) for f in face_files]\n",
    "    # get face locations\n",
    "    face_descriptions = []\n",
    "    for it, p in enumerate(faces):\n",
    "        detector.setInputSize([p.shape[1], p.shape[0]])\n",
    "        # will return None if there is no face, confirmed w tree pic\n",
    "        face_extract = detector.infer(p)\n",
    "        if face_extract is not None:\n",
    "            face_descriptions.append([p, face_extract])\n",
    "\n",
    "        else:\n",
    "            print(\"No face found in %s. Continuing\" % face_files[it])\n",
    "\n",
    "    embeddings = []\n",
    "    for d in face_descriptions:\n",
    "        face_embedding = recognizer.infer(d[0], d[1][0][:-1])[0]\n",
    "        embeddings.append(face_embedding)\n",
    "    labels = [person for f in embeddings]\n",
    "\n",
    "    return embeddings, labels"
   ]
  },
  {
   "cell_type": "code",
   "execution_count": 5,
   "id": "8654a3bc-30b9-4a46-bc03-00f191e7f4b6",
   "metadata": {},
   "outputs": [
    {
     "name": "stdout",
     "output_type": "stream",
     "text": [
      "No face found in pictures/joey/joey_021. Continuing\n",
      "No face found in pictures/rachel/rachel_020. Continuing\n",
      "No face found in pictures/monica/monica_035. Continuing\n",
      "No face found in pictures/monica/monica_012. Continuing\n",
      "No face found in pictures/monica/monica_022. Continuing\n"
     ]
    }
   ],
   "source": [
    "all_embeddings = []\n",
    "all_labels = []\n",
    "people = [\"joey\", \"chandler\", \"ross\", \"rachel\", \"monica\", \"phoebe\"]\n",
    "for p in people:\n",
    "    embeddings, labels = get_embeddings(p)\n",
    "    all_embeddings.extend(embeddings)\n",
    "    all_labels.extend(labels)"
   ]
  },
  {
   "cell_type": "code",
   "execution_count": 6,
   "id": "b086a085-d076-4d33-b1ee-c5a57de2ea80",
   "metadata": {},
   "outputs": [
    {
     "data": {
      "text/plain": [
       "array(['chandler', 'joey', 'monica', 'phoebe', 'rachel', 'ross'],\n",
       "      dtype='<U8')"
      ]
     },
     "execution_count": 6,
     "metadata": {},
     "output_type": "execute_result"
    }
   ],
   "source": [
    "clf = svm.SVC(gamma=\"scale\", probability=True)\n",
    "clf.fit(all_embeddings, all_labels)\n",
    "clf.classes_"
   ]
  },
  {
   "cell_type": "code",
   "execution_count": 16,
   "id": "cfd07203-e1e2-4e31-9906-bf193f4ee8fe",
   "metadata": {},
   "outputs": [
    {
     "name": "stdout",
     "output_type": "stream",
     "text": [
      "640.0 480.0\n"
     ]
    }
   ],
   "source": [
    "input_movie = cv2.VideoCapture(\"Friendstester.mp4\")\n",
    "length = int(input_movie.get(cv2.CAP_PROP_FRAME_COUNT))\n",
    "fps = input_movie.get(cv2.CAP_PROP_FPS)\n",
    "width = input_movie.get(cv2.CAP_PROP_FRAME_WIDTH)\n",
    "height = input_movie.get(cv2.CAP_PROP_FRAME_HEIGHT)\n",
    "print(width, height)"
   ]
  },
  {
   "cell_type": "code",
   "execution_count": 8,
   "id": "1616b044-87f9-4e99-a995-fb22007c5187",
   "metadata": {},
   "outputs": [],
   "source": [
    "detector.setInputSize([int(width), int(height)])"
   ]
  },
  {
   "cell_type": "code",
   "execution_count": 9,
   "id": "683fe792-973e-4117-8b2e-07228ae98a6c",
   "metadata": {},
   "outputs": [],
   "source": [
    "fourcc = cv2.VideoWriter_fourcc(*\"mp4v\")\n",
    "# output_movie = cv2.VideoWriter('output.mp4', fourcc, 29.97, (640, 360))\n",
    "\n",
    "output_movie = cv2.VideoWriter(\n",
    "    \"output_yunet.mp4\", fourcc, fps, (int(width), int(height))\n",
    ")"
   ]
  },
  {
   "cell_type": "code",
   "execution_count": 10,
   "id": "f0fd7117-ce58-4e79-b260-cb1d53a0cb10",
   "metadata": {},
   "outputs": [
    {
     "name": "stderr",
     "output_type": "stream",
     "text": [
      "  0%|▏                                         | 4/1075 [00:00<00:28, 37.19it/s]"
     ]
    },
    {
     "name": "stdout",
     "output_type": "stream",
     "text": [
      "No face found. Continuing\n",
      "No face found. Continuing\n",
      "No face found. Continuing\n",
      "No face found. Continuing\n",
      "No face found. Continuing\n",
      "No face found. Continuing\n",
      "No face found. Continuing\n"
     ]
    },
    {
     "name": "stderr",
     "output_type": "stream",
     "text": [
      "\r",
      "  1%|▍                                        | 11/1075 [00:00<00:20, 51.95it/s]"
     ]
    },
    {
     "name": "stdout",
     "output_type": "stream",
     "text": [
      "No face found. Continuing\n",
      "No face found. Continuing\n",
      "No face found. Continuing\n",
      "No face found. Continuing\n",
      "No face found. Continuing\n"
     ]
    },
    {
     "name": "stderr",
     "output_type": "stream",
     "text": [
      "\r",
      "  2%|▋                                        | 17/1075 [00:00<00:20, 51.28it/s]"
     ]
    },
    {
     "name": "stdout",
     "output_type": "stream",
     "text": [
      "No face found. Continuing\n",
      "No face found. Continuing\n",
      "No face found. Continuing\n",
      "No face found. Continuing\n",
      "No face found. Continuing\n",
      "No face found. Continuing\n",
      "No face found. Continuing\n"
     ]
    },
    {
     "name": "stderr",
     "output_type": "stream",
     "text": [
      "\r",
      "  2%|▉                                        | 23/1075 [00:00<00:24, 42.33it/s]"
     ]
    },
    {
     "name": "stdout",
     "output_type": "stream",
     "text": [
      "No face found. Continuing\n",
      "No face found. Continuing\n",
      "No face found. Continuing\n",
      "No face found. Continuing\n",
      "No face found. Continuing\n",
      "No face found. Continuing\n",
      "No face found. Continuing\n",
      "No face found. Continuing\n",
      "No face found. Continuing\n"
     ]
    },
    {
     "name": "stderr",
     "output_type": "stream",
     "text": [
      "\r",
      "  3%|█▏                                       | 30/1075 [00:00<00:20, 49.82it/s]"
     ]
    },
    {
     "name": "stdout",
     "output_type": "stream",
     "text": [
      "No face found. Continuing\n",
      "No face found. Continuing\n",
      "No face found. Continuing\n",
      "No face found. Continuing\n"
     ]
    },
    {
     "name": "stderr",
     "output_type": "stream",
     "text": [
      "\r",
      "  3%|█▍                                       | 37/1075 [00:00<00:18, 55.27it/s]"
     ]
    },
    {
     "name": "stdout",
     "output_type": "stream",
     "text": [
      "No face found. Continuing\n",
      "No face found. Continuing\n",
      "No face found. Continuing\n",
      "No face found. Continuing\n",
      "No face found. Continuing\n",
      "No face found. Continuing\n",
      "No face found. Continuing\n",
      "No face found. Continuing\n",
      "No face found. Continuing\n",
      "No face found. Continuing\n"
     ]
    },
    {
     "name": "stderr",
     "output_type": "stream",
     "text": [
      "\r",
      "  4%|█▋                                       | 44/1075 [00:00<00:17, 59.32it/s]"
     ]
    },
    {
     "name": "stdout",
     "output_type": "stream",
     "text": [
      "No face found. Continuing\n",
      "No face found. Continuing\n",
      "No face found. Continuing\n",
      "No face found. Continuing\n"
     ]
    },
    {
     "name": "stderr",
     "output_type": "stream",
     "text": [
      "\r",
      "  5%|█▉                                       | 51/1075 [00:00<00:16, 62.22it/s]"
     ]
    },
    {
     "name": "stdout",
     "output_type": "stream",
     "text": [
      "No face found. Continuing\n",
      "No face found. Continuing\n",
      "No face found. Continuing\n",
      "No face found. Continuing\n",
      "No face found. Continuing\n",
      "chandler0.5748621031853032\n",
      "chandler\n",
      "No face found. Continuing\n",
      "No face found. Continuing\n",
      "No face found. Continuing\n"
     ]
    },
    {
     "name": "stderr",
     "output_type": "stream",
     "text": [
      "\r",
      "  5%|██▏                                      | 58/1075 [00:01<00:17, 58.05it/s]"
     ]
    },
    {
     "name": "stdout",
     "output_type": "stream",
     "text": [
      "No face found. Continuing\n",
      "No face found. Continuing\n",
      "chandler0.40058432429537294\n",
      "chandler\n"
     ]
    },
    {
     "name": "stderr",
     "output_type": "stream",
     "text": [
      "\r",
      "  6%|██▍                                      | 64/1075 [00:01<00:19, 52.13it/s]"
     ]
    },
    {
     "name": "stdout",
     "output_type": "stream",
     "text": [
      "monica0.45377107669119393\n",
      "monica\n",
      "monica0.4561936439771126\n",
      "monica\n",
      "monica0.43665058840716414\n",
      "monica\n",
      "No face found. Continuing\n",
      "No face found. Continuing\n",
      "chandler0.4294928348902516\n",
      "chandler\n",
      "monica0.3935351781702862\n",
      "monica\n",
      "monica0.368148435427247\n",
      "monica\n",
      "chandler0.401187251037059\n",
      "chandler\n",
      "monica0.36342016633838115\n",
      "monica\n",
      "chandler0.40285582238662093\n",
      "chandler\n"
     ]
    },
    {
     "name": "stderr",
     "output_type": "stream",
     "text": [
      "\r",
      "  7%|██▋                                      | 70/1075 [00:01<00:23, 42.57it/s]"
     ]
    },
    {
     "name": "stdout",
     "output_type": "stream",
     "text": [
      "monica0.36565337148633853\n",
      "monica\n",
      "chandler0.3917207110610592\n",
      "chandler\n",
      "monica0.4628268672092109\n",
      "monica\n",
      "monica0.49463883184895113\n",
      "monica\n",
      "monica0.3590482010588601\n",
      "monica\n",
      "monica0.35128433953259525\n",
      "monica\n",
      "monica0.36230550312241055\n",
      "monica\n",
      "chandler0.3238565087049708\n",
      "chandler\n",
      "monica0.3577763988554839\n",
      "monica\n",
      "chandler0.34573214175401595\n",
      "chandler\n",
      "monica0.3777492019013791\n",
      "monica\n",
      "chandler0.3510357536440334\n",
      "chandler\n"
     ]
    },
    {
     "name": "stderr",
     "output_type": "stream",
     "text": [
      "\r",
      "  7%|██▊                                      | 75/1075 [00:01<00:25, 38.71it/s]"
     ]
    },
    {
     "name": "stdout",
     "output_type": "stream",
     "text": [
      "monica0.3918551515424788\n",
      "monica\n",
      "monica0.34947133489002147\n",
      "monica\n",
      "monica0.3490329408023736\n",
      "monica\n",
      "monica0.3531532458219313\n",
      "monica\n",
      "No face found. Continuing\n"
     ]
    },
    {
     "name": "stderr",
     "output_type": "stream",
     "text": [
      "\r",
      "  8%|███                                      | 81/1075 [00:01<00:23, 42.69it/s]"
     ]
    },
    {
     "name": "stdout",
     "output_type": "stream",
     "text": [
      "No face found. Continuing\n",
      "No face found. Continuing\n",
      "No face found. Continuing\n",
      "No face found. Continuing\n",
      "No face found. Continuing\n",
      "No face found. Continuing\n",
      "No face found. Continuing\n"
     ]
    },
    {
     "name": "stderr",
     "output_type": "stream",
     "text": [
      "\r",
      "  8%|███▎                                     | 88/1075 [00:01<00:20, 48.73it/s]"
     ]
    },
    {
     "name": "stdout",
     "output_type": "stream",
     "text": [
      "No face found. Continuing\n",
      "No face found. Continuing\n",
      "No face found. Continuing\n",
      "No face found. Continuing\n",
      "monica0.3744342218581965\n",
      "monica\n",
      "chandler0.3516026577579873\n",
      "chandler\n"
     ]
    },
    {
     "name": "stderr",
     "output_type": "stream",
     "text": [
      "\r",
      "  9%|███▌                                     | 94/1075 [00:01<00:21, 46.33it/s]"
     ]
    },
    {
     "name": "stdout",
     "output_type": "stream",
     "text": [
      "chandler0.35524385796379643\n",
      "chandler\n",
      "chandler0.33303792419788697\n",
      "chandler\n",
      "chandler0.31964131194961515\n",
      "chandler\n",
      "chandler0.3406989362532281\n",
      "chandler\n"
     ]
    },
    {
     "name": "stderr",
     "output_type": "stream",
     "text": [
      "\r",
      "  9%|███▊                                     | 99/1075 [00:02<00:22, 44.32it/s]"
     ]
    },
    {
     "name": "stdout",
     "output_type": "stream",
     "text": [
      "monica0.29324714088528725\n",
      "monica\n",
      "chandler0.4027621319988453\n",
      "chandler\n",
      "chandler0.38258349194541147\n",
      "chandler\n",
      "chandler0.37837510895146387\n",
      "chandler\n",
      "chandler0.4065646906618442\n",
      "chandler\n",
      "chandler0.3926478918152473\n",
      "chandler\n",
      "chandler0.4178998247951915\n",
      "chandler\n",
      "chandler0.40865026631621354\n",
      "chandler\n"
     ]
    },
    {
     "name": "stderr",
     "output_type": "stream",
     "text": [
      "\r",
      " 10%|███▊                                    | 104/1075 [00:02<00:22, 42.92it/s]"
     ]
    },
    {
     "name": "stdout",
     "output_type": "stream",
     "text": [
      "chandler0.39232555769656785\n",
      "chandler\n",
      "chandler0.38758218186378635\n",
      "chandler\n",
      "chandler0.37985032783417566\n",
      "chandler\n",
      "chandler0.37670453368123136\n",
      "chandler\n"
     ]
    },
    {
     "name": "stderr",
     "output_type": "stream",
     "text": [
      "\r",
      " 10%|████                                    | 109/1075 [00:02<00:23, 41.61it/s]"
     ]
    },
    {
     "name": "stdout",
     "output_type": "stream",
     "text": [
      "chandler0.3789678340622547\n",
      "chandler\n",
      "chandler0.3417774444768305\n",
      "chandler\n",
      "chandler0.34899206238161856\n",
      "chandler\n",
      "chandler0.347541618000253\n",
      "chandler\n"
     ]
    },
    {
     "name": "stderr",
     "output_type": "stream",
     "text": [
      "\r",
      " 11%|████▏                                   | 114/1075 [00:02<00:23, 40.88it/s]"
     ]
    },
    {
     "name": "stdout",
     "output_type": "stream",
     "text": [
      "monica0.36606911058417096\n",
      "monica\n",
      "chandler0.3781229020325895\n",
      "chandler\n",
      "chandler0.38333720734716503\n",
      "chandler\n",
      "chandler0.3945130896622233\n",
      "chandler\n"
     ]
    },
    {
     "name": "stderr",
     "output_type": "stream",
     "text": [
      "\r",
      " 11%|████▍                                   | 119/1075 [00:02<00:23, 40.17it/s]"
     ]
    },
    {
     "name": "stdout",
     "output_type": "stream",
     "text": [
      "chandler0.35798986971368685\n",
      "chandler\n",
      "chandler0.3679721731736448\n",
      "chandler\n",
      "chandler0.355166507799693\n",
      "chandler\n",
      "chandler0.351104199962739\n",
      "chandler\n",
      "chandler0.35264205964042283\n",
      "chandler\n",
      "chandler0.3494093450319853\n",
      "chandler\n",
      "chandler0.3655408480290892\n",
      "chandler\n",
      "chandler0.37737310512431477\n",
      "chandler\n"
     ]
    },
    {
     "name": "stderr",
     "output_type": "stream",
     "text": [
      "\r",
      " 12%|████▌                                   | 124/1075 [00:02<00:23, 40.04it/s]"
     ]
    },
    {
     "name": "stdout",
     "output_type": "stream",
     "text": [
      "chandler0.3498666233539941\n",
      "chandler\n",
      "chandler0.4046094520800144\n",
      "chandler\n",
      "chandler0.4035176971754019\n",
      "chandler\n",
      "chandler0.4010375556146871\n",
      "chandler\n"
     ]
    },
    {
     "name": "stderr",
     "output_type": "stream",
     "text": [
      "\r",
      " 12%|████▊                                   | 129/1075 [00:02<00:23, 39.78it/s]"
     ]
    },
    {
     "name": "stdout",
     "output_type": "stream",
     "text": [
      "chandler0.35189571703592276\n",
      "chandler\n",
      "chandler0.3495727590127832\n",
      "chandler\n",
      "chandler0.34018493497016833\n",
      "chandler\n",
      "chandler0.3114808059174747\n",
      "chandler\n"
     ]
    },
    {
     "name": "stderr",
     "output_type": "stream",
     "text": [
      "\r",
      " 12%|████▉                                   | 133/1075 [00:02<00:23, 39.79it/s]"
     ]
    },
    {
     "name": "stdout",
     "output_type": "stream",
     "text": [
      "chandler0.34098944840263173\n",
      "chandler\n",
      "chandler0.35085936107051874\n",
      "chandler\n",
      "chandler0.4004569953155733\n",
      "chandler\n",
      "chandler0.38986419633562075\n",
      "chandler\n"
     ]
    },
    {
     "name": "stderr",
     "output_type": "stream",
     "text": [
      "\r",
      " 13%|█████                                   | 137/1075 [00:03<00:23, 39.77it/s]"
     ]
    },
    {
     "name": "stdout",
     "output_type": "stream",
     "text": [
      "chandler0.40004691519831315\n",
      "chandler\n",
      "chandler0.4174382090787079\n",
      "chandler\n",
      "chandler0.3256050635375216\n",
      "chandler\n",
      "chandler0.3283529962129428\n",
      "chandler\n"
     ]
    },
    {
     "name": "stderr",
     "output_type": "stream",
     "text": [
      "\r",
      " 13%|█████▏                                  | 141/1075 [00:03<00:23, 39.52it/s]"
     ]
    },
    {
     "name": "stdout",
     "output_type": "stream",
     "text": [
      "chandler0.343054497972789\n",
      "chandler\n",
      "monica0.3179819509919002\n",
      "monica\n",
      "monica0.35308994410779304\n",
      "monica\n",
      "monica0.3375144329172682\n",
      "monica\n"
     ]
    },
    {
     "name": "stderr",
     "output_type": "stream",
     "text": [
      "\r",
      " 13%|█████▍                                  | 145/1075 [00:03<00:23, 39.48it/s]"
     ]
    },
    {
     "name": "stdout",
     "output_type": "stream",
     "text": [
      "chandler0.30982754564554776\n",
      "chandler\n",
      "chandler0.32838878110798686\n",
      "chandler\n",
      "chandler0.35951712450819534\n",
      "chandler\n",
      "chandler0.3269003208576483\n",
      "chandler\n"
     ]
    },
    {
     "name": "stderr",
     "output_type": "stream",
     "text": [
      "\r",
      " 14%|█████▌                                  | 149/1075 [00:03<00:23, 39.19it/s]"
     ]
    },
    {
     "name": "stdout",
     "output_type": "stream",
     "text": [
      "chandler0.33582609004279756\n",
      "chandler\n",
      "chandler0.32601316776587835\n",
      "chandler\n",
      "chandler0.31975769089646705\n",
      "chandler\n",
      "chandler0.3122544815662344\n",
      "chandler\n"
     ]
    },
    {
     "name": "stderr",
     "output_type": "stream",
     "text": [
      "\r",
      " 14%|█████▋                                  | 153/1075 [00:03<00:23, 39.27it/s]"
     ]
    },
    {
     "name": "stdout",
     "output_type": "stream",
     "text": [
      "chandler0.3194250784109583\n",
      "chandler\n",
      "chandler0.3006989211611967\n",
      "chandler\n",
      "chandler0.3103131431990828\n",
      "chandler\n",
      "chandler0.3010270246162244\n",
      "chandler\n",
      "chandler0.45041107802937064\n",
      "chandler\n"
     ]
    },
    {
     "name": "stderr",
     "output_type": "stream",
     "text": [
      "\r",
      " 15%|█████▊                                  | 157/1075 [00:03<00:24, 36.98it/s]"
     ]
    },
    {
     "name": "stdout",
     "output_type": "stream",
     "text": [
      "chandler0.3136672283532331\n",
      "chandler\n",
      "chandler0.32437531787255997\n",
      "chandler\n",
      "joey0.3626909145815952\n",
      "joey\n",
      "chandler0.3955691025556124\n",
      "chandler\n",
      "chandler0.4810423465876534\n",
      "chandler\n"
     ]
    },
    {
     "name": "stderr",
     "output_type": "stream",
     "text": [
      "\r",
      " 15%|█████▉                                  | 161/1075 [00:03<00:27, 33.75it/s]"
     ]
    },
    {
     "name": "stdout",
     "output_type": "stream",
     "text": [
      "chandler0.3045424881602789\n",
      "chandler\n",
      "chandler0.4750181257358257\n",
      "chandler\n",
      "chandler0.3737828190114719\n",
      "chandler\n",
      "chandler0.45614040637898723\n",
      "chandler\n",
      "chandler0.29019365176533546\n",
      "chandler\n",
      "chandler0.4387742059460863\n",
      "chandler\n",
      "monica0.30208377784558144\n",
      "monica\n",
      "chandler0.4649916182177307\n",
      "chandler\n",
      "monica0.283083375999092\n",
      "monica\n",
      "monica0.287185614952934\n",
      "monica\n",
      "chandler0.5750250297769067\n",
      "chandler\n"
     ]
    },
    {
     "name": "stderr",
     "output_type": "stream",
     "text": [
      "\r",
      " 15%|██████▏                                 | 165/1075 [00:03<00:27, 32.57it/s]"
     ]
    },
    {
     "name": "stdout",
     "output_type": "stream",
     "text": [
      "chandler0.30753739075516623\n",
      "chandler\n",
      "chandler0.369791852054431\n",
      "chandler\n",
      "monica0.3468489970389311\n",
      "monica\n",
      "monica0.3937732124395373\n",
      "monica\n"
     ]
    },
    {
     "name": "stderr",
     "output_type": "stream",
     "text": [
      "\r",
      " 16%|██████▎                                 | 169/1075 [00:03<00:27, 33.10it/s]"
     ]
    },
    {
     "name": "stdout",
     "output_type": "stream",
     "text": [
      "monica0.3493640159476639\n",
      "monica\n",
      "chandler0.33412470882261375\n",
      "chandler\n",
      "monica0.3574353012152849\n",
      "monica\n"
     ]
    },
    {
     "name": "stderr",
     "output_type": "stream",
     "text": [
      "\r",
      " 16%|██████▍                                 | 173/1075 [00:04<00:26, 33.77it/s]"
     ]
    },
    {
     "name": "stdout",
     "output_type": "stream",
     "text": [
      "chandler0.3747236681190027\n",
      "chandler\n",
      "chandler0.38149367531503975\n",
      "chandler\n",
      "monica0.269206773588051\n",
      "monica\n",
      "chandler0.26443876446551556\n",
      "chandler\n",
      "monica0.28874309033734524\n",
      "monica\n",
      "monica0.31891553746175094\n",
      "monica\n"
     ]
    },
    {
     "name": "stderr",
     "output_type": "stream",
     "text": [
      "\r",
      " 16%|██████▌                                 | 177/1075 [00:04<00:25, 35.38it/s]"
     ]
    },
    {
     "name": "stdout",
     "output_type": "stream",
     "text": [
      "monica0.3332186248394536\n",
      "monica\n",
      "chandler0.3416150609661499\n",
      "chandler\n",
      "monica0.31553362483572706\n",
      "monica\n"
     ]
    },
    {
     "name": "stderr",
     "output_type": "stream",
     "text": [
      "\r",
      " 17%|██████▋                                 | 181/1075 [00:04<00:24, 36.46it/s]"
     ]
    },
    {
     "name": "stdout",
     "output_type": "stream",
     "text": [
      "monica0.31120722108678983\n",
      "monica\n",
      "monica0.3303837691476734\n",
      "monica\n",
      "chandler0.35299478259299966\n",
      "chandler\n",
      "chandler0.3416337925539177\n",
      "chandler\n",
      "chandler0.3428872806330509\n",
      "chandler\n"
     ]
    },
    {
     "name": "stderr",
     "output_type": "stream",
     "text": [
      "\r",
      " 17%|██████▉                                 | 185/1075 [00:04<00:23, 37.18it/s]"
     ]
    },
    {
     "name": "stdout",
     "output_type": "stream",
     "text": [
      "chandler0.3207268188794161\n",
      "chandler\n",
      "chandler0.3372873813060536\n",
      "chandler\n",
      "monica0.35042289426240336\n",
      "monica\n"
     ]
    },
    {
     "name": "stderr",
     "output_type": "stream",
     "text": [
      "\r",
      " 18%|███████                                 | 189/1075 [00:04<00:23, 37.81it/s]"
     ]
    },
    {
     "name": "stdout",
     "output_type": "stream",
     "text": [
      "chandler0.3188417693152643\n",
      "chandler\n",
      "chandler0.32084541714757686\n",
      "chandler\n",
      "monica0.28827204965817227\n",
      "monica\n",
      "monica0.3433697185936059\n",
      "monica\n",
      "monica0.35524357737434464\n",
      "monica\n"
     ]
    },
    {
     "name": "stderr",
     "output_type": "stream",
     "text": [
      "\r",
      " 18%|███████▏                                | 193/1075 [00:04<00:23, 38.21it/s]"
     ]
    },
    {
     "name": "stdout",
     "output_type": "stream",
     "text": [
      "monica0.35310362081827396\n",
      "monica\n",
      "chandler0.2992446693828105\n",
      "chandler\n",
      "chandler0.3485813229756276\n",
      "chandler\n"
     ]
    },
    {
     "name": "stderr",
     "output_type": "stream",
     "text": [
      "\r",
      " 18%|███████▎                                | 197/1075 [00:04<00:22, 38.62it/s]"
     ]
    },
    {
     "name": "stdout",
     "output_type": "stream",
     "text": [
      "chandler0.3470601755440762\n",
      "chandler\n",
      "chandler0.353861378386352\n",
      "chandler\n",
      "chandler0.38275908106588774\n",
      "chandler\n",
      "chandler0.372520965164982\n",
      "chandler\n",
      "chandler0.34199483658252355\n",
      "chandler\n",
      "joey0.3365918128131415\n",
      "joey\n"
     ]
    },
    {
     "name": "stderr",
     "output_type": "stream",
     "text": [
      "\r",
      " 19%|███████▍                                | 201/1075 [00:04<00:23, 37.63it/s]"
     ]
    },
    {
     "name": "stdout",
     "output_type": "stream",
     "text": [
      "chandler0.3238611047728814\n",
      "chandler\n",
      "chandler0.3364062570014503\n",
      "chandler\n",
      "chandler0.31910724878556074\n",
      "chandler\n"
     ]
    },
    {
     "name": "stderr",
     "output_type": "stream",
     "text": [
      "\r",
      " 19%|███████▋                                | 205/1075 [00:04<00:22, 38.11it/s]"
     ]
    },
    {
     "name": "stdout",
     "output_type": "stream",
     "text": [
      "chandler0.3666847153038481\n",
      "chandler\n",
      "chandler0.3302309392927322\n",
      "chandler\n",
      "chandler0.3157845888196175\n",
      "chandler\n",
      "monica0.3114516422877289\n",
      "monica\n",
      "monica0.3207483305016889\n",
      "monica\n"
     ]
    },
    {
     "name": "stderr",
     "output_type": "stream",
     "text": [
      "\r",
      " 19%|███████▊                                | 209/1075 [00:04<00:22, 38.44it/s]"
     ]
    },
    {
     "name": "stdout",
     "output_type": "stream",
     "text": [
      "monica0.32248113474791784\n",
      "monica\n",
      "monica0.3462216288066198\n",
      "monica\n",
      "chandler0.32172929077333473\n",
      "chandler\n"
     ]
    },
    {
     "name": "stderr",
     "output_type": "stream",
     "text": [
      "\r",
      " 20%|███████▉                                | 213/1075 [00:05<00:22, 38.58it/s]"
     ]
    },
    {
     "name": "stdout",
     "output_type": "stream",
     "text": [
      "chandler0.4901520996857937\n",
      "chandler\n",
      "chandler0.45537359543587974\n",
      "chandler\n",
      "chandler0.45748432573722764\n",
      "chandler\n",
      "chandler0.4422009200819107\n",
      "chandler\n",
      "chandler0.419829151367687\n",
      "chandler\n"
     ]
    },
    {
     "name": "stderr",
     "output_type": "stream",
     "text": [
      "\r",
      " 20%|████████                                | 217/1075 [00:05<00:22, 38.80it/s]"
     ]
    },
    {
     "name": "stdout",
     "output_type": "stream",
     "text": [
      "chandler0.42904920642255984\n",
      "chandler\n",
      "chandler0.4292841203549035\n",
      "chandler\n",
      "chandler0.44449216618500886\n",
      "chandler\n"
     ]
    },
    {
     "name": "stderr",
     "output_type": "stream",
     "text": [
      "\r",
      " 21%|████████▏                               | 221/1075 [00:05<00:21, 38.89it/s]"
     ]
    },
    {
     "name": "stdout",
     "output_type": "stream",
     "text": [
      "chandler0.44628292388583873\n",
      "chandler\n",
      "chandler0.4314035873604496\n",
      "chandler\n",
      "chandler0.44732585475092257\n",
      "chandler\n",
      "chandler0.44117962034462394\n",
      "chandler\n",
      "chandler0.45432446699771306\n",
      "chandler\n"
     ]
    },
    {
     "name": "stderr",
     "output_type": "stream",
     "text": [
      "\r",
      " 21%|████████▎                               | 225/1075 [00:05<00:21, 38.86it/s]"
     ]
    },
    {
     "name": "stdout",
     "output_type": "stream",
     "text": [
      "chandler0.44414806915766564\n",
      "chandler\n",
      "chandler0.3457488570331708\n",
      "chandler\n",
      "chandler0.33901741021588494\n",
      "chandler\n"
     ]
    },
    {
     "name": "stderr",
     "output_type": "stream",
     "text": [
      "\r",
      " 21%|████████▌                               | 229/1075 [00:05<00:21, 38.98it/s]"
     ]
    },
    {
     "name": "stdout",
     "output_type": "stream",
     "text": [
      "chandler0.3164187684838637\n",
      "chandler\n",
      "chandler0.33212096241344874\n",
      "chandler\n",
      "chandler0.3394325069810425\n",
      "chandler\n",
      "chandler0.31396927710134975\n",
      "chandler\n",
      "chandler0.3231929654437109\n",
      "chandler\n"
     ]
    },
    {
     "name": "stderr",
     "output_type": "stream",
     "text": [
      "\r",
      " 22%|████████▋                               | 233/1075 [00:05<00:21, 39.24it/s]"
     ]
    },
    {
     "name": "stdout",
     "output_type": "stream",
     "text": [
      "chandler0.33562276518045564\n",
      "chandler\n",
      "chandler0.327912942631558\n",
      "chandler\n",
      "chandler0.33312907768535893\n",
      "chandler\n",
      "chandler0.31734346911210054\n",
      "chandler\n"
     ]
    },
    {
     "name": "stderr",
     "output_type": "stream",
     "text": [
      "\r",
      " 22%|████████▊                               | 238/1075 [00:05<00:21, 39.54it/s]"
     ]
    },
    {
     "name": "stdout",
     "output_type": "stream",
     "text": [
      "chandler0.3417664826890208\n",
      "chandler\n",
      "chandler0.3104991476225583\n",
      "chandler\n",
      "chandler0.3092568047971185\n",
      "chandler\n",
      "chandler0.30304430206376726\n",
      "chandler\n",
      "chandler0.318237027763887\n",
      "chandler\n"
     ]
    },
    {
     "name": "stderr",
     "output_type": "stream",
     "text": [
      "\r",
      " 23%|█████████                               | 242/1075 [00:05<00:21, 39.64it/s]"
     ]
    },
    {
     "name": "stdout",
     "output_type": "stream",
     "text": [
      "monica0.2988046912085443\n",
      "monica\n",
      "chandler0.29343216521262816\n",
      "chandler\n",
      "chandler0.3318774898132537\n",
      "chandler\n",
      "chandler0.33638803579858473\n",
      "chandler\n"
     ]
    },
    {
     "name": "stderr",
     "output_type": "stream",
     "text": [
      "\r",
      " 23%|█████████▏                              | 246/1075 [00:05<00:20, 39.61it/s]"
     ]
    },
    {
     "name": "stdout",
     "output_type": "stream",
     "text": [
      "chandler0.33941904693303077\n",
      "chandler\n",
      "chandler0.3369175482937997\n",
      "chandler\n",
      "chandler0.347199998229503\n",
      "chandler\n",
      "chandler0.3601882370312742\n",
      "chandler\n",
      "chandler0.36291131480203676\n",
      "chandler\n"
     ]
    },
    {
     "name": "stderr",
     "output_type": "stream",
     "text": [
      "\r",
      " 23%|█████████▎                              | 251/1075 [00:06<00:20, 39.77it/s]"
     ]
    },
    {
     "name": "stdout",
     "output_type": "stream",
     "text": [
      "chandler0.3917391633243298\n",
      "chandler\n",
      "chandler0.3726851354398269\n",
      "chandler\n",
      "chandler0.3719813704833829\n",
      "chandler\n",
      "chandler0.34789216607711043\n",
      "chandler\n"
     ]
    },
    {
     "name": "stderr",
     "output_type": "stream",
     "text": [
      "\r",
      " 24%|█████████▍                              | 255/1075 [00:06<00:20, 39.82it/s]"
     ]
    },
    {
     "name": "stdout",
     "output_type": "stream",
     "text": [
      "chandler0.35580056320704895\n",
      "chandler\n",
      "chandler0.334323648987058\n",
      "chandler\n",
      "chandler0.333619426543627\n",
      "chandler\n",
      "monica0.33358064581137864\n",
      "monica\n"
     ]
    },
    {
     "name": "stderr",
     "output_type": "stream",
     "text": [
      "\r",
      " 24%|█████████▋                              | 259/1075 [00:06<00:20, 39.61it/s]"
     ]
    },
    {
     "name": "stdout",
     "output_type": "stream",
     "text": [
      "monica0.32543028208078345\n",
      "monica\n",
      "chandler0.33927967587018204\n",
      "chandler\n",
      "chandler0.32393685222396096\n",
      "chandler\n",
      "chandler0.3303675608191161\n",
      "chandler\n"
     ]
    },
    {
     "name": "stderr",
     "output_type": "stream",
     "text": [
      "\r",
      " 24%|█████████▊                              | 263/1075 [00:06<00:20, 39.31it/s]"
     ]
    },
    {
     "name": "stdout",
     "output_type": "stream",
     "text": [
      "chandler0.320202680078219\n",
      "chandler\n",
      "monica0.3295705395422138\n",
      "monica\n",
      "monica0.3236877478465978\n",
      "monica\n",
      "chandler0.36180527574386867\n",
      "chandler\n"
     ]
    },
    {
     "name": "stderr",
     "output_type": "stream",
     "text": [
      "\r",
      " 25%|█████████▉                              | 267/1075 [00:06<00:20, 39.30it/s]"
     ]
    },
    {
     "name": "stdout",
     "output_type": "stream",
     "text": [
      "monica0.32699601574649756\n",
      "monica\n",
      "monica0.31404642029488555\n",
      "monica\n",
      "chandler0.3106838153012618\n",
      "chandler\n",
      "chandler0.3185835109026201\n",
      "chandler\n"
     ]
    },
    {
     "name": "stderr",
     "output_type": "stream",
     "text": [
      "\r",
      " 25%|██████████                              | 271/1075 [00:06<00:20, 39.43it/s]"
     ]
    },
    {
     "name": "stdout",
     "output_type": "stream",
     "text": [
      "chandler0.321526289272363\n",
      "chandler\n",
      "chandler0.3315107533313145\n",
      "chandler\n",
      "chandler0.3221483952172598\n",
      "chandler\n",
      "chandler0.30647499477102935\n",
      "chandler\n"
     ]
    },
    {
     "name": "stderr",
     "output_type": "stream",
     "text": [
      "\r",
      " 26%|██████████▏                             | 275/1075 [00:06<00:20, 39.51it/s]"
     ]
    },
    {
     "name": "stdout",
     "output_type": "stream",
     "text": [
      "chandler0.29527561804206043\n",
      "chandler\n",
      "chandler0.3187535175935236\n",
      "chandler\n",
      "chandler0.32697823816822913\n",
      "chandler\n",
      "chandler0.33042287617299493\n",
      "chandler\n"
     ]
    },
    {
     "name": "stderr",
     "output_type": "stream",
     "text": [
      "\r",
      " 26%|██████████▍                             | 279/1075 [00:06<00:20, 39.60it/s]"
     ]
    },
    {
     "name": "stdout",
     "output_type": "stream",
     "text": [
      "chandler0.3460877808243734\n",
      "chandler\n",
      "chandler0.38612310353390045\n",
      "chandler\n",
      "chandler0.395286302320835\n",
      "chandler\n",
      "chandler0.31855039769025334\n",
      "chandler\n",
      "monica0.3765580603833184\n",
      "monica\n"
     ]
    },
    {
     "name": "stderr",
     "output_type": "stream",
     "text": [
      "\r",
      " 26%|██████████▌                             | 284/1075 [00:06<00:19, 39.79it/s]"
     ]
    },
    {
     "name": "stdout",
     "output_type": "stream",
     "text": [
      "monica0.37023337435741305\n",
      "monica\n",
      "chandler0.3578699971352116\n",
      "chandler\n",
      "monica0.34614578441059884\n",
      "monica\n",
      "chandler0.3641888981329987\n",
      "chandler\n"
     ]
    },
    {
     "name": "stderr",
     "output_type": "stream",
     "text": [
      "\r",
      " 27%|██████████▋                             | 288/1075 [00:07<00:20, 38.80it/s]"
     ]
    },
    {
     "name": "stdout",
     "output_type": "stream",
     "text": [
      "monica0.33621341287912676\n",
      "monica\n",
      "chandler0.38758702718462434\n",
      "chandler\n",
      "chandler0.3708554043781946\n",
      "chandler\n",
      "chandler0.3342096421260506\n",
      "chandler\n",
      "chandler0.35990043337642547\n",
      "chandler\n",
      "joey0.3421007052987693\n",
      "joey\n"
     ]
    },
    {
     "name": "stderr",
     "output_type": "stream",
     "text": [
      "\r",
      " 27%|██████████▊                             | 292/1075 [00:07<00:22, 34.75it/s]"
     ]
    },
    {
     "name": "stdout",
     "output_type": "stream",
     "text": [
      "chandler0.36360906622898936\n",
      "chandler\n",
      "joey0.33950291332929033\n",
      "joey\n",
      "chandler0.36517842389649197\n",
      "chandler\n",
      "chandler0.4122244805520724\n",
      "chandler\n",
      "chandler0.39461542067996047\n",
      "chandler\n",
      "chandler0.6363765670616015\n",
      "chandler\n"
     ]
    },
    {
     "name": "stderr",
     "output_type": "stream",
     "text": [
      "\r",
      " 28%|███████████                             | 296/1075 [00:07<00:24, 32.42it/s]"
     ]
    },
    {
     "name": "stdout",
     "output_type": "stream",
     "text": [
      "chandler0.3734973618962259\n",
      "chandler\n",
      "chandler0.6173696119986167\n",
      "chandler\n",
      "chandler0.3714075281069325\n",
      "chandler\n",
      "chandler0.6391207142576333\n",
      "chandler\n",
      "chandler0.3493197308502953\n",
      "chandler\n",
      "chandler0.4041385270262243\n",
      "chandler\n",
      "chandler0.35618786110856687\n",
      "chandler\n",
      "chandler0.39891429287895824\n",
      "chandler\n",
      "chandler0.36507962868502997\n",
      "chandler\n",
      "chandler0.48924244377975834\n",
      "chandler\n",
      "chandler0.34573587491953417\n",
      "chandler\n",
      "chandler0.7165364221776843\n",
      "chandler\n"
     ]
    },
    {
     "name": "stderr",
     "output_type": "stream",
     "text": [
      "\r",
      " 28%|███████████▏                            | 300/1075 [00:07<00:25, 30.71it/s]"
     ]
    },
    {
     "name": "stdout",
     "output_type": "stream",
     "text": [
      "chandler0.3515090769337087\n",
      "chandler\n",
      "chandler0.7117537635037565\n",
      "chandler\n",
      "chandler0.3442837150360956\n",
      "chandler\n",
      "chandler0.7220765323524696\n",
      "chandler\n",
      "chandler0.37485470623385364\n",
      "chandler\n",
      "chandler0.6747450669777393\n",
      "chandler\n"
     ]
    },
    {
     "name": "stderr",
     "output_type": "stream",
     "text": [
      "\r",
      " 28%|███████████▎                            | 304/1075 [00:07<00:25, 29.81it/s]"
     ]
    },
    {
     "name": "stdout",
     "output_type": "stream",
     "text": [
      "chandler0.36404242079187193\n",
      "chandler\n",
      "chandler0.6281143448690439\n",
      "chandler\n",
      "chandler0.32579777438018404\n",
      "chandler\n",
      "chandler0.3900590052924865\n",
      "chandler\n",
      "chandler0.37332083666124005\n",
      "chandler\n",
      "chandler0.6303847697461142\n",
      "chandler\n"
     ]
    },
    {
     "name": "stderr",
     "output_type": "stream",
     "text": [
      "\r",
      " 29%|███████████▍                            | 308/1075 [00:07<00:26, 29.09it/s]"
     ]
    },
    {
     "name": "stdout",
     "output_type": "stream",
     "text": [
      "chandler0.36363116639650966\n",
      "chandler\n",
      "chandler0.6527208387623986\n",
      "chandler\n",
      "chandler0.35905205311059407\n",
      "chandler\n",
      "chandler0.40720767168944066\n",
      "chandler\n",
      "chandler0.3917158047872409\n",
      "chandler\n",
      "chandler0.6440219148006\n",
      "chandler\n"
     ]
    },
    {
     "name": "stderr",
     "output_type": "stream",
     "text": [
      "\r",
      " 29%|███████████▌                            | 311/1075 [00:07<00:26, 28.70it/s]"
     ]
    },
    {
     "name": "stdout",
     "output_type": "stream",
     "text": [
      "chandler0.3803868118878535\n",
      "chandler\n",
      "chandler0.6572815518095735\n",
      "chandler\n",
      "chandler0.3804926138606219\n",
      "chandler\n",
      "chandler0.4944824924808016\n",
      "chandler\n",
      "chandler0.37708507296982724\n",
      "chandler\n",
      "chandler0.5134907974109372\n",
      "chandler\n"
     ]
    },
    {
     "name": "stderr",
     "output_type": "stream",
     "text": [
      "\r",
      " 29%|███████████▋                            | 314/1075 [00:07<00:26, 28.30it/s]"
     ]
    },
    {
     "name": "stdout",
     "output_type": "stream",
     "text": [
      "chandler0.3525068611029612\n",
      "chandler\n",
      "chandler0.515869487742997\n",
      "chandler\n",
      "chandler0.35238308956733877\n",
      "chandler\n",
      "chandler0.4991065612357581\n",
      "chandler\n",
      "chandler0.3624890717095085\n",
      "chandler\n",
      "chandler0.5200699331111058\n",
      "chandler\n"
     ]
    },
    {
     "name": "stderr",
     "output_type": "stream",
     "text": [
      "\r",
      " 29%|███████████▊                            | 317/1075 [00:08<00:26, 28.10it/s]"
     ]
    },
    {
     "name": "stdout",
     "output_type": "stream",
     "text": [
      "chandler0.33012597274210237\n",
      "chandler\n",
      "chandler0.571035026824354\n",
      "chandler\n",
      "chandler0.33413348787315683\n",
      "chandler\n",
      "chandler0.5465185546201456\n",
      "chandler\n",
      "chandler0.3305825156131272\n",
      "chandler\n",
      "chandler0.5632499236803039\n",
      "chandler\n"
     ]
    },
    {
     "name": "stderr",
     "output_type": "stream",
     "text": [
      "\r",
      " 30%|███████████▉                            | 320/1075 [00:08<00:27, 27.88it/s]"
     ]
    },
    {
     "name": "stdout",
     "output_type": "stream",
     "text": [
      "chandler0.316613968316603\n",
      "chandler\n",
      "chandler0.4804231155638559\n",
      "chandler\n",
      "chandler0.31867118924952914\n",
      "chandler\n",
      "chandler0.47675947938988783\n",
      "chandler\n",
      "chandler0.3405088764091514\n",
      "chandler\n",
      "chandler0.5306587564126971\n",
      "chandler\n"
     ]
    },
    {
     "name": "stderr",
     "output_type": "stream",
     "text": [
      "\r",
      " 30%|████████████                            | 323/1075 [00:08<00:27, 27.80it/s]"
     ]
    },
    {
     "name": "stdout",
     "output_type": "stream",
     "text": [
      "chandler0.3670297494016719\n",
      "chandler\n",
      "chandler0.35919649542748594\n",
      "chandler\n",
      "chandler0.3698005089617679\n",
      "chandler\n",
      "chandler0.3813644798990795\n",
      "chandler\n",
      "chandler0.3514142011323759\n",
      "chandler\n",
      "joey0.36917346321607475\n",
      "joey\n"
     ]
    },
    {
     "name": "stderr",
     "output_type": "stream",
     "text": [
      "\r",
      " 30%|████████████▏                           | 326/1075 [00:08<00:27, 26.92it/s]"
     ]
    },
    {
     "name": "stdout",
     "output_type": "stream",
     "text": [
      "chandler0.3497484731258444\n",
      "chandler\n",
      "chandler0.5144496855392784\n",
      "chandler\n",
      "chandler0.3766885454389523\n",
      "chandler\n",
      "chandler0.48941185358948663\n",
      "chandler\n",
      "chandler0.37369356865370307\n",
      "chandler\n",
      "chandler0.3751085759916957\n",
      "chandler\n"
     ]
    },
    {
     "name": "stderr",
     "output_type": "stream",
     "text": [
      "\r",
      " 31%|████████████▏                           | 329/1075 [00:08<00:27, 27.02it/s]"
     ]
    },
    {
     "name": "stdout",
     "output_type": "stream",
     "text": [
      "chandler0.3989478830885935\n",
      "chandler\n",
      "joey0.4144515335911006\n",
      "joey\n",
      "chandler0.39454691854093804\n",
      "chandler\n",
      "joey0.4107418018830323\n",
      "joey\n",
      "chandler0.38653239322705035\n",
      "chandler\n",
      "joey0.4187686639462902\n",
      "joey\n"
     ]
    },
    {
     "name": "stderr",
     "output_type": "stream",
     "text": [
      "\r",
      " 31%|████████████▎                           | 332/1075 [00:08<00:27, 27.20it/s]"
     ]
    },
    {
     "name": "stdout",
     "output_type": "stream",
     "text": [
      "chandler0.34532382908164655\n",
      "chandler\n",
      "chandler0.4393162366998951\n",
      "chandler\n",
      "chandler0.3864222848653823\n",
      "chandler\n",
      "chandler0.4292258483401742\n",
      "chandler\n",
      "chandler0.38048955409836993\n",
      "chandler\n",
      "chandler0.42267432300521046\n",
      "chandler\n"
     ]
    },
    {
     "name": "stderr",
     "output_type": "stream",
     "text": [
      "\r",
      " 31%|████████████▍                           | 335/1075 [00:08<00:27, 27.39it/s]"
     ]
    },
    {
     "name": "stdout",
     "output_type": "stream",
     "text": [
      "chandler0.3537633361703102\n",
      "chandler\n",
      "chandler0.47977509892564657\n",
      "chandler\n",
      "chandler0.34923896104092356\n",
      "chandler\n",
      "chandler0.4479442537801376\n",
      "chandler\n",
      "chandler0.40131704556160813\n",
      "chandler\n",
      "chandler0.5175499907707106\n",
      "chandler\n"
     ]
    },
    {
     "name": "stderr",
     "output_type": "stream",
     "text": [
      "\r",
      " 31%|████████████▌                           | 338/1075 [00:08<00:26, 27.42it/s]"
     ]
    },
    {
     "name": "stdout",
     "output_type": "stream",
     "text": [
      "chandler0.3878061211927343\n",
      "chandler\n",
      "chandler0.49788758331553135\n",
      "chandler\n",
      "chandler0.38620464655984504\n",
      "chandler\n",
      "chandler0.6930403949442021\n",
      "chandler\n",
      "chandler0.38537739769169566\n",
      "chandler\n",
      "chandler0.6183254018344567\n",
      "chandler\n"
     ]
    },
    {
     "name": "stderr",
     "output_type": "stream",
     "text": [
      "\r",
      " 32%|████████████▋                           | 341/1075 [00:08<00:26, 27.35it/s]"
     ]
    },
    {
     "name": "stdout",
     "output_type": "stream",
     "text": [
      "chandler0.3890782613454928\n",
      "chandler\n",
      "chandler0.7507652905957436\n",
      "chandler\n",
      "chandler0.40107437559888154\n",
      "chandler\n",
      "chandler0.727602191480007\n",
      "chandler\n",
      "chandler0.4169275992462961\n",
      "chandler\n",
      "chandler0.8397301796283879\n",
      "chandler\n"
     ]
    },
    {
     "name": "stderr",
     "output_type": "stream",
     "text": [
      "\r",
      " 32%|████████████▊                           | 344/1075 [00:09<00:26, 27.46it/s]"
     ]
    },
    {
     "name": "stdout",
     "output_type": "stream",
     "text": [
      "chandler0.40696422952797284\n",
      "chandler\n",
      "chandler0.7256612600269162\n",
      "chandler\n",
      "chandler0.42937678713190713\n",
      "chandler\n",
      "chandler0.6982523858322366\n",
      "chandler\n",
      "chandler0.4396878375423195\n",
      "chandler\n",
      "chandler0.6781470293303339\n",
      "chandler\n"
     ]
    },
    {
     "name": "stderr",
     "output_type": "stream",
     "text": [
      "\r",
      " 32%|████████████▉                           | 347/1075 [00:09<00:26, 27.53it/s]"
     ]
    },
    {
     "name": "stdout",
     "output_type": "stream",
     "text": [
      "chandler0.41598876656976363\n",
      "chandler\n",
      "chandler0.6797716867485876\n",
      "chandler\n",
      "chandler0.3784504950664193\n",
      "chandler\n",
      "chandler0.5730164313677597\n",
      "chandler\n",
      "chandler0.35190387444551674\n",
      "chandler\n",
      "chandler0.6917609784119473\n",
      "chandler\n"
     ]
    },
    {
     "name": "stderr",
     "output_type": "stream",
     "text": [
      "\r",
      " 33%|█████████████                           | 350/1075 [00:09<00:26, 27.51it/s]"
     ]
    },
    {
     "name": "stdout",
     "output_type": "stream",
     "text": [
      "monica0.31721599210695334\n",
      "monica\n",
      "chandler0.8563571354382599\n",
      "chandler\n",
      "chandler0.30941138102481885\n",
      "chandler\n",
      "chandler0.8831013016738465\n",
      "chandler\n",
      "chandler0.3014909449444919\n",
      "chandler\n",
      "chandler0.7308531370068356\n",
      "chandler\n"
     ]
    },
    {
     "name": "stderr",
     "output_type": "stream",
     "text": [
      "\r",
      " 33%|█████████████▏                          | 353/1075 [00:09<00:26, 27.48it/s]"
     ]
    },
    {
     "name": "stdout",
     "output_type": "stream",
     "text": [
      "chandler0.3014688314552897\n",
      "chandler\n",
      "chandler0.8742685391373781\n",
      "chandler\n",
      "chandler0.3163449010606329\n",
      "chandler\n",
      "chandler0.7424129232884208\n",
      "chandler\n",
      "monica0.3032592118171215\n",
      "monica\n",
      "chandler0.8562672262835888\n",
      "chandler\n"
     ]
    },
    {
     "name": "stderr",
     "output_type": "stream",
     "text": [
      "\r",
      " 33%|█████████████▏                          | 356/1075 [00:09<00:26, 27.60it/s]"
     ]
    },
    {
     "name": "stdout",
     "output_type": "stream",
     "text": [
      "chandler0.31142204832557296\n",
      "chandler\n",
      "chandler0.8260921330989359\n",
      "chandler\n",
      "monica0.3237832225642459\n",
      "monica\n",
      "chandler0.8586895781145194\n",
      "chandler\n",
      "monica0.30476720205552854\n",
      "monica\n",
      "chandler0.8623431340193647\n",
      "chandler\n"
     ]
    },
    {
     "name": "stderr",
     "output_type": "stream",
     "text": [
      "\r",
      " 33%|█████████████▎                          | 359/1075 [00:09<00:25, 27.68it/s]"
     ]
    },
    {
     "name": "stdout",
     "output_type": "stream",
     "text": [
      "monica0.2934954758696414\n",
      "monica\n",
      "chandler0.8526736460186313\n",
      "chandler\n",
      "monica0.3129279398123662\n",
      "monica\n",
      "chandler0.8698325453553282\n",
      "chandler\n",
      "monica0.31999901058437663\n",
      "monica\n",
      "chandler0.8461043571203551\n",
      "chandler\n"
     ]
    },
    {
     "name": "stderr",
     "output_type": "stream",
     "text": [
      "\r",
      " 34%|█████████████▍                          | 362/1075 [00:09<00:25, 27.57it/s]"
     ]
    },
    {
     "name": "stdout",
     "output_type": "stream",
     "text": [
      "monica0.32175121253764327\n",
      "monica\n",
      "chandler0.8468608951471112\n",
      "chandler\n",
      "monica0.3286823061776559\n",
      "monica\n",
      "chandler0.8533350651053833\n",
      "chandler\n",
      "monica0.33060055421628615\n",
      "monica\n",
      "chandler0.871902921325473\n",
      "chandler\n"
     ]
    },
    {
     "name": "stderr",
     "output_type": "stream",
     "text": [
      "\r",
      " 34%|█████████████▌                          | 365/1075 [00:09<00:25, 27.72it/s]"
     ]
    },
    {
     "name": "stdout",
     "output_type": "stream",
     "text": [
      "monica0.33158028747243196\n",
      "monica\n",
      "chandler0.8842693186968097\n",
      "chandler\n",
      "monica0.34000542902688186\n",
      "monica\n",
      "chandler0.8376120142121277\n",
      "chandler\n",
      "chandler0.3169893056796195\n",
      "chandler\n",
      "chandler0.80553499379648\n",
      "chandler\n"
     ]
    },
    {
     "name": "stderr",
     "output_type": "stream",
     "text": [
      "\r",
      " 34%|█████████████▋                          | 368/1075 [00:09<00:25, 27.84it/s]"
     ]
    },
    {
     "name": "stdout",
     "output_type": "stream",
     "text": [
      "chandler0.30517050213422087\n",
      "chandler\n",
      "chandler0.7973863729575789\n",
      "chandler\n",
      "chandler0.290204950646813\n",
      "chandler\n",
      "chandler0.8187196519782028\n",
      "chandler\n",
      "monica0.3107603082843147\n",
      "monica\n",
      "chandler0.6978429796070915\n",
      "chandler\n"
     ]
    },
    {
     "name": "stderr",
     "output_type": "stream",
     "text": [
      "\r",
      " 35%|█████████████▊                          | 371/1075 [00:10<00:25, 27.93it/s]"
     ]
    },
    {
     "name": "stdout",
     "output_type": "stream",
     "text": [
      "monica0.30826829830885666\n",
      "monica\n",
      "chandler0.7084848452358914\n",
      "chandler\n",
      "chandler0.31171064758055994\n",
      "chandler\n",
      "chandler0.6065754947979315\n",
      "chandler\n",
      "chandler0.3320422857750503\n",
      "chandler\n",
      "chandler0.6735726874127378\n",
      "chandler\n"
     ]
    },
    {
     "name": "stderr",
     "output_type": "stream",
     "text": [
      "\r",
      " 35%|█████████████▉                          | 375/1075 [00:10<00:23, 29.35it/s]"
     ]
    },
    {
     "name": "stdout",
     "output_type": "stream",
     "text": [
      "chandler0.3696298657677973\n",
      "chandler\n",
      "chandler0.6833085614605728\n",
      "chandler\n",
      "chandler0.3416799670340064\n",
      "chandler\n",
      "chandler0.6932867950706636\n",
      "chandler\n",
      "monica0.9759670437220471\n",
      "monica\n",
      "monica0.9788125189051985\n",
      "monica\n",
      "monica0.979111409623944\n",
      "monica\n",
      "monica0.9791238003527368\n",
      "monica\n",
      "monica0.9778547595753586\n",
      "monica\n",
      "monica0.9784551964202866\n",
      "monica\n"
     ]
    },
    {
     "name": "stderr",
     "output_type": "stream",
     "text": [
      "\r",
      " 35%|██████████████▏                         | 380/1075 [00:10<00:21, 32.80it/s]"
     ]
    },
    {
     "name": "stdout",
     "output_type": "stream",
     "text": [
      "monica0.9472168466372426\n",
      "monica\n",
      "monica0.9719804196431208\n",
      "monica\n",
      "monica0.9710802977153933\n",
      "monica\n",
      "monica0.9724392869522922\n",
      "monica\n"
     ]
    },
    {
     "name": "stderr",
     "output_type": "stream",
     "text": [
      "\r",
      " 36%|██████████████▎                         | 384/1075 [00:10<00:20, 34.52it/s]"
     ]
    },
    {
     "name": "stdout",
     "output_type": "stream",
     "text": [
      "monica0.9672292859068748\n",
      "monica\n",
      "monica0.9675476720335295\n",
      "monica\n",
      "monica0.9503837888906735\n",
      "monica\n",
      "monica0.9637833990682031\n",
      "monica\n"
     ]
    },
    {
     "name": "stderr",
     "output_type": "stream",
     "text": [
      "\r",
      " 36%|██████████████▍                         | 388/1075 [00:10<00:19, 35.91it/s]"
     ]
    },
    {
     "name": "stdout",
     "output_type": "stream",
     "text": [
      "monica0.9594413113091993\n",
      "monica\n",
      "monica0.9628766370004511\n",
      "monica\n",
      "monica0.973229966827505\n",
      "monica\n",
      "monica0.9807604489796098\n",
      "monica\n"
     ]
    },
    {
     "name": "stderr",
     "output_type": "stream",
     "text": [
      "\r",
      " 36%|██████████████▌                         | 392/1075 [00:10<00:18, 37.01it/s]"
     ]
    },
    {
     "name": "stdout",
     "output_type": "stream",
     "text": [
      "monica0.9808317553063644\n",
      "monica\n",
      "monica0.9691566873717743\n",
      "monica\n",
      "monica0.9683140533150061\n",
      "monica\n",
      "monica0.9668605288244965\n",
      "monica\n",
      "monica0.9686183331498911\n",
      "monica\n"
     ]
    },
    {
     "name": "stderr",
     "output_type": "stream",
     "text": [
      "\r",
      " 37%|██████████████▋                         | 396/1075 [00:10<00:17, 37.85it/s]"
     ]
    },
    {
     "name": "stdout",
     "output_type": "stream",
     "text": [
      "monica0.9728258684818522\n",
      "monica\n",
      "monica0.9730962395378439\n",
      "monica\n",
      "monica0.9730523915926029\n",
      "monica\n",
      "monica0.9725012962798558\n",
      "monica\n"
     ]
    },
    {
     "name": "stderr",
     "output_type": "stream",
     "text": [
      " 38%|███████████████                         | 404/1075 [00:10<00:17, 38.78it/s]"
     ]
    },
    {
     "name": "stdout",
     "output_type": "stream",
     "text": [
      "monica0.9722819356289781\n",
      "monica\n",
      "monica0.9428584697604505\n",
      "monica\n",
      "monica0.9673976408094351\n",
      "monica\n",
      "monica0.9661178584544792\n",
      "monica\n"
     ]
    },
    {
     "name": "stderr",
     "output_type": "stream",
     "text": [
      "\r",
      " 38%|███████████████▏                        | 408/1075 [00:10<00:17, 38.82it/s]"
     ]
    },
    {
     "name": "stdout",
     "output_type": "stream",
     "text": [
      "monica0.967750847239722\n",
      "monica\n",
      "monica0.9730866891908746\n",
      "monica\n",
      "monica0.9731835331332188\n",
      "monica\n",
      "monica0.9757164345178846\n",
      "monica\n"
     ]
    },
    {
     "name": "stderr",
     "output_type": "stream",
     "text": [
      "\r",
      " 38%|███████████████▎                        | 412/1075 [00:11<00:17, 38.86it/s]"
     ]
    },
    {
     "name": "stdout",
     "output_type": "stream",
     "text": [
      "monica0.9558420246626688\n",
      "monica\n",
      "monica0.9562528854494607\n",
      "monica\n",
      "monica0.9569062933221973\n",
      "monica\n",
      "monica0.9761666059094662\n",
      "monica\n"
     ]
    },
    {
     "name": "stderr",
     "output_type": "stream",
     "text": [
      "\r",
      " 39%|███████████████▍                        | 416/1075 [00:11<00:16, 39.04it/s]"
     ]
    },
    {
     "name": "stdout",
     "output_type": "stream",
     "text": [
      "monica0.9751495943979538\n",
      "monica\n",
      "monica0.9767963427086567\n",
      "monica\n",
      "monica0.975754237841433\n",
      "monica\n",
      "monica0.9725619789882419\n",
      "monica\n"
     ]
    },
    {
     "name": "stderr",
     "output_type": "stream",
     "text": [
      "\r",
      " 39%|███████████████▋                        | 420/1075 [00:11<00:16, 39.32it/s]"
     ]
    },
    {
     "name": "stdout",
     "output_type": "stream",
     "text": [
      "monica0.9639154714974588\n",
      "monica\n",
      "monica0.9632690525745558\n",
      "monica\n",
      "monica0.9637795263420187\n",
      "monica\n",
      "monica0.9646301856477568\n",
      "monica\n",
      "monica0.9656558029344469\n",
      "monica\n",
      "monica0.9747485795581043\n",
      "monica\n",
      "monica0.9757913585224373\n",
      "monica\n"
     ]
    },
    {
     "name": "stderr",
     "output_type": "stream",
     "text": [
      "\r",
      " 39%|███████████████▊                        | 424/1075 [00:11<00:18, 34.71it/s]"
     ]
    },
    {
     "name": "stdout",
     "output_type": "stream",
     "text": [
      "monica0.9772954362529627\n",
      "monica\n",
      "monica0.9767588312646328\n",
      "monica\n",
      "monica0.9771750373294952\n",
      "monica\n",
      "monica0.9792123678416956\n",
      "monica\n"
     ]
    },
    {
     "name": "stderr",
     "output_type": "stream",
     "text": [
      "\r",
      " 40%|███████████████▉                        | 428/1075 [00:11<00:18, 35.90it/s]"
     ]
    },
    {
     "name": "stdout",
     "output_type": "stream",
     "text": [
      "monica0.9727347072575413\n",
      "monica\n",
      "monica0.9731623427102892\n",
      "monica\n",
      "monica0.9794710174561428\n",
      "monica\n",
      "monica0.9715213436359333\n",
      "monica\n"
     ]
    },
    {
     "name": "stderr",
     "output_type": "stream",
     "text": [
      "\r",
      " 40%|████████████████                        | 432/1075 [00:11<00:17, 36.67it/s]"
     ]
    },
    {
     "name": "stdout",
     "output_type": "stream",
     "text": [
      "monica0.9690749768773025\n",
      "monica\n",
      "monica0.9695777078844835\n",
      "monica\n",
      "monica0.9649544358696602\n",
      "monica\n",
      "monica0.9613803129791394\n",
      "monica\n"
     ]
    },
    {
     "name": "stderr",
     "output_type": "stream",
     "text": [
      "\r",
      " 41%|████████████████▏                       | 436/1075 [00:11<00:17, 36.87it/s]"
     ]
    },
    {
     "name": "stdout",
     "output_type": "stream",
     "text": [
      "monica0.961896308434377\n",
      "monica\n",
      "monica0.9623864498709719\n",
      "monica\n",
      "monica0.9540271996118398\n",
      "monica\n",
      "monica0.9547204644194185\n",
      "monica\n"
     ]
    },
    {
     "name": "stderr",
     "output_type": "stream",
     "text": [
      "\r",
      " 41%|████████████████▍                       | 441/1075 [00:11<00:16, 37.87it/s]"
     ]
    },
    {
     "name": "stdout",
     "output_type": "stream",
     "text": [
      "monica0.9634561590595323\n",
      "monica\n",
      "monica0.9567543718123047\n",
      "monica\n",
      "monica0.9563391793353262\n",
      "monica\n",
      "monica0.9585231165876729\n",
      "monica\n"
     ]
    },
    {
     "name": "stderr",
     "output_type": "stream",
     "text": [
      "\r",
      " 41%|████████████████▌                       | 445/1075 [00:11<00:16, 38.17it/s]"
     ]
    },
    {
     "name": "stdout",
     "output_type": "stream",
     "text": [
      "monica0.959292507012675\n",
      "monica\n",
      "monica0.955387038758957\n",
      "monica\n",
      "monica0.9540976621144958\n",
      "monica\n",
      "monica0.9593057962165239\n",
      "monica\n"
     ]
    },
    {
     "name": "stderr",
     "output_type": "stream",
     "text": [
      "\r",
      " 42%|████████████████▋                       | 449/1075 [00:12<00:16, 38.49it/s]"
     ]
    },
    {
     "name": "stdout",
     "output_type": "stream",
     "text": [
      "monica0.9594866510659915\n",
      "monica\n",
      "monica0.9607396333362876\n",
      "monica\n",
      "monica0.9502784962195187\n",
      "monica\n",
      "monica0.9233610469792621\n",
      "monica\n"
     ]
    },
    {
     "name": "stderr",
     "output_type": "stream",
     "text": [
      "\r",
      " 42%|████████████████▊                       | 453/1075 [00:12<00:16, 38.77it/s]"
     ]
    },
    {
     "name": "stdout",
     "output_type": "stream",
     "text": [
      "monica0.9224478933974091\n",
      "monica\n",
      "monica0.906836597101239\n",
      "monica\n",
      "monica0.9085259471286717\n",
      "monica\n",
      "monica0.913305611135573\n",
      "monica\n"
     ]
    },
    {
     "name": "stderr",
     "output_type": "stream",
     "text": [
      "\r",
      " 43%|█████████████████                       | 457/1075 [00:12<00:15, 38.69it/s]"
     ]
    },
    {
     "name": "stdout",
     "output_type": "stream",
     "text": [
      "monica0.9048642488065801\n",
      "monica\n",
      "monica0.9260632565278022\n",
      "monica\n",
      "monica0.9255265076585758\n",
      "monica\n",
      "monica0.9237847750272192\n",
      "monica\n"
     ]
    },
    {
     "name": "stderr",
     "output_type": "stream",
     "text": [
      "\r",
      " 43%|█████████████████▏                      | 461/1075 [00:12<00:15, 38.98it/s]"
     ]
    },
    {
     "name": "stdout",
     "output_type": "stream",
     "text": [
      "monica0.951776541133963\n",
      "monica\n",
      "monica0.9501029712328817\n",
      "monica\n",
      "monica0.9309832238181834\n",
      "monica\n",
      "monica0.9436236574119001\n",
      "monica\n"
     ]
    },
    {
     "name": "stderr",
     "output_type": "stream",
     "text": [
      "\r",
      " 43%|█████████████████▎                      | 465/1075 [00:12<00:15, 38.69it/s]"
     ]
    },
    {
     "name": "stdout",
     "output_type": "stream",
     "text": [
      "monica0.943717035338791\n",
      "monica\n",
      "monica0.9464972135983343\n",
      "monica\n",
      "monica0.9469566609469808\n",
      "monica\n",
      "monica0.9470170371760973\n",
      "monica\n"
     ]
    },
    {
     "name": "stderr",
     "output_type": "stream",
     "text": [
      "\r",
      " 44%|█████████████████▍                      | 469/1075 [00:12<00:15, 38.64it/s]"
     ]
    },
    {
     "name": "stdout",
     "output_type": "stream",
     "text": [
      "monica0.9471058350766077\n",
      "monica\n",
      "monica0.9390015378213058\n",
      "monica\n",
      "monica0.93654523231387\n",
      "monica\n",
      "monica0.936775824513474\n",
      "monica\n"
     ]
    },
    {
     "name": "stderr",
     "output_type": "stream",
     "text": [
      "\r",
      " 44%|█████████████████▌                      | 473/1075 [00:12<00:15, 38.50it/s]"
     ]
    },
    {
     "name": "stdout",
     "output_type": "stream",
     "text": [
      "monica0.9681277879482888\n",
      "monica\n",
      "monica0.9675240314808508\n",
      "monica\n",
      "monica0.9698899910883664\n",
      "monica\n",
      "monica0.9701400642983034\n",
      "monica\n"
     ]
    },
    {
     "name": "stderr",
     "output_type": "stream",
     "text": [
      "\r",
      " 44%|█████████████████▋                      | 477/1075 [00:12<00:15, 38.48it/s]"
     ]
    },
    {
     "name": "stdout",
     "output_type": "stream",
     "text": [
      "monica0.9721730989439361\n",
      "monica\n",
      "monica0.9705699223338136\n",
      "monica\n",
      "monica0.9723885314714448\n",
      "monica\n",
      "monica0.9596270638661589\n",
      "monica\n"
     ]
    },
    {
     "name": "stderr",
     "output_type": "stream",
     "text": [
      "\r",
      " 45%|█████████████████▉                      | 481/1075 [00:12<00:15, 38.24it/s]"
     ]
    },
    {
     "name": "stdout",
     "output_type": "stream",
     "text": [
      "monica0.9565260788144171\n",
      "monica\n",
      "monica0.9584082667728111\n",
      "monica\n",
      "monica0.9449176524480597\n",
      "monica\n",
      "monica0.9457370292999354\n",
      "monica\n"
     ]
    },
    {
     "name": "stderr",
     "output_type": "stream",
     "text": [
      "\r",
      " 45%|██████████████████                      | 485/1075 [00:13<00:15, 37.99it/s]"
     ]
    },
    {
     "name": "stdout",
     "output_type": "stream",
     "text": [
      "monica0.9445870765697242\n",
      "monica\n",
      "monica0.8686520637477391\n",
      "monica\n",
      "monica0.865291597760262\n",
      "monica\n",
      "monica0.8893043294534887\n",
      "monica\n"
     ]
    },
    {
     "name": "stderr",
     "output_type": "stream",
     "text": [
      "\r",
      " 45%|██████████████████▏                     | 489/1075 [00:13<00:15, 38.01it/s]"
     ]
    },
    {
     "name": "stdout",
     "output_type": "stream",
     "text": [
      "monica0.9054392635195397\n",
      "monica\n",
      "monica0.9026234350852846\n",
      "monica\n",
      "No face found. Continuing\n",
      "No face found. Continuing\n",
      "No face found. Continuing\n",
      "No face found. Continuing\n"
     ]
    },
    {
     "name": "stderr",
     "output_type": "stream",
     "text": [
      "\r",
      " 46%|██████████████████▍                     | 495/1075 [00:13<00:13, 42.16it/s]"
     ]
    },
    {
     "name": "stdout",
     "output_type": "stream",
     "text": [
      "monica0.7814261926994878\n",
      "monica\n",
      "monica0.588944917042937\n",
      "monica\n",
      "monica0.615030636215829\n",
      "monica\n",
      "monica0.6787410430140491\n",
      "monica\n"
     ]
    },
    {
     "name": "stderr",
     "output_type": "stream",
     "text": [
      "\r",
      " 47%|██████████████████▌                     | 500/1075 [00:13<00:13, 41.62it/s]"
     ]
    },
    {
     "name": "stdout",
     "output_type": "stream",
     "text": [
      "monica0.762631448761485\n",
      "monica\n",
      "monica0.7710019857259452\n",
      "monica\n",
      "No face found. Continuing\n",
      "joey0.278186959368266\n",
      "joey\n"
     ]
    },
    {
     "name": "stderr",
     "output_type": "stream",
     "text": [
      "\r",
      " 47%|██████████████████▊                     | 505/1075 [00:13<00:14, 39.96it/s]"
     ]
    },
    {
     "name": "stdout",
     "output_type": "stream",
     "text": [
      "joey0.2766654146195166\n",
      "joey\n",
      "joey0.29748768682535803\n",
      "joey\n",
      "rachel0.27907565332149387\n",
      "rachel\n",
      "rachel0.2939607867054866\n",
      "rachel\n",
      "monica0.4620049083920351\n",
      "monica\n",
      "joey0.27352142084464914\n",
      "joey\n",
      "monica0.2679558405745844\n",
      "monica\n",
      "joey0.28399407928573667\n",
      "joey\n"
     ]
    },
    {
     "name": "stderr",
     "output_type": "stream",
     "text": [
      "\r",
      " 47%|██████████████████▉                     | 510/1075 [00:13<00:14, 39.15it/s]"
     ]
    },
    {
     "name": "stdout",
     "output_type": "stream",
     "text": [
      "monica0.34329490387888306\n",
      "monica\n",
      "rachel0.2503601275062171\n",
      "rachel\n",
      "rachel0.2608594958314058\n",
      "rachel\n",
      "rachel0.2783363142243225\n",
      "rachel\n"
     ]
    },
    {
     "name": "stderr",
     "output_type": "stream",
     "text": [
      "\r",
      " 48%|███████████████████▏                    | 514/1075 [00:13<00:14, 38.66it/s]"
     ]
    },
    {
     "name": "stdout",
     "output_type": "stream",
     "text": [
      "rachel0.2867492801051924\n",
      "rachel\n",
      "rachel0.2726934626236124\n",
      "rachel\n",
      "monica0.511364745149015\n",
      "monica\n",
      "monica0.8788817735326239\n",
      "monica\n"
     ]
    },
    {
     "name": "stderr",
     "output_type": "stream",
     "text": [
      "\r",
      " 48%|███████████████████▎                    | 518/1075 [00:13<00:14, 38.40it/s]"
     ]
    },
    {
     "name": "stdout",
     "output_type": "stream",
     "text": [
      "monica0.8738014533072185\n",
      "monica\n",
      "monica0.6535365948978851\n",
      "monica\n",
      "monica0.6289651567061862\n",
      "monica\n",
      "monica0.6189165869928002\n",
      "monica\n"
     ]
    },
    {
     "name": "stderr",
     "output_type": "stream",
     "text": [
      "\r",
      " 49%|███████████████████▍                    | 522/1075 [00:13<00:14, 37.96it/s]"
     ]
    },
    {
     "name": "stdout",
     "output_type": "stream",
     "text": [
      "monica0.9119997544282276\n",
      "monica\n",
      "monica0.950339065236268\n",
      "monica\n",
      "monica0.9503691144771605\n",
      "monica\n",
      "monica0.9498746616722638\n",
      "monica\n"
     ]
    },
    {
     "name": "stderr",
     "output_type": "stream",
     "text": [
      "\r",
      " 49%|███████████████████▌                    | 526/1075 [00:14<00:14, 37.39it/s]"
     ]
    },
    {
     "name": "stdout",
     "output_type": "stream",
     "text": [
      "monica0.975703276609545\n",
      "monica\n",
      "monica0.9732298247750408\n",
      "monica\n",
      "monica0.9687975963566359\n",
      "monica\n",
      "monica0.9693783544258263\n",
      "monica\n"
     ]
    },
    {
     "name": "stderr",
     "output_type": "stream",
     "text": [
      "\r",
      " 49%|███████████████████▋                    | 530/1075 [00:14<00:14, 37.42it/s]"
     ]
    },
    {
     "name": "stdout",
     "output_type": "stream",
     "text": [
      "monica0.9699697264417395\n",
      "monica\n",
      "monica0.9703802406960731\n",
      "monica\n",
      "monica0.9753363972812502\n",
      "monica\n",
      "monica0.9676020051896621\n",
      "monica\n"
     ]
    },
    {
     "name": "stderr",
     "output_type": "stream",
     "text": [
      "\r",
      " 50%|███████████████████▊                    | 534/1075 [00:14<00:14, 37.57it/s]"
     ]
    },
    {
     "name": "stdout",
     "output_type": "stream",
     "text": [
      "monica0.9698044023460797\n",
      "monica\n",
      "monica0.9676729547541696\n",
      "monica\n",
      "monica0.9411606326263007\n",
      "monica\n",
      "monica0.9466704271254582\n",
      "monica\n"
     ]
    },
    {
     "name": "stderr",
     "output_type": "stream",
     "text": [
      "\r",
      " 50%|████████████████████                    | 538/1075 [00:14<00:14, 37.65it/s]"
     ]
    },
    {
     "name": "stdout",
     "output_type": "stream",
     "text": [
      "monica0.954548705103439\n",
      "monica\n",
      "monica0.9210838587460922\n",
      "monica\n",
      "monica0.9180821697891212\n",
      "monica\n",
      "monica0.9235965553397656\n",
      "monica\n"
     ]
    },
    {
     "name": "stderr",
     "output_type": "stream",
     "text": [
      "\r",
      " 50%|████████████████████▏                   | 542/1075 [00:14<00:14, 37.61it/s]"
     ]
    },
    {
     "name": "stdout",
     "output_type": "stream",
     "text": [
      "monica0.935534083148107\n",
      "monica\n",
      "monica0.9371193634157354\n",
      "monica\n",
      "monica0.9188982423530527\n",
      "monica\n",
      "monica0.9193442422100448\n",
      "monica\n"
     ]
    },
    {
     "name": "stderr",
     "output_type": "stream",
     "text": [
      "\r",
      " 51%|████████████████████▎                   | 546/1075 [00:14<00:13, 37.88it/s]"
     ]
    },
    {
     "name": "stdout",
     "output_type": "stream",
     "text": [
      "monica0.9164149596179936\n",
      "monica\n",
      "monica0.9022747727453603\n",
      "monica\n",
      "monica0.8936256939237055\n",
      "monica\n",
      "monica0.8979984712521447\n",
      "monica\n"
     ]
    },
    {
     "name": "stderr",
     "output_type": "stream",
     "text": [
      "\r",
      " 51%|████████████████████▍                   | 550/1075 [00:14<00:13, 37.94it/s]"
     ]
    },
    {
     "name": "stdout",
     "output_type": "stream",
     "text": [
      "monica0.9450882314921146\n",
      "monica\n",
      "monica0.9232464327845756\n",
      "monica\n",
      "monica0.9212140308127776\n",
      "monica\n",
      "monica0.9185259814238449\n",
      "monica\n"
     ]
    },
    {
     "name": "stderr",
     "output_type": "stream",
     "text": [
      "\r",
      " 52%|████████████████████▌                   | 554/1075 [00:14<00:13, 37.76it/s]"
     ]
    },
    {
     "name": "stdout",
     "output_type": "stream",
     "text": [
      "monica0.8773050047295485\n",
      "monica\n",
      "monica0.9105446518835856\n",
      "monica\n",
      "monica0.911490609089129\n",
      "monica\n",
      "monica0.9183814491479737\n",
      "monica\n"
     ]
    },
    {
     "name": "stderr",
     "output_type": "stream",
     "text": [
      "\r",
      " 52%|████████████████████▊                   | 558/1075 [00:14<00:13, 38.31it/s]"
     ]
    },
    {
     "name": "stdout",
     "output_type": "stream",
     "text": [
      "monica0.912847726649192\n",
      "monica\n",
      "monica0.9138848947806657\n",
      "monica\n",
      "monica0.9633833626025792\n",
      "monica\n",
      "monica0.9421700710714442\n",
      "monica\n"
     ]
    },
    {
     "name": "stderr",
     "output_type": "stream",
     "text": [
      "\r",
      " 52%|████████████████████▉                   | 562/1075 [00:14<00:13, 38.59it/s]"
     ]
    },
    {
     "name": "stdout",
     "output_type": "stream",
     "text": [
      "monica0.9452252769592794\n",
      "monica\n",
      "monica0.9427653094880978\n",
      "monica\n",
      "monica0.9541836945046585\n",
      "monica\n",
      "monica0.9559292424693031\n",
      "monica\n"
     ]
    },
    {
     "name": "stderr",
     "output_type": "stream",
     "text": [
      "\r",
      " 53%|█████████████████████                   | 566/1075 [00:15<00:13, 37.69it/s]"
     ]
    },
    {
     "name": "stdout",
     "output_type": "stream",
     "text": [
      "monica0.9521199683697913\n",
      "monica\n",
      "monica0.9456408668209559\n",
      "monica\n",
      "monica0.9423263703853584\n",
      "monica\n",
      "monica0.9462632951263117\n",
      "monica\n"
     ]
    },
    {
     "name": "stderr",
     "output_type": "stream",
     "text": [
      "\r",
      " 53%|█████████████████████▏                  | 570/1075 [00:15<00:13, 37.12it/s]"
     ]
    },
    {
     "name": "stdout",
     "output_type": "stream",
     "text": [
      "monica0.9331623033243771\n",
      "monica\n",
      "monica0.9449290086719121\n",
      "monica\n",
      "monica0.9458112625202388\n",
      "monica\n",
      "monica0.9538036130962524\n",
      "monica\n"
     ]
    },
    {
     "name": "stderr",
     "output_type": "stream",
     "text": [
      "\r",
      " 53%|█████████████████████▎                  | 574/1075 [00:15<00:13, 36.73it/s]"
     ]
    },
    {
     "name": "stdout",
     "output_type": "stream",
     "text": [
      "monica0.9560872323730597\n",
      "monica\n",
      "monica0.9531686399086583\n",
      "monica\n",
      "monica0.9692850635926713\n",
      "monica\n",
      "monica0.9614832079255046\n",
      "monica\n"
     ]
    },
    {
     "name": "stderr",
     "output_type": "stream",
     "text": [
      "\r",
      " 54%|█████████████████████▌                  | 578/1075 [00:15<00:13, 36.30it/s]"
     ]
    },
    {
     "name": "stdout",
     "output_type": "stream",
     "text": [
      "monica0.9604210085723113\n",
      "monica\n",
      "monica0.9602370549517703\n",
      "monica\n",
      "monica0.9668489659874586\n",
      "monica\n",
      "monica0.9682742975631747\n",
      "monica\n"
     ]
    },
    {
     "name": "stderr",
     "output_type": "stream",
     "text": [
      "\r",
      " 54%|█████████████████████▋                  | 582/1075 [00:15<00:13, 36.15it/s]"
     ]
    },
    {
     "name": "stdout",
     "output_type": "stream",
     "text": [
      "monica0.9703267834077407\n",
      "monica\n",
      "monica0.9653223608993937\n",
      "monica\n",
      "monica0.9653575951302775\n",
      "monica\n",
      "monica0.9657216493382988\n",
      "monica\n"
     ]
    },
    {
     "name": "stderr",
     "output_type": "stream",
     "text": [
      "\r",
      " 55%|█████████████████████▊                  | 586/1075 [00:15<00:13, 36.45it/s]"
     ]
    },
    {
     "name": "stdout",
     "output_type": "stream",
     "text": [
      "monica0.9777815449083493\n",
      "monica\n",
      "monica0.9777950004085181\n",
      "monica\n",
      "monica0.9729028165986636\n",
      "monica\n",
      "monica0.9827417684723738\n",
      "monica\n"
     ]
    },
    {
     "name": "stderr",
     "output_type": "stream",
     "text": [
      "\r",
      " 55%|█████████████████████▉                  | 590/1075 [00:15<00:13, 36.54it/s]"
     ]
    },
    {
     "name": "stdout",
     "output_type": "stream",
     "text": [
      "monica0.9838307543269198\n",
      "monica\n",
      "monica0.9867263230257756\n",
      "monica\n",
      "monica0.9797973869394807\n",
      "monica\n",
      "joey0.9327170765861477\n",
      "joey\n"
     ]
    },
    {
     "name": "stderr",
     "output_type": "stream",
     "text": [
      "\r",
      " 55%|██████████████████████                  | 594/1075 [00:15<00:13, 36.63it/s]"
     ]
    },
    {
     "name": "stdout",
     "output_type": "stream",
     "text": [
      "joey0.9293786036829762\n",
      "joey\n",
      "joey0.9351852212785005\n",
      "joey\n",
      "joey0.9346321300495279\n",
      "joey\n",
      "joey0.9330843837917477\n",
      "joey\n"
     ]
    },
    {
     "name": "stderr",
     "output_type": "stream",
     "text": [
      "\r",
      " 56%|██████████████████████▎                 | 598/1075 [00:15<00:13, 36.26it/s]"
     ]
    },
    {
     "name": "stdout",
     "output_type": "stream",
     "text": [
      "joey0.9460179668557714\n",
      "joey\n",
      "joey0.895548235642258\n",
      "joey\n",
      "joey0.9086145378789798\n",
      "joey\n",
      "joey0.9137307885175574\n",
      "joey\n"
     ]
    },
    {
     "name": "stderr",
     "output_type": "stream",
     "text": [
      "\r",
      " 56%|██████████████████████▍                 | 602/1075 [00:16<00:13, 36.34it/s]"
     ]
    },
    {
     "name": "stdout",
     "output_type": "stream",
     "text": [
      "joey0.9100114174427201\n",
      "joey\n",
      "joey0.918210716073379\n",
      "joey\n",
      "joey0.9159274978890717\n",
      "joey\n",
      "joey0.9334809225364948\n",
      "joey\n"
     ]
    },
    {
     "name": "stderr",
     "output_type": "stream",
     "text": [
      "\r",
      " 56%|██████████████████████▌                 | 606/1075 [00:16<00:12, 36.65it/s]"
     ]
    },
    {
     "name": "stdout",
     "output_type": "stream",
     "text": [
      "joey0.933999227301363\n",
      "joey\n",
      "joey0.9371798357636143\n",
      "joey\n",
      "joey0.9364759015545175\n",
      "joey\n",
      "joey0.9384291588092705\n",
      "joey\n"
     ]
    },
    {
     "name": "stderr",
     "output_type": "stream",
     "text": [
      "\r",
      " 57%|██████████████████████▋                 | 610/1075 [00:16<00:12, 36.64it/s]"
     ]
    },
    {
     "name": "stdout",
     "output_type": "stream",
     "text": [
      "joey0.9306346576840917\n",
      "joey\n",
      "joey0.9148877798706786\n",
      "joey\n",
      "joey0.9197471334902633\n",
      "joey\n",
      "joey0.914541605124721\n",
      "joey\n"
     ]
    },
    {
     "name": "stderr",
     "output_type": "stream",
     "text": [
      "\r",
      " 57%|██████████████████████▊                 | 614/1075 [00:16<00:12, 36.53it/s]"
     ]
    },
    {
     "name": "stdout",
     "output_type": "stream",
     "text": [
      "joey0.9323473803436557\n",
      "joey\n",
      "joey0.9339387709935124\n",
      "joey\n",
      "joey0.9330799827124532\n",
      "joey\n",
      "joey0.9294640887153427\n",
      "joey\n"
     ]
    },
    {
     "name": "stderr",
     "output_type": "stream",
     "text": [
      "\r",
      " 57%|██████████████████████▉                 | 618/1075 [00:16<00:12, 36.61it/s]"
     ]
    },
    {
     "name": "stdout",
     "output_type": "stream",
     "text": [
      "joey0.9264128330640715\n",
      "joey\n",
      "joey0.9217706364966993\n",
      "joey\n",
      "joey0.8935776260700707\n",
      "joey\n",
      "joey0.8494889095855216\n",
      "joey\n"
     ]
    },
    {
     "name": "stderr",
     "output_type": "stream",
     "text": [
      "\r",
      " 58%|███████████████████████▏                | 622/1075 [00:16<00:12, 36.92it/s]"
     ]
    },
    {
     "name": "stdout",
     "output_type": "stream",
     "text": [
      "joey0.8570341150536099\n",
      "joey\n",
      "joey0.852006091531796\n",
      "joey\n",
      "joey0.9049779899647241\n",
      "joey\n",
      "joey0.9166724205312176\n",
      "joey\n"
     ]
    },
    {
     "name": "stderr",
     "output_type": "stream",
     "text": [
      "\r",
      " 58%|███████████████████████▎                | 626/1075 [00:16<00:12, 37.10it/s]"
     ]
    },
    {
     "name": "stdout",
     "output_type": "stream",
     "text": [
      "joey0.9003721980987208\n",
      "joey\n",
      "joey0.9202695964114412\n",
      "joey\n",
      "joey0.9276106876950588\n",
      "joey\n",
      "joey0.9309721857769334\n",
      "joey\n"
     ]
    },
    {
     "name": "stderr",
     "output_type": "stream",
     "text": [
      "\r",
      " 59%|███████████████████████▍                | 630/1075 [00:16<00:11, 37.10it/s]"
     ]
    },
    {
     "name": "stdout",
     "output_type": "stream",
     "text": [
      "joey0.9029958295068334\n",
      "joey\n",
      "joey0.9178359815875227\n",
      "joey\n",
      "joey0.9186459835028918\n",
      "joey\n",
      "joey0.9442021579645837\n",
      "joey\n"
     ]
    },
    {
     "name": "stderr",
     "output_type": "stream",
     "text": [
      "\r",
      " 59%|███████████████████████▌                | 634/1075 [00:16<00:11, 37.08it/s]"
     ]
    },
    {
     "name": "stdout",
     "output_type": "stream",
     "text": [
      "joey0.9389438278002433\n",
      "joey\n",
      "joey0.937880184360363\n",
      "joey\n",
      "joey0.9515028236171582\n",
      "joey\n",
      "joey0.9271321262241589\n",
      "joey\n"
     ]
    },
    {
     "name": "stderr",
     "output_type": "stream",
     "text": [
      "\r",
      " 59%|███████████████████████▋                | 638/1075 [00:17<00:11, 37.24it/s]"
     ]
    },
    {
     "name": "stdout",
     "output_type": "stream",
     "text": [
      "joey0.9261783844333307\n",
      "joey\n",
      "joey0.9275921113724247\n",
      "joey\n",
      "joey0.93854121294428\n",
      "joey\n",
      "joey0.931635801544656\n",
      "joey\n"
     ]
    },
    {
     "name": "stderr",
     "output_type": "stream",
     "text": [
      "\r",
      " 60%|███████████████████████▉                | 642/1075 [00:17<00:11, 37.97it/s]"
     ]
    },
    {
     "name": "stdout",
     "output_type": "stream",
     "text": [
      "joey0.9459036426970209\n",
      "joey\n",
      "joey0.9222973808618361\n",
      "joey\n",
      "joey0.9249394042280954\n",
      "joey\n",
      "joey0.9299819497934273\n",
      "joey\n"
     ]
    },
    {
     "name": "stderr",
     "output_type": "stream",
     "text": [
      "\r",
      " 60%|████████████████████████                | 646/1075 [00:17<00:11, 36.93it/s]"
     ]
    },
    {
     "name": "stdout",
     "output_type": "stream",
     "text": [
      "ross0.8580396323541076\n",
      "ross\n",
      "monica0.9621349894635529\n",
      "monica\n",
      "ross0.8533891065196636\n",
      "ross\n",
      "monica0.9713953787169806\n",
      "monica\n",
      "ross0.8864865312965212\n",
      "ross\n",
      "monica0.974280322637613\n",
      "monica\n"
     ]
    },
    {
     "name": "stderr",
     "output_type": "stream",
     "text": [
      "\r",
      " 60%|████████████████████████▏               | 650/1075 [00:17<00:12, 33.19it/s]"
     ]
    },
    {
     "name": "stdout",
     "output_type": "stream",
     "text": [
      "ross0.9025552877862302\n",
      "ross\n",
      "monica0.9811717791403236\n",
      "monica\n",
      "ross0.9043393086824348\n",
      "ross\n",
      "monica0.9799705346653512\n",
      "monica\n",
      "ross0.9035898214146946\n",
      "ross\n",
      "monica0.9811889355851118\n",
      "monica\n"
     ]
    },
    {
     "name": "stderr",
     "output_type": "stream",
     "text": [
      "\r",
      " 61%|████████████████████████▎               | 654/1075 [00:17<00:13, 31.16it/s]"
     ]
    },
    {
     "name": "stdout",
     "output_type": "stream",
     "text": [
      "ross0.9215312941424231\n",
      "ross\n",
      "monica0.9816288279424953\n",
      "monica\n",
      "ross0.9135579900274866\n",
      "ross\n",
      "monica0.9817989108127643\n",
      "monica\n",
      "ross0.9133657020294919\n",
      "ross\n",
      "monica0.9824013515146177\n",
      "monica\n",
      "ross0.9150049534110728\n",
      "ross\n",
      "monica0.9816321158938477\n",
      "monica\n",
      "ross0.9226484010987868\n",
      "ross\n",
      "monica0.9851917231894743\n",
      "monica\n",
      "ross0.9221553474519112\n",
      "ross\n",
      "monica0.9848230964027738\n",
      "monica\n"
     ]
    },
    {
     "name": "stderr",
     "output_type": "stream",
     "text": [
      "\r",
      " 61%|████████████████████████▍               | 658/1075 [00:17<00:13, 29.98it/s]"
     ]
    },
    {
     "name": "stdout",
     "output_type": "stream",
     "text": [
      "ross0.9076181664784666\n",
      "ross\n",
      "monica0.9821106463306577\n",
      "monica\n",
      "ross0.8903679894644861\n",
      "ross\n",
      "monica0.9815907400503489\n",
      "monica\n",
      "ross0.8883586549178852\n",
      "ross\n",
      "monica0.9809881270084732\n",
      "monica\n"
     ]
    },
    {
     "name": "stderr",
     "output_type": "stream",
     "text": [
      "\r",
      " 62%|████████████████████████▋               | 662/1075 [00:17<00:14, 28.85it/s]"
     ]
    },
    {
     "name": "stdout",
     "output_type": "stream",
     "text": [
      "ross0.8879477507046759\n",
      "ross\n",
      "monica0.9821472852187427\n",
      "monica\n",
      "ross0.928603707361949\n",
      "ross\n",
      "monica0.9794174754135123\n",
      "monica\n",
      "ross0.928131671134236\n",
      "ross\n",
      "monica0.9797583316942576\n",
      "monica\n"
     ]
    },
    {
     "name": "stderr",
     "output_type": "stream",
     "text": [
      "\r",
      " 62%|████████████████████████▋               | 665/1075 [00:18<00:14, 27.94it/s]"
     ]
    },
    {
     "name": "stdout",
     "output_type": "stream",
     "text": [
      "ross0.9130757222028264\n",
      "ross\n",
      "monica0.9720075345596517\n",
      "monica\n",
      "ross0.9131942409824163\n",
      "ross\n",
      "monica0.9610430162207885\n",
      "monica\n",
      "ross0.9102344676173656\n",
      "ross\n",
      "monica0.9623844593728655\n",
      "monica\n"
     ]
    },
    {
     "name": "stderr",
     "output_type": "stream",
     "text": [
      "\r",
      " 62%|████████████████████████▊               | 668/1075 [00:18<00:14, 27.39it/s]"
     ]
    },
    {
     "name": "stdout",
     "output_type": "stream",
     "text": [
      "ross0.907591069489788\n",
      "ross\n",
      "monica0.9573876373139022\n",
      "monica\n",
      "ross0.8985944074022489\n",
      "ross\n",
      "monica0.953275369979492\n",
      "monica\n",
      "ross0.8974947914761046\n",
      "ross\n",
      "monica0.9496115431599695\n",
      "monica\n"
     ]
    },
    {
     "name": "stderr",
     "output_type": "stream",
     "text": [
      "\r",
      " 62%|████████████████████████▉               | 671/1075 [00:18<00:14, 26.95it/s]"
     ]
    },
    {
     "name": "stdout",
     "output_type": "stream",
     "text": [
      "ross0.8848999546742838\n",
      "ross\n",
      "monica0.9690143408583023\n",
      "monica\n",
      "ross0.9248659826554012\n",
      "ross\n",
      "monica0.9741342773860929\n",
      "monica\n",
      "ross0.9241205864595772\n",
      "ross\n",
      "monica0.9730145391626386\n",
      "monica\n"
     ]
    },
    {
     "name": "stderr",
     "output_type": "stream",
     "text": [
      "\r",
      " 63%|█████████████████████████               | 674/1075 [00:18<00:15, 26.40it/s]"
     ]
    },
    {
     "name": "stdout",
     "output_type": "stream",
     "text": [
      "ross0.9262135646594635\n",
      "ross\n",
      "monica0.9732828013760254\n",
      "monica\n",
      "ross0.9288918771368337\n",
      "ross\n",
      "monica0.9752046063178955\n",
      "monica\n",
      "ross0.9247623806666749\n",
      "ross\n",
      "monica0.9783229074390276\n",
      "monica\n"
     ]
    },
    {
     "name": "stderr",
     "output_type": "stream",
     "text": [
      "\r",
      " 63%|█████████████████████████▏              | 677/1075 [00:18<00:15, 26.26it/s]"
     ]
    },
    {
     "name": "stdout",
     "output_type": "stream",
     "text": [
      "ross0.8268823806016978\n",
      "ross\n",
      "monica0.9781184018319456\n",
      "monica\n",
      "ross0.9338408073862631\n",
      "ross\n",
      "monica0.9765354319577972\n",
      "monica\n",
      "ross0.8813886333411796\n",
      "ross\n",
      "monica0.9744768765700978\n",
      "monica\n"
     ]
    },
    {
     "name": "stderr",
     "output_type": "stream",
     "text": [
      "\r",
      " 63%|█████████████████████████▎              | 680/1075 [00:18<00:15, 26.05it/s]"
     ]
    },
    {
     "name": "stdout",
     "output_type": "stream",
     "text": [
      "ross0.8915868138185723\n",
      "ross\n",
      "monica0.9756475167650451\n",
      "monica\n",
      "ross0.9466277803998547\n",
      "ross\n",
      "monica0.9790737433494459\n",
      "monica\n",
      "ross0.9238342861984722\n",
      "ross\n",
      "monica0.978451392093661\n",
      "monica\n"
     ]
    },
    {
     "name": "stderr",
     "output_type": "stream",
     "text": [
      "\r",
      " 64%|█████████████████████████▍              | 683/1075 [00:18<00:15, 26.09it/s]"
     ]
    },
    {
     "name": "stdout",
     "output_type": "stream",
     "text": [
      "ross0.9292266147309162\n",
      "ross\n",
      "monica0.9742639776733903\n",
      "monica\n",
      "ross0.9252294478238341\n",
      "ross\n",
      "monica0.9766745916209519\n",
      "monica\n",
      "ross0.8971235288037914\n",
      "ross\n",
      "monica0.9748254342406952\n",
      "monica\n"
     ]
    },
    {
     "name": "stderr",
     "output_type": "stream",
     "text": [
      "\r",
      " 64%|█████████████████████████▌              | 686/1075 [00:18<00:15, 25.89it/s]"
     ]
    },
    {
     "name": "stdout",
     "output_type": "stream",
     "text": [
      "ross0.894806002779122\n",
      "ross\n",
      "monica0.9757616883849701\n",
      "monica\n",
      "ross0.9234562244398535\n",
      "ross\n",
      "monica0.9768603077124174\n",
      "monica\n",
      "ross0.9086962432785337\n",
      "ross\n",
      "monica0.9835762628793867\n",
      "monica\n"
     ]
    },
    {
     "name": "stderr",
     "output_type": "stream",
     "text": [
      "\r",
      " 64%|█████████████████████████▋              | 689/1075 [00:18<00:14, 25.90it/s]"
     ]
    },
    {
     "name": "stdout",
     "output_type": "stream",
     "text": [
      "ross0.9124160584119854\n",
      "ross\n",
      "monica0.983067830282844\n",
      "monica\n",
      "ross0.9118463040410402\n",
      "ross\n",
      "monica0.9827431003803357\n",
      "monica\n",
      "ross0.9081059429243632\n",
      "ross\n",
      "monica0.9712817409707908\n",
      "monica\n"
     ]
    },
    {
     "name": "stderr",
     "output_type": "stream",
     "text": [
      "\r",
      " 64%|█████████████████████████▋              | 692/1075 [00:19<00:14, 25.71it/s]"
     ]
    },
    {
     "name": "stdout",
     "output_type": "stream",
     "text": [
      "monica0.9409274000748582\n",
      "monica\n",
      "ross0.8549054906885116\n",
      "ross\n",
      "monica0.9408836655094611\n",
      "monica\n",
      "ross0.856156585717364\n",
      "ross\n",
      "monica0.8863673928480665\n",
      "monica\n",
      "ross0.9365727823557581\n",
      "ross\n"
     ]
    },
    {
     "name": "stderr",
     "output_type": "stream",
     "text": [
      "\r",
      " 65%|█████████████████████████▊              | 695/1075 [00:19<00:14, 25.83it/s]"
     ]
    },
    {
     "name": "stdout",
     "output_type": "stream",
     "text": [
      "monica0.8825817786480339\n",
      "monica\n",
      "ross0.93588427699795\n",
      "ross\n",
      "monica0.881080017493286\n",
      "monica\n",
      "ross0.9358919644651662\n",
      "ross\n",
      "monica0.7647275786407912\n",
      "monica\n",
      "ross0.9520450653667524\n",
      "ross\n"
     ]
    },
    {
     "name": "stderr",
     "output_type": "stream",
     "text": [
      "\r",
      " 65%|█████████████████████████▉              | 698/1075 [00:19<00:14, 25.62it/s]"
     ]
    },
    {
     "name": "stdout",
     "output_type": "stream",
     "text": [
      "monica0.7408553687898637\n",
      "monica\n",
      "ross0.9361266501534934\n",
      "ross\n",
      "monica0.7369774982069165\n",
      "monica\n",
      "ross0.9327362929757196\n",
      "ross\n",
      "monica0.7348282228610439\n",
      "monica\n",
      "ross0.9355605793842567\n",
      "ross\n"
     ]
    },
    {
     "name": "stderr",
     "output_type": "stream",
     "text": [
      "\r",
      " 65%|██████████████████████████              | 701/1075 [00:19<00:14, 25.64it/s]"
     ]
    },
    {
     "name": "stdout",
     "output_type": "stream",
     "text": [
      "monica0.7302110399722915\n",
      "monica\n",
      "ross0.9200731178332143\n",
      "ross\n",
      "monica0.7291723654815825\n",
      "monica\n",
      "ross0.9212572303631616\n",
      "ross\n",
      "ross0.9299680760061262\n",
      "ross\n",
      "monica0.776712600447101\n",
      "monica\n"
     ]
    },
    {
     "name": "stderr",
     "output_type": "stream",
     "text": [
      "\r",
      " 65%|██████████████████████████▏             | 704/1075 [00:19<00:14, 25.73it/s]"
     ]
    },
    {
     "name": "stdout",
     "output_type": "stream",
     "text": [
      "ross0.9236028103643016\n",
      "ross\n",
      "monica0.6812690636720133\n",
      "monica\n",
      "ross0.920806971100595\n",
      "ross\n",
      "monica0.667278323032214\n",
      "monica\n",
      "ross0.9252457573062031\n",
      "ross\n",
      "monica0.7078837870175395\n",
      "monica\n"
     ]
    },
    {
     "name": "stderr",
     "output_type": "stream",
     "text": [
      "\r",
      " 66%|██████████████████████████▎             | 708/1075 [00:19<00:13, 28.06it/s]"
     ]
    },
    {
     "name": "stdout",
     "output_type": "stream",
     "text": [
      "ross0.9467495495381161\n",
      "ross\n",
      "ross0.9477145945987305\n",
      "ross\n",
      "ross0.9417408582520522\n",
      "ross\n",
      "ross0.8895886717165578\n",
      "ross\n"
     ]
    },
    {
     "name": "stderr",
     "output_type": "stream",
     "text": [
      "\r",
      " 66%|██████████████████████████▍             | 712/1075 [00:19<00:11, 30.31it/s]"
     ]
    },
    {
     "name": "stdout",
     "output_type": "stream",
     "text": [
      "ross0.8908277468178414\n",
      "ross\n",
      "ross0.8903041619201204\n",
      "ross\n",
      "ross0.8933277572568319\n",
      "ross\n",
      "ross0.8750111368284977\n",
      "ross\n",
      "ross0.8810508194294342\n",
      "ross\n",
      "ross0.8788865652825918\n",
      "ross\n"
     ]
    },
    {
     "name": "stderr",
     "output_type": "stream",
     "text": [
      "\r",
      " 67%|██████████████████████████▋             | 716/1075 [00:19<00:12, 28.03it/s]"
     ]
    },
    {
     "name": "stdout",
     "output_type": "stream",
     "text": [
      "ross0.8515634296917112\n",
      "ross\n",
      "ross0.8582697741216648\n",
      "ross\n",
      "ross0.9022786990876084\n",
      "ross\n",
      "ross0.9016733080435911\n",
      "ross\n"
     ]
    },
    {
     "name": "stderr",
     "output_type": "stream",
     "text": [
      "\r",
      " 67%|██████████████████████████▊             | 720/1075 [00:20<00:11, 30.15it/s]"
     ]
    },
    {
     "name": "stdout",
     "output_type": "stream",
     "text": [
      "ross0.9013399898752398\n",
      "ross\n",
      "ross0.9024600617555437\n",
      "ross\n",
      "ross0.921699238625064\n",
      "ross\n",
      "ross0.9222528727681559\n",
      "ross\n"
     ]
    },
    {
     "name": "stderr",
     "output_type": "stream",
     "text": [
      "\r",
      " 67%|██████████████████████████▉             | 724/1075 [00:20<00:11, 31.38it/s]"
     ]
    },
    {
     "name": "stdout",
     "output_type": "stream",
     "text": [
      "ross0.9194544716264522\n",
      "ross\n",
      "ross0.9186076202115482\n",
      "ross\n",
      "ross0.9186549831184534\n",
      "ross\n",
      "ross0.9151072742946291\n",
      "ross\n"
     ]
    },
    {
     "name": "stderr",
     "output_type": "stream",
     "text": [
      "\r",
      " 68%|███████████████████████████             | 728/1075 [00:20<00:10, 32.89it/s]"
     ]
    },
    {
     "name": "stdout",
     "output_type": "stream",
     "text": [
      "ross0.8942916470033623\n",
      "ross\n",
      "ross0.8935290572844025\n",
      "ross\n",
      "ross0.886718167893994\n",
      "ross\n",
      "ross0.9402848768359601\n",
      "ross\n"
     ]
    },
    {
     "name": "stderr",
     "output_type": "stream",
     "text": [
      "\r",
      " 68%|███████████████████████████▏            | 732/1075 [00:20<00:10, 33.69it/s]"
     ]
    },
    {
     "name": "stdout",
     "output_type": "stream",
     "text": [
      "ross0.9410625784789173\n",
      "ross\n",
      "ross0.9393617881595746\n",
      "ross\n",
      "ross0.9088900297355521\n",
      "ross\n",
      "ross0.923518079688793\n",
      "ross\n"
     ]
    },
    {
     "name": "stderr",
     "output_type": "stream",
     "text": [
      "\r",
      " 68%|███████████████████████████▍            | 736/1075 [00:20<00:09, 34.57it/s]"
     ]
    },
    {
     "name": "stdout",
     "output_type": "stream",
     "text": [
      "ross0.9255985371112598\n",
      "ross\n",
      "ross0.9210620989889334\n",
      "ross\n",
      "ross0.919649619871146\n",
      "ross\n",
      "ross0.9185843955344656\n",
      "ross\n"
     ]
    },
    {
     "name": "stderr",
     "output_type": "stream",
     "text": [
      "\r",
      " 69%|███████████████████████████▌            | 740/1075 [00:20<00:09, 35.27it/s]"
     ]
    },
    {
     "name": "stdout",
     "output_type": "stream",
     "text": [
      "ross0.8977405649274647\n",
      "ross\n",
      "ross0.9181131980623412\n",
      "ross\n",
      "ross0.9190512149121357\n",
      "ross\n",
      "ross0.9201533561172028\n",
      "ross\n"
     ]
    },
    {
     "name": "stderr",
     "output_type": "stream",
     "text": [
      "\r",
      " 69%|███████████████████████████▋            | 744/1075 [00:20<00:09, 35.93it/s]"
     ]
    },
    {
     "name": "stdout",
     "output_type": "stream",
     "text": [
      "ross0.8952564568046812\n",
      "ross\n",
      "ross0.8968078728489883\n",
      "ross\n",
      "ross0.906042670351826\n",
      "ross\n",
      "ross0.9184223520143099\n",
      "ross\n"
     ]
    },
    {
     "name": "stderr",
     "output_type": "stream",
     "text": [
      "\r",
      " 70%|███████████████████████████▊            | 748/1075 [00:20<00:08, 36.44it/s]"
     ]
    },
    {
     "name": "stdout",
     "output_type": "stream",
     "text": [
      "ross0.9182896965876831\n",
      "ross\n",
      "ross0.9179900435734925\n",
      "ross\n",
      "ross0.932637665488909\n",
      "ross\n",
      "ross0.8974409736007994\n",
      "ross\n",
      "monica0.8654787503768632\n",
      "monica\n"
     ]
    },
    {
     "name": "stderr",
     "output_type": "stream",
     "text": [
      "\r",
      " 70%|███████████████████████████▉            | 752/1075 [00:20<00:09, 34.50it/s]"
     ]
    },
    {
     "name": "stdout",
     "output_type": "stream",
     "text": [
      "ross0.8914586842945671\n",
      "ross\n",
      "monica0.8839230554147525\n",
      "monica\n",
      "ross0.8878745760955995\n",
      "ross\n",
      "monica0.7908211754813409\n",
      "monica\n"
     ]
    },
    {
     "name": "stderr",
     "output_type": "stream",
     "text": [
      "\r",
      " 70%|████████████████████████████▏           | 756/1075 [00:21<00:09, 32.73it/s]"
     ]
    },
    {
     "name": "stdout",
     "output_type": "stream",
     "text": [
      "ross0.8838595619575118\n",
      "ross\n",
      "monica0.7926249016658226\n",
      "monica\n",
      "ross0.8825175827394776\n",
      "ross\n",
      "monica0.796539031506036\n",
      "monica\n",
      "ross0.8993766051350824\n",
      "ross\n",
      "ross0.8884004338255759\n",
      "ross\n",
      "ross0.8895992734804928\n",
      "ross\n"
     ]
    },
    {
     "name": "stderr",
     "output_type": "stream",
     "text": [
      "\r",
      " 71%|████████████████████████████▎           | 760/1075 [00:21<00:09, 34.21it/s]"
     ]
    },
    {
     "name": "stdout",
     "output_type": "stream",
     "text": [
      "ross0.8899783216414339\n",
      "ross\n",
      "ross0.8713005911465554\n",
      "ross\n",
      "ross0.8681312724736979\n",
      "ross\n"
     ]
    },
    {
     "name": "stderr",
     "output_type": "stream",
     "text": [
      "\r",
      " 71%|████████████████████████████▍           | 764/1075 [00:21<00:08, 35.55it/s]"
     ]
    },
    {
     "name": "stdout",
     "output_type": "stream",
     "text": [
      "ross0.9036427216712211\n",
      "ross\n",
      "ross0.914727179419201\n",
      "ross\n",
      "ross0.9206773032717764\n",
      "ross\n",
      "ross0.9165680677821509\n",
      "ross\n",
      "ross0.9317670342344543\n",
      "ross\n"
     ]
    },
    {
     "name": "stderr",
     "output_type": "stream",
     "text": [
      "\r",
      " 71%|████████████████████████████▌           | 768/1075 [00:21<00:08, 36.54it/s]"
     ]
    },
    {
     "name": "stdout",
     "output_type": "stream",
     "text": [
      "ross0.9341648571684185\n",
      "ross\n",
      "ross0.9215790657735007\n",
      "ross\n",
      "ross0.9080369300606531\n",
      "ross\n"
     ]
    },
    {
     "name": "stderr",
     "output_type": "stream",
     "text": [
      "\r",
      " 72%|████████████████████████████▋           | 772/1075 [00:21<00:08, 36.22it/s]"
     ]
    },
    {
     "name": "stdout",
     "output_type": "stream",
     "text": [
      "ross0.9086062712863425\n",
      "ross\n",
      "ross0.9113381049086025\n",
      "ross\n",
      "ross0.9078733043240714\n",
      "ross\n",
      "monica0.7275744232017461\n",
      "monica\n",
      "ross0.8988684317541857\n",
      "ross\n",
      "monica0.7044694023108061\n",
      "monica\n",
      "ross0.8997764892280753\n",
      "ross\n",
      "monica0.6967837323944928\n",
      "monica\n",
      "ross0.898314060575209\n",
      "ross\n",
      "monica0.6960111652386971\n",
      "monica\n"
     ]
    },
    {
     "name": "stderr",
     "output_type": "stream",
     "text": [
      "\r",
      " 72%|████████████████████████████▊           | 776/1075 [00:21<00:09, 33.12it/s]"
     ]
    },
    {
     "name": "stdout",
     "output_type": "stream",
     "text": [
      "ross0.8885580667377146\n",
      "ross\n",
      "monica0.8170136100887618\n",
      "monica\n",
      "ross0.9059699902553096\n",
      "ross\n",
      "monica0.7938556665256555\n",
      "monica\n",
      "ross0.8965394739414184\n",
      "ross\n",
      "monica0.883226744357148\n",
      "monica\n",
      "ross0.8833355378112812\n",
      "ross\n",
      "monica0.7813029306772179\n",
      "monica\n"
     ]
    },
    {
     "name": "stderr",
     "output_type": "stream",
     "text": [
      "\r",
      " 73%|█████████████████████████████           | 780/1075 [00:21<00:09, 31.26it/s]"
     ]
    },
    {
     "name": "stdout",
     "output_type": "stream",
     "text": [
      "ross0.8839556712534512\n",
      "ross\n",
      "monica0.8048417762011415\n",
      "monica\n",
      "ross0.8892202886489222\n",
      "ross\n",
      "monica0.7922103828332805\n",
      "monica\n"
     ]
    },
    {
     "name": "stderr",
     "output_type": "stream",
     "text": [
      "\r",
      " 73%|█████████████████████████████▏          | 784/1075 [00:21<00:09, 30.03it/s]"
     ]
    },
    {
     "name": "stdout",
     "output_type": "stream",
     "text": [
      "monica0.7265736407156075\n",
      "monica\n",
      "ross0.8435438849459697\n",
      "ross\n",
      "monica0.7360013699010989\n",
      "monica\n",
      "ross0.847496472676112\n",
      "ross\n",
      "monica0.8283504290066693\n",
      "monica\n",
      "ross0.870826017844711\n",
      "ross\n",
      "ross0.8496122164185534\n",
      "ross\n",
      "monica0.8558868148095812\n",
      "monica\n",
      "ross0.8474487837381307\n",
      "ross\n",
      "monica0.8555901629507335\n",
      "monica\n",
      "ross0.8446157778115388\n",
      "ross\n",
      "monica0.8520575304460744\n",
      "monica\n"
     ]
    },
    {
     "name": "stderr",
     "output_type": "stream",
     "text": [
      " 74%|█████████████████████████████▍          | 791/1075 [00:22<00:09, 28.83it/s]"
     ]
    },
    {
     "name": "stdout",
     "output_type": "stream",
     "text": [
      "ross0.8791331581118708\n",
      "ross\n",
      "monica0.8452489352244148\n",
      "monica\n",
      "ross0.8739574666663937\n",
      "ross\n",
      "monica0.828160662443624\n",
      "monica\n",
      "ross0.8467120534570953\n",
      "ross\n",
      "monica0.8452224659596603\n",
      "monica\n",
      "monica0.9348459887244797\n",
      "monica\n",
      "ross0.8847643720025554\n",
      "ross\n",
      "monica0.9370807293468643\n",
      "monica\n",
      "ross0.8890290629439486\n",
      "ross\n",
      "monica0.9383281988319293\n",
      "monica\n",
      "ross0.8848956812965107\n",
      "ross\n"
     ]
    },
    {
     "name": "stderr",
     "output_type": "stream",
     "text": [
      "\r",
      " 74%|█████████████████████████████▌          | 794/1075 [00:22<00:09, 28.49it/s]"
     ]
    },
    {
     "name": "stdout",
     "output_type": "stream",
     "text": [
      "monica0.9489053368828708\n",
      "monica\n",
      "ross0.8782726555095954\n",
      "ross\n",
      "monica0.9286769155043834\n",
      "monica\n",
      "ross0.9216537956467805\n",
      "ross\n",
      "monica0.9259227245470043\n",
      "monica\n",
      "ross0.9241491954487934\n",
      "ross\n"
     ]
    },
    {
     "name": "stderr",
     "output_type": "stream",
     "text": [
      "\r",
      " 74%|█████████████████████████████▋          | 797/1075 [00:22<00:10, 25.40it/s]"
     ]
    },
    {
     "name": "stdout",
     "output_type": "stream",
     "text": [
      "ross0.9239510806462251\n",
      "ross\n",
      "monica0.9447801167386664\n",
      "monica\n",
      "ross0.9158651961745599\n",
      "ross\n",
      "monica0.9491608925547408\n",
      "monica\n"
     ]
    },
    {
     "name": "stderr",
     "output_type": "stream",
     "text": [
      "\r",
      " 74%|█████████████████████████████▊          | 800/1075 [00:22<00:10, 26.01it/s]"
     ]
    },
    {
     "name": "stdout",
     "output_type": "stream",
     "text": [
      "ross0.917472171713424\n",
      "ross\n",
      "monica0.9559037864958639\n",
      "monica\n",
      "monica0.9566326291181281\n",
      "monica\n",
      "ross0.9039919955506611\n",
      "ross\n",
      "monica0.9613227527318287\n",
      "monica\n",
      "ross0.8887497754143581\n",
      "ross\n",
      "monica0.9611625089481499\n",
      "monica\n",
      "ross0.8966206605013213\n",
      "ross\n"
     ]
    },
    {
     "name": "stderr",
     "output_type": "stream",
     "text": [
      "\r",
      " 75%|█████████████████████████████▉          | 803/1075 [00:22<00:10, 26.32it/s]"
     ]
    },
    {
     "name": "stdout",
     "output_type": "stream",
     "text": [
      "monica0.9585658594689216\n",
      "monica\n",
      "ross0.8852166791864862\n",
      "ross\n",
      "monica0.9442036495311603\n",
      "monica\n",
      "ross0.9052659740060236\n",
      "ross\n"
     ]
    },
    {
     "name": "stderr",
     "output_type": "stream",
     "text": [
      "\r",
      " 75%|█████████████████████████████▉          | 806/1075 [00:22<00:10, 26.51it/s]"
     ]
    },
    {
     "name": "stdout",
     "output_type": "stream",
     "text": [
      "monica0.943137442772788\n",
      "monica\n",
      "ross0.9063844487522543\n",
      "ross\n",
      "monica0.9536169301816895\n",
      "monica\n",
      "ross0.9212121734009374\n",
      "ross\n",
      "monica0.9220874239209558\n",
      "monica\n",
      "ross0.9268709557912236\n",
      "ross\n",
      "monica0.9233024746230154\n",
      "monica\n",
      "ross0.9225060609932147\n",
      "ross\n"
     ]
    },
    {
     "name": "stderr",
     "output_type": "stream",
     "text": [
      "\r",
      " 75%|██████████████████████████████          | 809/1075 [00:22<00:09, 26.74it/s]"
     ]
    },
    {
     "name": "stdout",
     "output_type": "stream",
     "text": [
      "monica0.9270860010838409\n",
      "monica\n",
      "ross0.9249071808860897\n",
      "ross\n",
      "monica0.9408339666340967\n",
      "monica\n",
      "ross0.9039197026786538\n",
      "ross\n"
     ]
    },
    {
     "name": "stderr",
     "output_type": "stream",
     "text": [
      "\r",
      " 76%|██████████████████████████████▏         | 812/1075 [00:22<00:09, 26.67it/s]"
     ]
    },
    {
     "name": "stdout",
     "output_type": "stream",
     "text": [
      "monica0.9495320644933511\n",
      "monica\n",
      "ross0.907873208285885\n",
      "ross\n",
      "monica0.9511967242003996\n",
      "monica\n",
      "ross0.9086393890167193\n",
      "ross\n",
      "monica0.9460710235943129\n",
      "monica\n",
      "ross0.894164106913066\n",
      "ross\n",
      "monica0.9463179462469724\n",
      "monica\n",
      "ross0.8924168897739775\n",
      "ross\n"
     ]
    },
    {
     "name": "stderr",
     "output_type": "stream",
     "text": [
      "\r",
      " 76%|██████████████████████████████▎         | 815/1075 [00:23<00:09, 26.78it/s]"
     ]
    },
    {
     "name": "stdout",
     "output_type": "stream",
     "text": [
      "monica0.946453643481166\n",
      "monica\n",
      "ross0.8969937886484592\n",
      "ross\n",
      "monica0.8937158180711812\n",
      "monica\n",
      "ross0.9228559750652909\n",
      "ross\n"
     ]
    },
    {
     "name": "stderr",
     "output_type": "stream",
     "text": [
      "\r",
      " 76%|██████████████████████████████▍         | 818/1075 [00:23<00:09, 26.81it/s]"
     ]
    },
    {
     "name": "stdout",
     "output_type": "stream",
     "text": [
      "monica0.9200925373577713\n",
      "monica\n",
      "ross0.9348677144233525\n",
      "ross\n",
      "monica0.9183544885455714\n",
      "monica\n",
      "ross0.9326259705071007\n",
      "ross\n",
      "monica0.9201422577922941\n",
      "monica\n",
      "ross0.9325611608595228\n",
      "ross\n",
      "monica0.930160854331137\n",
      "monica\n",
      "ross0.887564488288698\n",
      "ross\n"
     ]
    },
    {
     "name": "stderr",
     "output_type": "stream",
     "text": [
      "\r",
      " 76%|██████████████████████████████▌         | 821/1075 [00:23<00:09, 26.75it/s]"
     ]
    },
    {
     "name": "stdout",
     "output_type": "stream",
     "text": [
      "monica0.9306620713538825\n",
      "monica\n",
      "ross0.8831451877447775\n",
      "ross\n",
      "ross0.9408909617301034\n",
      "ross\n",
      "monica0.9366823911183271\n",
      "monica\n"
     ]
    },
    {
     "name": "stderr",
     "output_type": "stream",
     "text": [
      "\r",
      " 77%|██████████████████████████████▋         | 825/1075 [00:23<00:08, 28.98it/s]"
     ]
    },
    {
     "name": "stdout",
     "output_type": "stream",
     "text": [
      "joey0.8715791663209809\n",
      "joey\n",
      "joey0.8615265203490738\n",
      "joey\n",
      "joey0.8637182784718739\n",
      "joey\n",
      "joey0.908064286305264\n",
      "joey\n",
      "joey0.908527263333184\n",
      "joey\n",
      "joey0.8458343888391612\n",
      "joey\n"
     ]
    },
    {
     "name": "stderr",
     "output_type": "stream",
     "text": [
      "\r",
      " 77%|██████████████████████████████▊         | 829/1075 [00:23<00:07, 31.77it/s]"
     ]
    },
    {
     "name": "stdout",
     "output_type": "stream",
     "text": [
      "joey0.8939627143131744\n",
      "joey\n",
      "joey0.8847981818479258\n",
      "joey\n"
     ]
    },
    {
     "name": "stderr",
     "output_type": "stream",
     "text": [
      "\r",
      " 77%|██████████████████████████████▉         | 833/1075 [00:23<00:07, 33.73it/s]"
     ]
    },
    {
     "name": "stdout",
     "output_type": "stream",
     "text": [
      "joey0.8934297921501625\n",
      "joey\n",
      "joey0.8569717166172659\n",
      "joey\n",
      "joey0.9138884514896277\n",
      "joey\n",
      "joey0.9241279337083657\n",
      "joey\n",
      "joey0.9252449895129647\n",
      "joey\n",
      "joey0.901514404042068\n",
      "joey\n"
     ]
    },
    {
     "name": "stderr",
     "output_type": "stream",
     "text": [
      "\r",
      " 78%|███████████████████████████████▏        | 837/1075 [00:23<00:06, 35.42it/s]"
     ]
    },
    {
     "name": "stdout",
     "output_type": "stream",
     "text": [
      "joey0.9071825545926394\n",
      "joey\n",
      "joey0.9233307954953262\n",
      "joey\n"
     ]
    },
    {
     "name": "stderr",
     "output_type": "stream",
     "text": [
      "\r",
      " 78%|███████████████████████████████▎        | 841/1075 [00:23<00:06, 36.45it/s]"
     ]
    },
    {
     "name": "stdout",
     "output_type": "stream",
     "text": [
      "joey0.9215284770201643\n",
      "joey\n",
      "joey0.9183384853985262\n",
      "joey\n",
      "joey0.9217990054211936\n",
      "joey\n",
      "joey0.9351567059885016\n",
      "joey\n",
      "joey0.9345360807471014\n",
      "joey\n",
      "joey0.9179316386650879\n",
      "joey\n"
     ]
    },
    {
     "name": "stderr",
     "output_type": "stream",
     "text": [
      "\r",
      " 79%|███████████████████████████████▍        | 845/1075 [00:23<00:06, 37.24it/s]"
     ]
    },
    {
     "name": "stdout",
     "output_type": "stream",
     "text": [
      "joey0.9055132987946181\n",
      "joey\n",
      "joey0.9049354529982401\n",
      "joey\n"
     ]
    },
    {
     "name": "stderr",
     "output_type": "stream",
     "text": [
      "\r",
      " 79%|███████████████████████████████▌        | 849/1075 [00:24<00:06, 37.64it/s]"
     ]
    },
    {
     "name": "stdout",
     "output_type": "stream",
     "text": [
      "joey0.904502937992717\n",
      "joey\n",
      "joey0.9223888026906009\n",
      "joey\n",
      "joey0.9188556449159581\n",
      "joey\n",
      "joey0.9120819372377055\n",
      "joey\n",
      "joey0.9096067638271933\n",
      "joey\n",
      "joey0.9099232696496626\n",
      "joey\n"
     ]
    },
    {
     "name": "stderr",
     "output_type": "stream",
     "text": [
      "\r",
      " 79%|███████████████████████████████▋        | 853/1075 [00:24<00:05, 37.82it/s]"
     ]
    },
    {
     "name": "stdout",
     "output_type": "stream",
     "text": [
      "joey0.9089841739700704\n",
      "joey\n",
      "joey0.8945186275971101\n",
      "joey\n"
     ]
    },
    {
     "name": "stderr",
     "output_type": "stream",
     "text": [
      "\r",
      " 80%|███████████████████████████████▉        | 857/1075 [00:24<00:05, 38.22it/s]"
     ]
    },
    {
     "name": "stdout",
     "output_type": "stream",
     "text": [
      "joey0.8801094918320498\n",
      "joey\n",
      "joey0.8787336648740588\n",
      "joey\n",
      "joey0.8834886368269864\n",
      "joey\n",
      "joey0.9519965629921165\n",
      "joey\n",
      "joey0.9519102741143182\n",
      "joey\n",
      "joey0.9247675007357633\n",
      "joey\n"
     ]
    },
    {
     "name": "stderr",
     "output_type": "stream",
     "text": [
      "\r",
      " 80%|████████████████████████████████        | 861/1075 [00:24<00:05, 38.58it/s]"
     ]
    },
    {
     "name": "stdout",
     "output_type": "stream",
     "text": [
      "joey0.9394446827492577\n",
      "joey\n",
      "joey0.9273636506393604\n",
      "joey\n"
     ]
    },
    {
     "name": "stderr",
     "output_type": "stream",
     "text": [
      "\r",
      " 80%|████████████████████████████████▏       | 865/1075 [00:24<00:05, 38.77it/s]"
     ]
    },
    {
     "name": "stdout",
     "output_type": "stream",
     "text": [
      "joey0.9390233068783101\n",
      "joey\n",
      "joey0.9495078073460884\n",
      "joey\n",
      "joey0.9488254869079494\n",
      "joey\n",
      "joey0.9382160818601089\n",
      "joey\n",
      "joey0.9394654838230513\n",
      "joey\n",
      "joey0.9427626328571936\n",
      "joey\n"
     ]
    },
    {
     "name": "stderr",
     "output_type": "stream",
     "text": [
      "\r",
      " 81%|████████████████████████████████▎       | 869/1075 [00:24<00:05, 39.03it/s]"
     ]
    },
    {
     "name": "stdout",
     "output_type": "stream",
     "text": [
      "joey0.9476686852206276\n",
      "joey\n",
      "joey0.9181010139466586\n",
      "joey\n"
     ]
    },
    {
     "name": "stderr",
     "output_type": "stream",
     "text": [
      "\r",
      " 81%|████████████████████████████████▍       | 873/1075 [00:24<00:05, 39.02it/s]"
     ]
    },
    {
     "name": "stdout",
     "output_type": "stream",
     "text": [
      "joey0.9010052434355562\n",
      "joey\n",
      "joey0.9020309383605147\n",
      "joey\n",
      "joey0.8352583172672312\n",
      "joey\n",
      "joey0.8423903267272675\n",
      "joey\n",
      "joey0.8613842100048706\n",
      "joey\n",
      "joey0.8973838517418182\n",
      "joey\n"
     ]
    },
    {
     "name": "stderr",
     "output_type": "stream",
     "text": [
      "\r",
      " 82%|████████████████████████████████▋       | 877/1075 [00:24<00:05, 39.26it/s]"
     ]
    },
    {
     "name": "stdout",
     "output_type": "stream",
     "text": [
      "joey0.8927642101015831\n",
      "joey\n",
      "joey0.8944174633965774\n",
      "joey\n"
     ]
    },
    {
     "name": "stderr",
     "output_type": "stream",
     "text": [
      "\r",
      " 82%|████████████████████████████████▊       | 881/1075 [00:24<00:04, 39.05it/s]"
     ]
    },
    {
     "name": "stdout",
     "output_type": "stream",
     "text": [
      "joey0.8870567560019539\n",
      "joey\n",
      "joey0.8858796612146338\n",
      "joey\n",
      "joey0.8857762380225738\n",
      "joey\n",
      "joey0.9046589787317866\n",
      "joey\n",
      "joey0.9206333990298042\n",
      "joey\n",
      "joey0.9252784542818305\n",
      "joey\n"
     ]
    },
    {
     "name": "stderr",
     "output_type": "stream",
     "text": [
      "\r",
      " 82%|████████████████████████████████▉       | 885/1075 [00:24<00:04, 38.76it/s]"
     ]
    },
    {
     "name": "stdout",
     "output_type": "stream",
     "text": [
      "joey0.9197892258311094\n",
      "joey\n",
      "joey0.938950507371513\n",
      "joey\n"
     ]
    },
    {
     "name": "stderr",
     "output_type": "stream",
     "text": [
      "\r",
      " 83%|█████████████████████████████████       | 889/1075 [00:25<00:04, 38.99it/s]"
     ]
    },
    {
     "name": "stdout",
     "output_type": "stream",
     "text": [
      "joey0.933959657237303\n",
      "joey\n",
      "joey0.9374495680826439\n",
      "joey\n",
      "joey0.948128871339079\n",
      "joey\n",
      "joey0.9433525432418719\n",
      "joey\n",
      "joey0.9470940099949194\n",
      "joey\n",
      "joey0.940258518996002\n",
      "joey\n"
     ]
    },
    {
     "name": "stderr",
     "output_type": "stream",
     "text": [
      "\r",
      " 83%|█████████████████████████████████▏      | 893/1075 [00:25<00:04, 39.11it/s]"
     ]
    },
    {
     "name": "stdout",
     "output_type": "stream",
     "text": [
      "joey0.9512193772139765\n",
      "joey\n",
      "joey0.9499711007150508\n",
      "joey\n"
     ]
    },
    {
     "name": "stderr",
     "output_type": "stream",
     "text": [
      "\r",
      " 83%|█████████████████████████████████▍      | 897/1075 [00:25<00:04, 39.11it/s]"
     ]
    },
    {
     "name": "stdout",
     "output_type": "stream",
     "text": [
      "joey0.9428069272752323\n",
      "joey\n",
      "joey0.9605875407107743\n",
      "joey\n",
      "joey0.9620596045535545\n",
      "joey\n",
      "joey0.9590225571492569\n",
      "joey\n",
      "joey0.9559723151628525\n",
      "joey\n",
      "joey0.9500287540228535\n",
      "joey\n"
     ]
    },
    {
     "name": "stderr",
     "output_type": "stream",
     "text": [
      "\r",
      " 84%|█████████████████████████████████▌      | 901/1075 [00:25<00:04, 39.16it/s]"
     ]
    },
    {
     "name": "stdout",
     "output_type": "stream",
     "text": [
      "joey0.9562335529054308\n",
      "joey\n",
      "joey0.9630186567740274\n",
      "joey\n"
     ]
    },
    {
     "name": "stderr",
     "output_type": "stream",
     "text": [
      "\r",
      " 84%|█████████████████████████████████▋      | 905/1075 [00:25<00:04, 39.04it/s]"
     ]
    },
    {
     "name": "stdout",
     "output_type": "stream",
     "text": [
      "joey0.9632825074697233\n",
      "joey\n",
      "joey0.9497350116405266\n",
      "joey\n",
      "joey0.948637094678162\n",
      "joey\n",
      "joey0.9502010619297134\n",
      "joey\n",
      "joey0.9528722188316386\n",
      "joey\n",
      "joey0.957877781173157\n",
      "joey\n"
     ]
    },
    {
     "name": "stderr",
     "output_type": "stream",
     "text": [
      "\r",
      " 85%|█████████████████████████████████▊      | 910/1075 [00:25<00:04, 39.43it/s]"
     ]
    },
    {
     "name": "stdout",
     "output_type": "stream",
     "text": [
      "joey0.954440996994371\n",
      "joey\n",
      "joey0.971893923598102\n",
      "joey\n",
      "joey0.9239118403262152\n",
      "joey\n"
     ]
    },
    {
     "name": "stderr",
     "output_type": "stream",
     "text": [
      "\r",
      " 85%|██████████████████████████████████      | 914/1075 [00:25<00:04, 39.21it/s]"
     ]
    },
    {
     "name": "stdout",
     "output_type": "stream",
     "text": [
      "joey0.9301487917159833\n",
      "joey\n",
      "joey0.9256055819561652\n",
      "joey\n",
      "joey0.9445168045800449\n",
      "joey\n",
      "joey0.9308772831326123\n",
      "joey\n",
      "joey0.9338635638815954\n",
      "joey\n"
     ]
    },
    {
     "name": "stderr",
     "output_type": "stream",
     "text": [
      "\r",
      " 85%|██████████████████████████████████▏     | 918/1075 [00:25<00:03, 39.34it/s]"
     ]
    },
    {
     "name": "stdout",
     "output_type": "stream",
     "text": [
      "joey0.9288373135165671\n",
      "joey\n",
      "joey0.9441588029633415\n",
      "joey\n",
      "joey0.9461263905523302\n",
      "joey\n"
     ]
    },
    {
     "name": "stderr",
     "output_type": "stream",
     "text": [
      "\r",
      " 86%|██████████████████████████████████▎     | 922/1075 [00:25<00:03, 39.30it/s]"
     ]
    },
    {
     "name": "stdout",
     "output_type": "stream",
     "text": [
      "joey0.9407601923277112\n",
      "joey\n",
      "joey0.9614102934839637\n",
      "joey\n",
      "joey0.9677498571453139\n",
      "joey\n",
      "joey0.9704716774105646\n",
      "joey\n",
      "joey0.9306445189474521\n",
      "joey\n"
     ]
    },
    {
     "name": "stderr",
     "output_type": "stream",
     "text": [
      "\r",
      " 86%|██████████████████████████████████▍     | 926/1075 [00:26<00:03, 39.33it/s]"
     ]
    },
    {
     "name": "stdout",
     "output_type": "stream",
     "text": [
      "joey0.9300709288161537\n",
      "joey\n",
      "joey0.913948007438724\n",
      "joey\n",
      "joey0.8971075111475629\n",
      "joey\n"
     ]
    },
    {
     "name": "stderr",
     "output_type": "stream",
     "text": [
      "\r",
      " 87%|██████████████████████████████████▌     | 930/1075 [00:26<00:03, 39.14it/s]"
     ]
    },
    {
     "name": "stdout",
     "output_type": "stream",
     "text": [
      "joey0.8945722414354168\n",
      "joey\n",
      "joey0.9129612226176096\n",
      "joey\n",
      "joey0.9175459239570986\n",
      "joey\n",
      "joey0.9290198849054128\n",
      "joey\n",
      "joey0.9329401379591635\n",
      "joey\n"
     ]
    },
    {
     "name": "stderr",
     "output_type": "stream",
     "text": [
      "\r",
      " 87%|██████████████████████████████████▊     | 934/1075 [00:26<00:03, 39.21it/s]"
     ]
    },
    {
     "name": "stdout",
     "output_type": "stream",
     "text": [
      "joey0.9376394083963702\n",
      "joey\n",
      "joey0.9379633624687898\n",
      "joey\n",
      "joey0.9308095370080957\n",
      "joey\n"
     ]
    },
    {
     "name": "stderr",
     "output_type": "stream",
     "text": [
      "\r",
      " 87%|██████████████████████████████████▉     | 938/1075 [00:26<00:03, 39.39it/s]"
     ]
    },
    {
     "name": "stdout",
     "output_type": "stream",
     "text": [
      "joey0.925543707152317\n",
      "joey\n",
      "joey0.9508628430236081\n",
      "joey\n",
      "joey0.9513955167336223\n",
      "joey\n",
      "joey0.9525501383235062\n",
      "joey\n",
      "joey0.9181149983337695\n",
      "joey\n"
     ]
    },
    {
     "name": "stderr",
     "output_type": "stream",
     "text": [
      "\r",
      " 88%|███████████████████████████████████     | 942/1075 [00:26<00:03, 39.30it/s]"
     ]
    },
    {
     "name": "stdout",
     "output_type": "stream",
     "text": [
      "joey0.9258686002406352\n",
      "joey\n",
      "joey0.922102889723805\n",
      "joey\n",
      "joey0.9300145245859273\n",
      "joey\n"
     ]
    },
    {
     "name": "stderr",
     "output_type": "stream",
     "text": [
      "\r",
      " 88%|███████████████████████████████████▏    | 946/1075 [00:26<00:03, 39.43it/s]"
     ]
    },
    {
     "name": "stdout",
     "output_type": "stream",
     "text": [
      "joey0.9251037796282104\n",
      "joey\n",
      "joey0.9255251605380043\n",
      "joey\n",
      "joey0.9426497026872706\n",
      "joey\n",
      "joey0.9436469780663146\n",
      "joey\n",
      "joey0.9654077910093639\n",
      "joey\n"
     ]
    },
    {
     "name": "stderr",
     "output_type": "stream",
     "text": [
      "\r",
      " 88%|███████████████████████████████████▎    | 950/1075 [00:26<00:03, 39.31it/s]"
     ]
    },
    {
     "name": "stdout",
     "output_type": "stream",
     "text": [
      "joey0.9451012046259247\n",
      "joey\n",
      "joey0.9490671088651541\n",
      "joey\n",
      "joey0.9428945464578957\n",
      "joey\n"
     ]
    },
    {
     "name": "stderr",
     "output_type": "stream",
     "text": [
      "\r",
      " 89%|███████████████████████████████████▌    | 955/1075 [00:26<00:03, 39.62it/s]"
     ]
    },
    {
     "name": "stdout",
     "output_type": "stream",
     "text": [
      "joey0.9586261810543678\n",
      "joey\n",
      "joey0.9405413466864991\n",
      "joey\n",
      "joey0.9434947618647199\n",
      "joey\n",
      "joey0.9460949636450722\n",
      "joey\n",
      "joey0.9664145525787659\n",
      "joey\n",
      "joey0.9662394094913341\n",
      "joey\n"
     ]
    },
    {
     "name": "stderr",
     "output_type": "stream",
     "text": [
      "\r",
      " 89%|███████████████████████████████████▋    | 959/1075 [00:26<00:02, 39.69it/s]"
     ]
    },
    {
     "name": "stdout",
     "output_type": "stream",
     "text": [
      "joey0.9352676597505425\n",
      "joey\n",
      "joey0.9428222674967446\n",
      "joey\n"
     ]
    },
    {
     "name": "stderr",
     "output_type": "stream",
     "text": [
      "\r",
      " 90%|███████████████████████████████████▊    | 963/1075 [00:26<00:02, 39.53it/s]"
     ]
    },
    {
     "name": "stdout",
     "output_type": "stream",
     "text": [
      "joey0.9434175945712242\n",
      "joey\n",
      "joey0.9431119211941414\n",
      "joey\n",
      "joey0.9005724333335257\n",
      "joey\n",
      "joey0.9126135079250797\n",
      "joey\n",
      "joey0.9087967189869258\n",
      "joey\n",
      "joey0.8828392367624592\n",
      "joey\n"
     ]
    },
    {
     "name": "stderr",
     "output_type": "stream",
     "text": [
      "\r",
      " 90%|████████████████████████████████████    | 968/1075 [00:27<00:02, 39.81it/s]"
     ]
    },
    {
     "name": "stdout",
     "output_type": "stream",
     "text": [
      "joey0.8883630821376886\n",
      "joey\n",
      "joey0.8855831327615109\n",
      "joey\n",
      "joey0.9189630957332319\n",
      "joey\n"
     ]
    },
    {
     "name": "stderr",
     "output_type": "stream",
     "text": [
      "\r",
      " 90%|████████████████████████████████████▏   | 972/1075 [00:27<00:02, 39.59it/s]"
     ]
    },
    {
     "name": "stdout",
     "output_type": "stream",
     "text": [
      "joey0.9175671816975404\n",
      "joey\n",
      "joey0.8710939248022609\n",
      "joey\n",
      "joey0.8890499282190003\n",
      "joey\n",
      "joey0.8913173862232879\n",
      "joey\n",
      "joey0.8823586991823195\n",
      "joey\n"
     ]
    },
    {
     "name": "stderr",
     "output_type": "stream",
     "text": [
      "\r",
      " 91%|████████████████████████████████████▎   | 976/1075 [00:27<00:02, 39.46it/s]"
     ]
    },
    {
     "name": "stdout",
     "output_type": "stream",
     "text": [
      "joey0.9032680946214795\n",
      "joey\n",
      "joey0.8943068360323564\n",
      "joey\n",
      "joey0.8901756530471194\n",
      "joey\n"
     ]
    },
    {
     "name": "stderr",
     "output_type": "stream",
     "text": [
      "\r",
      " 91%|████████████████████████████████████▍   | 980/1075 [00:27<00:02, 39.51it/s]"
     ]
    },
    {
     "name": "stdout",
     "output_type": "stream",
     "text": [
      "joey0.88607019819446\n",
      "joey\n",
      "joey0.8767215256282596\n",
      "joey\n",
      "joey0.8727505761332985\n",
      "joey\n",
      "joey0.9271339006747311\n",
      "joey\n",
      "joey0.8696870561897648\n",
      "joey\n"
     ]
    },
    {
     "name": "stderr",
     "output_type": "stream",
     "text": [
      "\r",
      " 92%|████████████████████████████████████▌   | 984/1075 [00:27<00:02, 39.53it/s]"
     ]
    },
    {
     "name": "stdout",
     "output_type": "stream",
     "text": [
      "joey0.8564878173099597\n",
      "joey\n",
      "joey0.8419724343071091\n",
      "joey\n",
      "joey0.8045742625751601\n",
      "joey\n"
     ]
    },
    {
     "name": "stderr",
     "output_type": "stream",
     "text": [
      "\r",
      " 92%|████████████████████████████████████▊   | 988/1075 [00:27<00:02, 39.46it/s]"
     ]
    },
    {
     "name": "stdout",
     "output_type": "stream",
     "text": [
      "joey0.8226364596050504\n",
      "joey\n",
      "joey0.8101755952411308\n",
      "joey\n",
      "joey0.8464574024155876\n",
      "joey\n",
      "joey0.8385602326890923\n",
      "joey\n",
      "joey0.8611943301876207\n",
      "joey\n"
     ]
    },
    {
     "name": "stderr",
     "output_type": "stream",
     "text": [
      "\r",
      " 92%|████████████████████████████████████▉   | 992/1075 [00:27<00:02, 39.48it/s]"
     ]
    },
    {
     "name": "stdout",
     "output_type": "stream",
     "text": [
      "joey0.7029243989102563\n",
      "joey\n",
      "joey0.8636295538183465\n",
      "joey\n",
      "joey0.8806744167834233\n",
      "joey\n"
     ]
    },
    {
     "name": "stderr",
     "output_type": "stream",
     "text": [
      "\r",
      " 93%|█████████████████████████████████████   | 996/1075 [00:27<00:02, 39.44it/s]"
     ]
    },
    {
     "name": "stdout",
     "output_type": "stream",
     "text": [
      "joey0.892165171346358\n",
      "joey\n",
      "joey0.887201399907217\n",
      "joey\n",
      "joey0.8703690828285398\n",
      "joey\n",
      "joey0.9062895904407954\n",
      "joey\n",
      "joey0.8870820740701287\n",
      "joey\n"
     ]
    },
    {
     "name": "stderr",
     "output_type": "stream",
     "text": [
      "\r",
      " 93%|████████████████████████████████████▎  | 1000/1075 [00:27<00:01, 39.50it/s]"
     ]
    },
    {
     "name": "stdout",
     "output_type": "stream",
     "text": [
      "joey0.8868147097380202\n",
      "joey\n",
      "joey0.8902528353953495\n",
      "joey\n",
      "joey0.905249591941543\n",
      "joey\n"
     ]
    },
    {
     "name": "stderr",
     "output_type": "stream",
     "text": [
      "\r",
      " 93%|████████████████████████████████████▍  | 1004/1075 [00:27<00:01, 39.57it/s]"
     ]
    },
    {
     "name": "stdout",
     "output_type": "stream",
     "text": [
      "joey0.9112127177599623\n",
      "joey\n",
      "joey0.9203297121816763\n",
      "joey\n",
      "joey0.9318266878028382\n",
      "joey\n",
      "joey0.9334423190235872\n",
      "joey\n",
      "joey0.9210099983276708\n",
      "joey\n",
      "joey0.9420118263392845\n",
      "joey\n"
     ]
    },
    {
     "name": "stderr",
     "output_type": "stream",
     "text": [
      "\r",
      " 94%|████████████████████████████████████▌  | 1008/1075 [00:28<00:01, 39.44it/s]"
     ]
    },
    {
     "name": "stdout",
     "output_type": "stream",
     "text": [
      "joey0.9433186338197539\n",
      "joey\n",
      "joey0.9338908723228884\n",
      "joey\n"
     ]
    },
    {
     "name": "stderr",
     "output_type": "stream",
     "text": [
      "\r",
      " 94%|████████████████████████████████████▋  | 1012/1075 [00:28<00:01, 39.33it/s]"
     ]
    },
    {
     "name": "stdout",
     "output_type": "stream",
     "text": [
      "joey0.9134676835850165\n",
      "joey\n",
      "joey0.9171283498238513\n",
      "joey\n",
      "joey0.9142933329142985\n",
      "joey\n",
      "joey0.9309554753591444\n",
      "joey\n",
      "joey0.9042577733571557\n",
      "joey\n",
      "joey0.9122627268928761\n",
      "joey\n"
     ]
    },
    {
     "name": "stderr",
     "output_type": "stream",
     "text": [
      "\r",
      " 95%|████████████████████████████████████▊  | 1016/1075 [00:28<00:01, 39.28it/s]"
     ]
    },
    {
     "name": "stdout",
     "output_type": "stream",
     "text": [
      "joey0.9087021504742164\n",
      "joey\n",
      "joey0.9276733475503866\n",
      "joey\n"
     ]
    },
    {
     "name": "stderr",
     "output_type": "stream",
     "text": [
      "\r",
      " 95%|█████████████████████████████████████  | 1020/1075 [00:28<00:01, 39.23it/s]"
     ]
    },
    {
     "name": "stdout",
     "output_type": "stream",
     "text": [
      "joey0.92741696448021\n",
      "joey\n",
      "joey0.9390981719385215\n",
      "joey\n",
      "joey0.9261859497800866\n",
      "joey\n",
      "joey0.9231752322496903\n",
      "joey\n",
      "joey0.9288009195514807\n",
      "joey\n",
      "joey0.943181428194141\n",
      "joey\n"
     ]
    },
    {
     "name": "stderr",
     "output_type": "stream",
     "text": [
      "\r",
      " 95%|█████████████████████████████████████▏ | 1024/1075 [00:28<00:01, 39.27it/s]"
     ]
    },
    {
     "name": "stdout",
     "output_type": "stream",
     "text": [
      "joey0.941163018875552\n",
      "joey\n",
      "joey0.950463834542672\n",
      "joey\n"
     ]
    },
    {
     "name": "stderr",
     "output_type": "stream",
     "text": [
      "\r",
      " 96%|█████████████████████████████████████▎ | 1028/1075 [00:28<00:01, 39.29it/s]"
     ]
    },
    {
     "name": "stdout",
     "output_type": "stream",
     "text": [
      "joey0.9555303693429804\n",
      "joey\n",
      "joey0.9531931083652028\n",
      "joey\n",
      "joey0.9554138719437967\n",
      "joey\n",
      "joey0.9283866597120295\n",
      "joey\n",
      "joey0.9248146430949499\n",
      "joey\n",
      "joey0.9355800928066484\n",
      "joey\n"
     ]
    },
    {
     "name": "stderr",
     "output_type": "stream",
     "text": [
      "\r",
      " 96%|█████████████████████████████████████▍ | 1032/1075 [00:28<00:01, 39.22it/s]"
     ]
    },
    {
     "name": "stdout",
     "output_type": "stream",
     "text": [
      "joey0.9309954997662194\n",
      "joey\n",
      "joey0.9156840441437093\n",
      "joey\n"
     ]
    },
    {
     "name": "stderr",
     "output_type": "stream",
     "text": [
      "\r",
      " 96%|█████████████████████████████████████▌ | 1036/1075 [00:28<00:01, 35.86it/s]"
     ]
    },
    {
     "name": "stdout",
     "output_type": "stream",
     "text": [
      "joey0.9131704873552128\n",
      "joey\n",
      "monica0.9722093967828088\n",
      "monica\n",
      "ross0.6368655852175635\n",
      "ross\n",
      "monica0.9703838572146692\n",
      "monica\n",
      "ross0.7080202273937747\n",
      "ross\n",
      "monica0.9708546001488845\n",
      "monica\n",
      "ross0.705087872170414\n",
      "ross\n",
      "monica0.9710068365784458\n",
      "monica\n",
      "ross0.7056317797066679\n",
      "ross\n",
      "monica0.9833689250565886\n",
      "monica\n",
      "ross0.6904960451643277\n",
      "ross\n"
     ]
    },
    {
     "name": "stderr",
     "output_type": "stream",
     "text": [
      "\r",
      " 97%|█████████████████████████████████████▋ | 1040/1075 [00:28<00:01, 32.65it/s]"
     ]
    },
    {
     "name": "stdout",
     "output_type": "stream",
     "text": [
      "monica0.983596910341078\n",
      "monica\n",
      "ross0.7113664652856003\n",
      "ross\n",
      "monica0.9801611911337291\n",
      "monica\n",
      "ross0.7266488532204952\n",
      "ross\n",
      "monica0.980868618961258\n",
      "monica\n",
      "ross0.7120228508108339\n",
      "ross\n",
      "monica0.9805379465423777\n",
      "monica\n",
      "ross0.7220957230856039\n",
      "ross\n",
      "monica0.9814783047447868\n",
      "monica\n",
      "ross0.6831647434443885\n",
      "ross\n"
     ]
    },
    {
     "name": "stderr",
     "output_type": "stream",
     "text": [
      "\r",
      " 97%|█████████████████████████████████████▉ | 1044/1075 [00:29<00:01, 30.90it/s]"
     ]
    },
    {
     "name": "stdout",
     "output_type": "stream",
     "text": [
      "monica0.9729391551981497\n",
      "monica\n",
      "ross0.7165477971633494\n",
      "ross\n"
     ]
    },
    {
     "name": "stderr",
     "output_type": "stream",
     "text": [
      "\r",
      " 97%|██████████████████████████████████████ | 1048/1075 [00:29<00:00, 29.89it/s]"
     ]
    },
    {
     "name": "stdout",
     "output_type": "stream",
     "text": [
      "monica0.972690774348679\n",
      "monica\n",
      "ross0.7107330778500489\n",
      "ross\n",
      "monica0.9756268855746074\n",
      "monica\n",
      "ross0.6205931516868818\n",
      "ross\n",
      "monica0.9595280011077233\n",
      "monica\n",
      "ross0.41803011071094925\n",
      "ross\n",
      "monica0.963879573993013\n",
      "monica\n",
      "ross0.41668529031200574\n",
      "ross\n",
      "monica0.9596527185853023\n",
      "monica\n",
      "ross0.387110766338576\n",
      "ross\n",
      "monica0.9171203486858988\n",
      "monica\n",
      "ross0.6775474027446826\n",
      "ross\n"
     ]
    },
    {
     "name": "stderr",
     "output_type": "stream",
     "text": [
      " 98%|██████████████████████████████████████▎| 1055/1075 [00:29<00:00, 28.80it/s]"
     ]
    },
    {
     "name": "stdout",
     "output_type": "stream",
     "text": [
      "monica0.9256254088987701\n",
      "monica\n",
      "ross0.5440999995076813\n",
      "ross\n",
      "monica0.925250580904902\n",
      "monica\n",
      "ross0.5177801882253731\n",
      "ross\n",
      "monica0.9170958887276924\n",
      "monica\n",
      "ross0.5119006742391202\n",
      "ross\n",
      "monica0.9197738775421\n",
      "monica\n",
      "ross0.5225268495068179\n",
      "ross\n",
      "monica0.9198029034228724\n",
      "monica\n",
      "ross0.5255301460166039\n",
      "ross\n",
      "monica0.9276053111724971\n",
      "monica\n",
      "ross0.5405756532940559\n",
      "ross\n"
     ]
    },
    {
     "name": "stderr",
     "output_type": "stream",
     "text": [
      " 99%|██████████████████████████████████████▍| 1061/1075 [00:29<00:00, 28.22it/s]"
     ]
    },
    {
     "name": "stdout",
     "output_type": "stream",
     "text": [
      "monica0.9336844916834625\n",
      "monica\n",
      "ross0.5972293097298041\n",
      "ross\n",
      "monica0.931952525721871\n",
      "monica\n",
      "ross0.6233920440961288\n",
      "ross\n",
      "monica0.9328382995341864\n",
      "monica\n",
      "ross0.6018807963718508\n",
      "ross\n",
      "monica0.8967811908818378\n",
      "monica\n",
      "ross0.4845797253670244\n",
      "ross\n",
      "monica0.8986799391612647\n",
      "monica\n",
      "ross0.47463382455360364\n",
      "ross\n",
      "monica0.9424114182653764\n",
      "monica\n",
      "ross0.4377002067201647\n",
      "ross\n"
     ]
    },
    {
     "name": "stderr",
     "output_type": "stream",
     "text": [
      " 99%|██████████████████████████████████████▋| 1067/1075 [00:29<00:00, 27.87it/s]"
     ]
    },
    {
     "name": "stdout",
     "output_type": "stream",
     "text": [
      "monica0.900114350225424\n",
      "monica\n",
      "ross0.43742750319399143\n",
      "ross\n",
      "monica0.9018556828495122\n",
      "monica\n",
      "ross0.4349130387066402\n",
      "ross\n",
      "monica0.8926471533994177\n",
      "monica\n",
      "ross0.4474206799542659\n",
      "ross\n",
      "monica0.8926437071174324\n",
      "monica\n",
      "ross0.4671966482971691\n",
      "ross\n",
      "monica0.9048465875830829\n",
      "monica\n",
      "ross0.4583457244904673\n",
      "ross\n",
      "monica0.8791577589214397\n",
      "monica\n",
      "ross0.7098095324853863\n",
      "ross\n"
     ]
    },
    {
     "name": "stderr",
     "output_type": "stream",
     "text": [
      "100%|██████████████████████████████████████▉| 1073/1075 [00:30<00:00, 27.65it/s]"
     ]
    },
    {
     "name": "stdout",
     "output_type": "stream",
     "text": [
      "monica0.9067970840710952\n",
      "monica\n",
      "ross0.6163301159652045\n",
      "ross\n",
      "monica0.9200253953247175\n",
      "monica\n",
      "ross0.6438215553829679\n",
      "ross\n",
      "monica0.9137133173990543\n",
      "monica\n",
      "ross0.6344088640509032\n",
      "ross\n",
      "monica0.8846620310697298\n",
      "monica\n",
      "ross0.7245705560978373\n",
      "ross\n",
      "monica0.9054616394080007\n",
      "monica\n",
      "ross0.7275740491134317\n",
      "ross\n",
      "monica0.9101273443292648\n",
      "monica\n",
      "ross0.7131308897454989\n",
      "ross\n"
     ]
    },
    {
     "name": "stderr",
     "output_type": "stream",
     "text": [
      "\r",
      "100%|███████████████████████████████████████| 1075/1075 [00:30<00:00, 35.52it/s]"
     ]
    },
    {
     "name": "stdout",
     "output_type": "stream",
     "text": [
      "monica0.9033587631276412\n",
      "monica\n",
      "ross0.7144375310829341\n",
      "ross\n"
     ]
    },
    {
     "name": "stderr",
     "output_type": "stream",
     "text": [
      "\n"
     ]
    }
   ],
   "source": [
    "#THIS IS THE ORIGINAL\n",
    "frame_number = 0\n",
    "\n",
    "for i in tqdm(range(length)):\n",
    "    # Grab a single frame of video\n",
    "    ret, frame = input_movie.read()\n",
    "    frame_number += 1\n",
    "\n",
    "    # Quit when the input video file ends\n",
    "    if not ret:\n",
    "        break\n",
    "\n",
    "    # Convert the image from BGR color (which OpenCV uses) to RGB color (which face_recognition uses)\n",
    "    # https://stackoverflow.com/questions/75926662/face-recognition-problem-with-face-encodings-function\n",
    "    rgb_frame = np.ascontiguousarray(frame[:, :, ::-1])\n",
    "\n",
    "    # Find all the faces and face encodings in the current frame of video\n",
    "    face_extract = detector.infer(rgb_frame)\n",
    "    if face_extract is not None:\n",
    "        face_embeddings = [\n",
    "            recognizer.infer(rgb_frame, face_extract[i][:-1])[0]\n",
    "            for i in range(len(face_extract))\n",
    "        ]\n",
    "    else:\n",
    "        print(\"No face found. Continuing\")\n",
    "        output_movie.write(frame)\n",
    "        continue\n",
    "\n",
    "    face_names = []\n",
    "    for e in face_embeddings:\n",
    "        # See if the face is a match for the known face(s)\n",
    "        prediction = clf.predict_proba([e])[0]\n",
    "        confidence = prediction[np.argmax(prediction)]\n",
    "        label = clf.classes_[np.argmax(prediction)] + str(confidence)\n",
    "        name = clf.classes_[np.argmax(prediction)] #ADDED\n",
    "        print(label)\n",
    "        print(name) #ADDED\n",
    "\n",
    "        face_names.append(label)\n",
    "\n",
    "    # Label the results\n",
    "    for i in range(len(face_extract)):\n",
    "        coords = face_extract[i][:-1].astype(np.int32)\n",
    "        # draw border\n",
    "        cv2.rectangle(\n",
    "            frame,\n",
    "            (coords[0], coords[1]),\n",
    "            (coords[0] + coords[2], coords[1] + coords[3]),\n",
    "            (0, 255, 0),\n",
    "            2,\n",
    "        )\n",
    "        # cv2.rectangle(frame, (left, top), (right, bottom), (0, 0, 255), 2)\n",
    "\n",
    "        # Draw a label with a name below the face\n",
    "        cv2.rectangle(\n",
    "            frame,\n",
    "            (coords[0], coords[1] + coords[3] - 25),\n",
    "            (coords[0] + coords[2], coords[1] + coords[3]),\n",
    "            (0, 0, 255),\n",
    "            cv2.FILLED,\n",
    "        )\n",
    "        font = cv2.FONT_HERSHEY_DUPLEX\n",
    "        cv2.putText(\n",
    "            frame,\n",
    "            face_names[i],\n",
    "            (coords[0] + 6, coords[1] + coords[3] - 6),\n",
    "            font,\n",
    "            0.5,\n",
    "            (255, 255, 255),\n",
    "            1,\n",
    "        )\n",
    "\n",
    "    # Write the resulting image to the output video file\n",
    "    output_movie.write(frame)\n",
    "\n",
    "# All done!\n",
    "input_movie.release()\n",
    "output_movie.release()\n",
    "cv2.destroyAllWindows()\n",
    "        "
   ]
  },
  {
   "cell_type": "code",
   "execution_count": 17,
   "id": "14dcc1a7",
   "metadata": {},
   "outputs": [
    {
     "name": "stderr",
     "output_type": "stream",
     "text": [
      "  1%|▍                                        | 11/1075 [00:00<00:20, 51.23it/s]"
     ]
    },
    {
     "name": "stdout",
     "output_type": "stream",
     "text": [
      "No face found. Continuing\n",
      "No face found. Continuing\n",
      "No face found. Continuing\n",
      "No face found. Continuing\n",
      "No face found. Continuing\n",
      "No face found. Continuing\n",
      "No face found. Continuing\n",
      "No face found. Continuing\n",
      "No face found. Continuing\n",
      "No face found. Continuing\n",
      "No face found. Continuing\n",
      "No face found. Continuing\n",
      "No face found. Continuing\n"
     ]
    },
    {
     "name": "stderr",
     "output_type": "stream",
     "text": [
      "  3%|█                                        | 28/1075 [00:00<00:14, 70.18it/s]"
     ]
    },
    {
     "name": "stdout",
     "output_type": "stream",
     "text": [
      "No face found. Continuing\n",
      "No face found. Continuing\n",
      "No face found. Continuing\n",
      "No face found. Continuing\n",
      "No face found. Continuing\n",
      "No face found. Continuing\n",
      "No face found. Continuing\n",
      "No face found. Continuing\n",
      "No face found. Continuing\n",
      "No face found. Continuing\n",
      "No face found. Continuing\n",
      "No face found. Continuing\n",
      "No face found. Continuing\n",
      "No face found. Continuing\n",
      "No face found. Continuing\n",
      "No face found. Continuing\n",
      "No face found. Continuing\n"
     ]
    },
    {
     "name": "stderr",
     "output_type": "stream",
     "text": [
      "  4%|█▋                                       | 44/1075 [00:00<00:14, 73.01it/s]"
     ]
    },
    {
     "name": "stdout",
     "output_type": "stream",
     "text": [
      "No face found. Continuing\n",
      "No face found. Continuing\n",
      "No face found. Continuing\n",
      "No face found. Continuing\n",
      "No face found. Continuing\n",
      "No face found. Continuing\n",
      "No face found. Continuing\n",
      "No face found. Continuing\n",
      "No face found. Continuing\n",
      "No face found. Continuing\n",
      "No face found. Continuing\n",
      "No face found. Continuing\n",
      "No face found. Continuing\n",
      "No face found. Continuing\n",
      "No face found. Continuing\n",
      "No face found. Continuing\n"
     ]
    },
    {
     "name": "stderr",
     "output_type": "stream",
     "text": [
      "\r",
      "  5%|█▉                                       | 52/1075 [00:00<00:15, 66.88it/s]"
     ]
    },
    {
     "name": "stdout",
     "output_type": "stream",
     "text": [
      "No face found. Continuing\n",
      "No face found. Continuing\n",
      "No face found. Continuing\n",
      "No face found. Continuing\n",
      "No face found. Continuing\n",
      "No face found. Continuing\n",
      "No face found. Continuing\n",
      "No face found. Continuing\n",
      "No face found. Continuing\n",
      "No face found. Continuing\n"
     ]
    },
    {
     "name": "stderr",
     "output_type": "stream",
     "text": [
      "  6%|██▌                                      | 66/1075 [00:01<00:19, 53.09it/s]"
     ]
    },
    {
     "name": "stdout",
     "output_type": "stream",
     "text": [
      "No face found. Continuing\n",
      "No face found. Continuing\n"
     ]
    },
    {
     "name": "stderr",
     "output_type": "stream",
     "text": [
      "  8%|███▏                                     | 85/1075 [00:01<00:19, 51.28it/s]"
     ]
    },
    {
     "name": "stdout",
     "output_type": "stream",
     "text": [
      "No face found. Continuing\n",
      "No face found. Continuing\n",
      "No face found. Continuing\n",
      "No face found. Continuing\n",
      "No face found. Continuing\n",
      "No face found. Continuing\n",
      "No face found. Continuing\n",
      "No face found. Continuing\n",
      "No face found. Continuing\n",
      "No face found. Continuing\n",
      "No face found. Continuing\n",
      "No face found. Continuing\n"
     ]
    },
    {
     "name": "stderr",
     "output_type": "stream",
     "text": [
      " 28%|███████████▎                            | 305/1075 [00:06<00:23, 32.49it/s]"
     ]
    },
    {
     "name": "stdout",
     "output_type": "stream",
     "text": [
      "chandler0.7165364221776843\n",
      "chandler\n",
      "chandler0.7117537635037565\n",
      "chandler\n",
      "chandler0.7220765323524696\n",
      "chandler\n"
     ]
    },
    {
     "name": "stderr",
     "output_type": "stream",
     "text": [
      " 32%|████████████▊                           | 343/1075 [00:08<00:24, 29.64it/s]"
     ]
    },
    {
     "name": "stdout",
     "output_type": "stream",
     "text": [
      "chandler0.7507652905957436\n",
      "chandler\n",
      "chandler0.727602191480007\n",
      "chandler\n",
      "chandler0.8397301796283879\n",
      "chandler\n",
      "chandler0.7256612600269162\n",
      "chandler\n"
     ]
    },
    {
     "name": "stderr",
     "output_type": "stream",
     "text": [
      " 33%|█████████████                           | 352/1075 [00:08<00:24, 29.16it/s]"
     ]
    },
    {
     "name": "stdout",
     "output_type": "stream",
     "text": [
      "chandler0.8563571354382599\n",
      "chandler\n",
      "chandler0.8831013016738465\n",
      "chandler\n",
      "chandler0.7308531370068356\n",
      "chandler\n",
      "chandler0.8742685391373781\n",
      "chandler\n",
      "chandler0.7424129232884208\n",
      "chandler\n",
      "chandler0.8562672262835888\n",
      "chandler\n"
     ]
    },
    {
     "name": "stderr",
     "output_type": "stream",
     "text": [
      " 33%|█████████████▎                          | 358/1075 [00:08<00:24, 29.23it/s]"
     ]
    },
    {
     "name": "stdout",
     "output_type": "stream",
     "text": [
      "chandler0.8260921330989359\n",
      "chandler\n",
      "chandler0.8586895781145194\n",
      "chandler\n",
      "chandler0.8623431340193647\n",
      "chandler\n",
      "chandler0.8526736460186313\n",
      "chandler\n",
      "chandler0.8698325453553282\n",
      "chandler\n",
      "chandler0.8461043571203551\n",
      "chandler\n"
     ]
    },
    {
     "name": "stderr",
     "output_type": "stream",
     "text": [
      " 34%|█████████████▌                          | 364/1075 [00:08<00:24, 29.34it/s]"
     ]
    },
    {
     "name": "stdout",
     "output_type": "stream",
     "text": [
      "chandler0.8468608951471112\n",
      "chandler\n",
      "chandler0.8533350651053833\n",
      "chandler\n",
      "chandler0.871902921325473\n",
      "chandler\n",
      "chandler0.8842693186968097\n",
      "chandler\n",
      "chandler0.8376120142121277\n",
      "chandler\n",
      "chandler0.80553499379648\n",
      "chandler\n"
     ]
    },
    {
     "name": "stderr",
     "output_type": "stream",
     "text": [
      " 34%|█████████████▊                          | 370/1075 [00:09<00:23, 29.38it/s]"
     ]
    },
    {
     "name": "stdout",
     "output_type": "stream",
     "text": [
      "chandler0.7973863729575789\n",
      "chandler\n",
      "chandler0.8187196519782028\n",
      "chandler\n",
      "chandler0.7084848452358914\n",
      "chandler\n"
     ]
    },
    {
     "name": "stderr",
     "output_type": "stream",
     "text": [
      " 35%|██████████████                          | 378/1075 [00:09<00:20, 33.99it/s]"
     ]
    },
    {
     "name": "stdout",
     "output_type": "stream",
     "text": [
      "monica0.9759670437220471\n",
      "monica\n",
      "monica0.9788125189051985\n",
      "monica\n",
      "monica0.979111409623944\n",
      "monica\n",
      "monica0.9791238003527368\n",
      "monica\n",
      "monica0.9778547595753586\n",
      "monica\n",
      "monica0.9784551964202866\n",
      "monica\n",
      "monica0.9472168466372426\n",
      "monica\n",
      "monica0.9719804196431208\n",
      "monica\n",
      "monica0.9710802977153933\n",
      "monica\n"
     ]
    },
    {
     "name": "stderr",
     "output_type": "stream",
     "text": [
      " 36%|██████████████▍                         | 388/1075 [00:09<00:17, 38.91it/s]"
     ]
    },
    {
     "name": "stdout",
     "output_type": "stream",
     "text": [
      "monica0.9724392869522922\n",
      "monica\n",
      "monica0.9672292859068748\n",
      "monica\n",
      "monica0.9675476720335295\n",
      "monica\n",
      "monica0.9503837888906735\n",
      "monica\n",
      "monica0.9637833990682031\n",
      "monica\n",
      "monica0.9594413113091993\n",
      "monica\n",
      "monica0.9628766370004511\n",
      "monica\n",
      "monica0.973229966827505\n",
      "monica\n",
      "monica0.9807604489796098\n",
      "monica\n"
     ]
    },
    {
     "name": "stderr",
     "output_type": "stream",
     "text": [
      " 37%|██████████████▊                         | 398/1075 [00:09<00:16, 41.07it/s]"
     ]
    },
    {
     "name": "stdout",
     "output_type": "stream",
     "text": [
      "monica0.9808317553063644\n",
      "monica\n",
      "monica0.9691566873717743\n",
      "monica\n",
      "monica0.9683140533150061\n",
      "monica\n",
      "monica0.9668605288244965\n",
      "monica\n",
      "monica0.9686183331498911\n",
      "monica\n",
      "monica0.9728258684818522\n",
      "monica\n",
      "monica0.9730962395378439\n",
      "monica\n",
      "monica0.9730523915926029\n",
      "monica\n",
      "monica0.9725012962798558\n",
      "monica\n"
     ]
    },
    {
     "name": "stderr",
     "output_type": "stream",
     "text": [
      " 38%|███████████████▏                        | 408/1075 [00:10<00:16, 41.18it/s]"
     ]
    },
    {
     "name": "stdout",
     "output_type": "stream",
     "text": [
      "monica0.9722819356289781\n",
      "monica\n",
      "monica0.9428584697604505\n",
      "monica\n",
      "monica0.9673976408094351\n",
      "monica\n",
      "monica0.9661178584544792\n",
      "monica\n",
      "monica0.967750847239722\n",
      "monica\n",
      "monica0.9730866891908746\n",
      "monica\n",
      "monica0.9731835331332188\n",
      "monica\n",
      "monica0.9757164345178846\n",
      "monica\n",
      "monica0.9558420246626688\n",
      "monica\n"
     ]
    },
    {
     "name": "stderr",
     "output_type": "stream",
     "text": [
      " 39%|███████████████▌                        | 418/1075 [00:10<00:15, 41.92it/s]"
     ]
    },
    {
     "name": "stdout",
     "output_type": "stream",
     "text": [
      "monica0.9562528854494607\n",
      "monica\n",
      "monica0.9569062933221973\n",
      "monica\n",
      "monica0.9761666059094662\n",
      "monica\n",
      "monica0.9751495943979538\n",
      "monica\n",
      "monica0.9767963427086567\n",
      "monica\n",
      "monica0.975754237841433\n",
      "monica\n",
      "monica0.9725619789882419\n",
      "monica\n",
      "monica0.9639154714974588\n",
      "monica\n",
      "monica0.9632690525745558\n",
      "monica\n"
     ]
    },
    {
     "name": "stderr",
     "output_type": "stream",
     "text": [
      "\r",
      " 39%|███████████████▋                        | 423/1075 [00:10<00:15, 42.35it/s]"
     ]
    },
    {
     "name": "stdout",
     "output_type": "stream",
     "text": [
      "monica0.9637795263420187\n",
      "monica\n",
      "monica0.9646301856477568\n",
      "monica\n",
      "monica0.9656558029344469\n",
      "monica\n",
      "monica0.9747485795581043\n",
      "monica\n",
      "monica0.9757913585224373\n",
      "monica\n",
      "monica0.9772954362529627\n",
      "monica\n",
      "monica0.9767588312646328\n",
      "monica\n",
      "monica0.9771750373294952\n",
      "monica\n",
      "monica0.9792123678416956\n",
      "monica\n"
     ]
    },
    {
     "name": "stderr",
     "output_type": "stream",
     "text": [
      " 40%|████████████████                        | 433/1075 [00:10<00:14, 42.87it/s]"
     ]
    },
    {
     "name": "stdout",
     "output_type": "stream",
     "text": [
      "monica0.9727347072575413\n",
      "monica\n",
      "monica0.9731623427102892\n",
      "monica\n",
      "monica0.9794710174561428\n",
      "monica\n",
      "monica0.9715213436359333\n",
      "monica\n",
      "monica0.9690749768773025\n",
      "monica\n",
      "monica0.9695777078844835\n",
      "monica\n",
      "monica0.9649544358696602\n",
      "monica\n",
      "monica0.9613803129791394\n",
      "monica\n",
      "monica0.961896308434377\n",
      "monica\n"
     ]
    },
    {
     "name": "stderr",
     "output_type": "stream",
     "text": [
      " 41%|████████████████▍                       | 443/1075 [00:10<00:14, 43.11it/s]"
     ]
    },
    {
     "name": "stdout",
     "output_type": "stream",
     "text": [
      "monica0.9623864498709719\n",
      "monica\n",
      "monica0.9540271996118398\n",
      "monica\n",
      "monica0.9547204644194185\n",
      "monica\n",
      "monica0.9634561590595323\n",
      "monica\n",
      "monica0.9567543718123047\n",
      "monica\n",
      "monica0.9563391793353262\n",
      "monica\n",
      "monica0.9585231165876729\n",
      "monica\n",
      "monica0.959292507012675\n",
      "monica\n",
      "monica0.955387038758957\n",
      "monica\n"
     ]
    },
    {
     "name": "stderr",
     "output_type": "stream",
     "text": [
      " 42%|████████████████▊                       | 453/1075 [00:11<00:14, 43.04it/s]"
     ]
    },
    {
     "name": "stdout",
     "output_type": "stream",
     "text": [
      "monica0.9540976621144958\n",
      "monica\n",
      "monica0.9593057962165239\n",
      "monica\n",
      "monica0.9594866510659915\n",
      "monica\n",
      "monica0.9607396333362876\n",
      "monica\n",
      "monica0.9502784962195187\n",
      "monica\n",
      "monica0.9233610469792621\n",
      "monica\n",
      "monica0.9224478933974091\n",
      "monica\n",
      "monica0.906836597101239\n",
      "monica\n",
      "monica0.9085259471286717\n",
      "monica\n"
     ]
    },
    {
     "name": "stderr",
     "output_type": "stream",
     "text": [
      " 43%|█████████████████▏                      | 463/1075 [00:11<00:14, 43.10it/s]"
     ]
    },
    {
     "name": "stdout",
     "output_type": "stream",
     "text": [
      "monica0.913305611135573\n",
      "monica\n",
      "monica0.9048642488065801\n",
      "monica\n",
      "monica0.9260632565278022\n",
      "monica\n",
      "monica0.9255265076585758\n",
      "monica\n",
      "monica0.9237847750272192\n",
      "monica\n",
      "monica0.951776541133963\n",
      "monica\n",
      "monica0.9501029712328817\n",
      "monica\n",
      "monica0.9309832238181834\n",
      "monica\n",
      "monica0.9436236574119001\n",
      "monica\n"
     ]
    },
    {
     "name": "stderr",
     "output_type": "stream",
     "text": [
      "\r",
      " 44%|█████████████████▍                      | 468/1075 [00:11<00:14, 43.25it/s]"
     ]
    },
    {
     "name": "stdout",
     "output_type": "stream",
     "text": [
      "monica0.943717035338791\n",
      "monica\n",
      "monica0.9464972135983343\n",
      "monica\n",
      "monica0.9469566609469808\n",
      "monica\n",
      "monica0.9470170371760973\n",
      "monica\n",
      "monica0.9471058350766077\n",
      "monica\n",
      "monica0.9390015378213058\n",
      "monica\n",
      "monica0.93654523231387\n",
      "monica\n",
      "monica0.936775824513474\n",
      "monica\n",
      "monica0.9681277879482888\n",
      "monica\n"
     ]
    },
    {
     "name": "stderr",
     "output_type": "stream",
     "text": [
      " 44%|█████████████████▊                      | 478/1075 [00:11<00:13, 43.45it/s]"
     ]
    },
    {
     "name": "stdout",
     "output_type": "stream",
     "text": [
      "monica0.9675240314808508\n",
      "monica\n",
      "monica0.9698899910883664\n",
      "monica\n",
      "monica0.9701400642983034\n",
      "monica\n",
      "monica0.9721730989439361\n",
      "monica\n",
      "monica0.9705699223338136\n",
      "monica\n",
      "monica0.9723885314714448\n",
      "monica\n",
      "monica0.9596270638661589\n",
      "monica\n",
      "monica0.9565260788144171\n",
      "monica\n",
      "monica0.9584082667728111\n",
      "monica\n"
     ]
    },
    {
     "name": "stderr",
     "output_type": "stream",
     "text": [
      " 45%|██████████████████▏                     | 488/1075 [00:11<00:13, 43.53it/s]"
     ]
    },
    {
     "name": "stdout",
     "output_type": "stream",
     "text": [
      "monica0.9449176524480597\n",
      "monica\n",
      "monica0.9457370292999354\n",
      "monica\n",
      "monica0.9445870765697242\n",
      "monica\n",
      "monica0.8686520637477391\n",
      "monica\n",
      "monica0.865291597760262\n",
      "monica\n",
      "monica0.8893043294534887\n",
      "monica\n",
      "monica0.9054392635195397\n",
      "monica\n",
      "monica0.9026234350852846\n",
      "monica\n",
      "No face found. Continuing\n",
      "No face found. Continuing\n",
      "No face found. Continuing\n"
     ]
    },
    {
     "name": "stderr",
     "output_type": "stream",
     "text": [
      " 47%|██████████████████▌                     | 500/1075 [00:12<00:11, 48.22it/s]"
     ]
    },
    {
     "name": "stdout",
     "output_type": "stream",
     "text": [
      "No face found. Continuing\n",
      "monica0.7814261926994878\n",
      "monica\n",
      "monica0.762631448761485\n",
      "monica\n",
      "monica0.7710019857259452\n",
      "monica\n",
      "No face found. Continuing\n"
     ]
    },
    {
     "name": "stderr",
     "output_type": "stream",
     "text": [
      " 49%|███████████████████▌                    | 525/1075 [00:12<00:12, 44.43it/s]"
     ]
    },
    {
     "name": "stdout",
     "output_type": "stream",
     "text": [
      "monica0.8788817735326239\n",
      "monica\n",
      "monica0.8738014533072185\n",
      "monica\n",
      "monica0.9119997544282276\n",
      "monica\n",
      "monica0.950339065236268\n",
      "monica\n",
      "monica0.9503691144771605\n",
      "monica\n",
      "monica0.9498746616722638\n",
      "monica\n"
     ]
    },
    {
     "name": "stderr",
     "output_type": "stream",
     "text": [
      "\r",
      " 49%|███████████████████▋                    | 530/1075 [00:12<00:12, 43.97it/s]"
     ]
    },
    {
     "name": "stdout",
     "output_type": "stream",
     "text": [
      "monica0.975703276609545\n",
      "monica\n",
      "monica0.9732298247750408\n",
      "monica\n",
      "monica0.9687975963566359\n",
      "monica\n",
      "monica0.9693783544258263\n",
      "monica\n",
      "monica0.9699697264417395\n",
      "monica\n",
      "monica0.9703802406960731\n",
      "monica\n",
      "monica0.9753363972812502\n",
      "monica\n",
      "monica0.9676020051896621\n",
      "monica\n",
      "monica0.9698044023460797\n",
      "monica\n"
     ]
    },
    {
     "name": "stderr",
     "output_type": "stream",
     "text": [
      " 50%|████████████████████                    | 540/1075 [00:13<00:12, 43.22it/s]"
     ]
    },
    {
     "name": "stdout",
     "output_type": "stream",
     "text": [
      "monica0.9676729547541696\n",
      "monica\n",
      "monica0.9411606326263007\n",
      "monica\n",
      "monica0.9466704271254582\n",
      "monica\n",
      "monica0.954548705103439\n",
      "monica\n",
      "monica0.9210838587460922\n",
      "monica\n",
      "monica0.9180821697891212\n",
      "monica\n",
      "monica0.9235965553397656\n",
      "monica\n",
      "monica0.935534083148107\n",
      "monica\n",
      "monica0.9371193634157354\n",
      "monica\n"
     ]
    },
    {
     "name": "stderr",
     "output_type": "stream",
     "text": [
      " 51%|████████████████████▍                   | 550/1075 [00:13<00:12, 43.00it/s]"
     ]
    },
    {
     "name": "stdout",
     "output_type": "stream",
     "text": [
      "monica0.9188982423530527\n",
      "monica\n",
      "monica0.9193442422100448\n",
      "monica\n",
      "monica0.9164149596179936\n",
      "monica\n",
      "monica0.9022747727453603\n",
      "monica\n",
      "monica0.8936256939237055\n",
      "monica\n",
      "monica0.8979984712521447\n",
      "monica\n",
      "monica0.9450882314921146\n",
      "monica\n",
      "monica0.9232464327845756\n",
      "monica\n",
      "monica0.9212140308127776\n",
      "monica\n"
     ]
    },
    {
     "name": "stderr",
     "output_type": "stream",
     "text": [
      " 52%|████████████████████▊                   | 560/1075 [00:13<00:11, 43.13it/s]"
     ]
    },
    {
     "name": "stdout",
     "output_type": "stream",
     "text": [
      "monica0.9185259814238449\n",
      "monica\n",
      "monica0.8773050047295485\n",
      "monica\n",
      "monica0.9105446518835856\n",
      "monica\n",
      "monica0.911490609089129\n",
      "monica\n",
      "monica0.9183814491479737\n",
      "monica\n",
      "monica0.912847726649192\n",
      "monica\n",
      "monica0.9138848947806657\n",
      "monica\n",
      "monica0.9633833626025792\n",
      "monica\n",
      "monica0.9421700710714442\n",
      "monica\n"
     ]
    },
    {
     "name": "stderr",
     "output_type": "stream",
     "text": [
      "\r",
      " 53%|█████████████████████                   | 565/1075 [00:13<00:11, 42.88it/s]"
     ]
    },
    {
     "name": "stdout",
     "output_type": "stream",
     "text": [
      "monica0.9452252769592794\n",
      "monica\n",
      "monica0.9427653094880978\n",
      "monica\n",
      "monica0.9541836945046585\n",
      "monica\n",
      "monica0.9559292424693031\n",
      "monica\n",
      "monica0.9521199683697913\n",
      "monica\n",
      "monica0.9456408668209559\n",
      "monica\n",
      "monica0.9423263703853584\n",
      "monica\n",
      "monica0.9462632951263117\n",
      "monica\n"
     ]
    },
    {
     "name": "stderr",
     "output_type": "stream",
     "text": [
      " 53%|█████████████████████▍                  | 575/1075 [00:13<00:12, 41.31it/s]"
     ]
    },
    {
     "name": "stdout",
     "output_type": "stream",
     "text": [
      "monica0.9331623033243771\n",
      "monica\n",
      "monica0.9449290086719121\n",
      "monica\n",
      "monica0.9458112625202388\n",
      "monica\n",
      "monica0.9538036130962524\n",
      "monica\n",
      "monica0.9560872323730597\n",
      "monica\n",
      "monica0.9531686399086583\n",
      "monica\n",
      "monica0.9692850635926713\n",
      "monica\n",
      "monica0.9614832079255046\n",
      "monica\n",
      "monica0.9604210085723113\n",
      "monica\n"
     ]
    },
    {
     "name": "stderr",
     "output_type": "stream",
     "text": [
      " 54%|█████████████████████▊                  | 585/1075 [00:14<00:11, 41.84it/s]"
     ]
    },
    {
     "name": "stdout",
     "output_type": "stream",
     "text": [
      "monica0.9602370549517703\n",
      "monica\n",
      "monica0.9668489659874586\n",
      "monica\n",
      "monica0.9682742975631747\n",
      "monica\n",
      "monica0.9703267834077407\n",
      "monica\n",
      "monica0.9653223608993937\n",
      "monica\n",
      "monica0.9653575951302775\n",
      "monica\n",
      "monica0.9657216493382988\n",
      "monica\n",
      "monica0.9777815449083493\n",
      "monica\n",
      "monica0.9777950004085181\n",
      "monica\n"
     ]
    },
    {
     "name": "stderr",
     "output_type": "stream",
     "text": [
      " 55%|██████████████████████▏                 | 595/1075 [00:14<00:11, 41.84it/s]"
     ]
    },
    {
     "name": "stdout",
     "output_type": "stream",
     "text": [
      "monica0.9729028165986636\n",
      "monica\n",
      "monica0.9827417684723738\n",
      "monica\n",
      "monica0.9838307543269198\n",
      "monica\n",
      "monica0.9867263230257756\n",
      "monica\n",
      "monica0.9797973869394807\n",
      "monica\n",
      "joey0.9327170765861477\n",
      "joey\n",
      "joey0.9293786036829762\n",
      "joey\n",
      "joey0.9351852212785005\n",
      "joey\n",
      "joey0.9346321300495279\n",
      "joey\n"
     ]
    },
    {
     "name": "stderr",
     "output_type": "stream",
     "text": [
      " 56%|██████████████████████▌                 | 605/1075 [00:14<00:11, 42.51it/s]"
     ]
    },
    {
     "name": "stdout",
     "output_type": "stream",
     "text": [
      "joey0.9330843837917477\n",
      "joey\n",
      "joey0.9460179668557714\n",
      "joey\n",
      "joey0.895548235642258\n",
      "joey\n",
      "joey0.9086145378789798\n",
      "joey\n",
      "joey0.9137307885175574\n",
      "joey\n",
      "joey0.9100114174427201\n",
      "joey\n",
      "joey0.918210716073379\n",
      "joey\n",
      "joey0.9159274978890717\n",
      "joey\n",
      "joey0.9334809225364948\n",
      "joey\n"
     ]
    },
    {
     "name": "stderr",
     "output_type": "stream",
     "text": [
      "\r",
      " 57%|██████████████████████▋                 | 610/1075 [00:14<00:10, 42.95it/s]"
     ]
    },
    {
     "name": "stdout",
     "output_type": "stream",
     "text": [
      "joey0.933999227301363\n",
      "joey\n",
      "joey0.9371798357636143\n",
      "joey\n",
      "joey0.9364759015545175\n",
      "joey\n",
      "joey0.9384291588092705\n",
      "joey\n",
      "joey0.9306346576840917\n",
      "joey\n",
      "joey0.9148877798706786\n",
      "joey\n",
      "joey0.9197471334902633\n",
      "joey\n",
      "joey0.914541605124721\n",
      "joey\n",
      "joey0.9323473803436557\n",
      "joey\n"
     ]
    },
    {
     "name": "stderr",
     "output_type": "stream",
     "text": [
      " 58%|███████████████████████                 | 620/1075 [00:14<00:10, 42.66it/s]"
     ]
    },
    {
     "name": "stdout",
     "output_type": "stream",
     "text": [
      "joey0.9339387709935124\n",
      "joey\n",
      "joey0.9330799827124532\n",
      "joey\n",
      "joey0.9294640887153427\n",
      "joey\n",
      "joey0.9264128330640715\n",
      "joey\n",
      "joey0.9217706364966993\n",
      "joey\n",
      "joey0.8935776260700707\n",
      "joey\n",
      "joey0.8494889095855216\n",
      "joey\n",
      "joey0.8570341150536099\n",
      "joey\n",
      "joey0.852006091531796\n",
      "joey\n"
     ]
    },
    {
     "name": "stderr",
     "output_type": "stream",
     "text": [
      " 59%|███████████████████████▍                | 630/1075 [00:15<00:10, 42.24it/s]"
     ]
    },
    {
     "name": "stdout",
     "output_type": "stream",
     "text": [
      "joey0.9049779899647241\n",
      "joey\n",
      "joey0.9166724205312176\n",
      "joey\n",
      "joey0.9003721980987208\n",
      "joey\n",
      "joey0.9202695964114412\n",
      "joey\n",
      "joey0.9276106876950588\n",
      "joey\n",
      "joey0.9309721857769334\n",
      "joey\n",
      "joey0.9029958295068334\n",
      "joey\n",
      "joey0.9178359815875227\n",
      "joey\n",
      "joey0.9186459835028918\n",
      "joey\n"
     ]
    },
    {
     "name": "stderr",
     "output_type": "stream",
     "text": [
      " 60%|███████████████████████▊                | 640/1075 [00:15<00:10, 42.76it/s]"
     ]
    },
    {
     "name": "stdout",
     "output_type": "stream",
     "text": [
      "joey0.9442021579645837\n",
      "joey\n",
      "joey0.9389438278002433\n",
      "joey\n",
      "joey0.937880184360363\n",
      "joey\n",
      "joey0.9515028236171582\n",
      "joey\n",
      "joey0.9271321262241589\n",
      "joey\n",
      "joey0.9261783844333307\n",
      "joey\n",
      "joey0.9275921113724247\n",
      "joey\n",
      "joey0.93854121294428\n",
      "joey\n",
      "joey0.931635801544656\n",
      "joey\n"
     ]
    },
    {
     "name": "stderr",
     "output_type": "stream",
     "text": [
      "\r",
      " 60%|████████████████████████                | 645/1075 [00:15<00:10, 42.75it/s]"
     ]
    },
    {
     "name": "stdout",
     "output_type": "stream",
     "text": [
      "joey0.9459036426970209\n",
      "joey\n",
      "joey0.9222973808618361\n",
      "joey\n",
      "joey0.9249394042280954\n",
      "joey\n",
      "joey0.9299819497934273\n",
      "joey\n",
      "ross0.8580396323541076\n",
      "ross\n",
      "monica0.9621349894635529\n",
      "monica\n",
      "ross0.8533891065196636\n",
      "ross\n",
      "monica0.9713953787169806\n",
      "monica\n",
      "ross0.8864865312965212\n",
      "ross\n",
      "monica0.974280322637613\n",
      "monica\n"
     ]
    },
    {
     "name": "stderr",
     "output_type": "stream",
     "text": [
      " 61%|████████████████████████▎               | 654/1075 [00:15<00:11, 35.27it/s]"
     ]
    },
    {
     "name": "stdout",
     "output_type": "stream",
     "text": [
      "ross0.9025552877862302\n",
      "ross\n",
      "monica0.9811717791403236\n",
      "monica\n",
      "ross0.9043393086824348\n",
      "ross\n",
      "monica0.9799705346653512\n",
      "monica\n",
      "ross0.9035898214146946\n",
      "ross\n",
      "monica0.9811889355851118\n",
      "monica\n",
      "ross0.9215312941424231\n",
      "ross\n",
      "monica0.9816288279424953\n",
      "monica\n",
      "ross0.9135579900274866\n",
      "ross\n",
      "monica0.9817989108127643\n",
      "monica\n",
      "ross0.9133657020294919\n",
      "ross\n",
      "monica0.9824013515146177\n",
      "monica\n"
     ]
    },
    {
     "name": "stderr",
     "output_type": "stream",
     "text": [
      "\r",
      " 61%|████████████████████████▍               | 658/1075 [00:15<00:13, 30.42it/s]"
     ]
    },
    {
     "name": "stdout",
     "output_type": "stream",
     "text": [
      "ross0.9150049534110728\n",
      "ross\n",
      "monica0.9816321158938477\n",
      "monica\n",
      "ross0.9226484010987868\n",
      "ross\n",
      "monica0.9851917231894743\n",
      "monica\n",
      "ross0.9221553474519112\n",
      "ross\n",
      "monica0.9848230964027738\n",
      "monica\n",
      "ross0.9076181664784666\n",
      "ross\n",
      "monica0.9821106463306577\n",
      "monica\n",
      "ross0.8903679894644861\n",
      "ross\n",
      "monica0.9815907400503489\n",
      "monica\n",
      "ross0.8883586549178852\n",
      "ross\n",
      "monica0.9809881270084732\n",
      "monica\n"
     ]
    },
    {
     "name": "stderr",
     "output_type": "stream",
     "text": [
      " 62%|████████████████████████▊               | 666/1075 [00:16<00:13, 29.79it/s]"
     ]
    },
    {
     "name": "stdout",
     "output_type": "stream",
     "text": [
      "ross0.8879477507046759\n",
      "ross\n",
      "monica0.9821472852187427\n",
      "monica\n",
      "ross0.928603707361949\n",
      "ross\n",
      "monica0.9794174754135123\n",
      "monica\n",
      "ross0.928131671134236\n",
      "ross\n",
      "monica0.9797583316942576\n",
      "monica\n",
      "ross0.9130757222028264\n",
      "ross\n",
      "monica0.9720075345596517\n",
      "monica\n",
      "ross0.9131942409824163\n",
      "ross\n",
      "monica0.9610430162207885\n",
      "monica\n",
      "ross0.9102344676173656\n",
      "ross\n",
      "monica0.9623844593728655\n",
      "monica\n"
     ]
    },
    {
     "name": "stderr",
     "output_type": "stream",
     "text": [
      "\r",
      " 62%|████████████████████████▉               | 670/1075 [00:16<00:13, 29.80it/s]"
     ]
    },
    {
     "name": "stdout",
     "output_type": "stream",
     "text": [
      "ross0.907591069489788\n",
      "ross\n",
      "monica0.9573876373139022\n",
      "monica\n",
      "ross0.8985944074022489\n",
      "ross\n",
      "monica0.953275369979492\n",
      "monica\n",
      "ross0.8974947914761046\n",
      "ross\n",
      "monica0.9496115431599695\n",
      "monica\n",
      "ross0.8848999546742838\n",
      "ross\n",
      "monica0.9690143408583023\n",
      "monica\n",
      "ross0.9248659826554012\n",
      "ross\n",
      "monica0.9741342773860929\n",
      "monica\n",
      "ross0.9241205864595772\n",
      "ross\n",
      "monica0.9730145391626386\n",
      "monica\n"
     ]
    },
    {
     "name": "stderr",
     "output_type": "stream",
     "text": [
      " 63%|█████████████████████████▏              | 677/1075 [00:16<00:13, 29.63it/s]"
     ]
    },
    {
     "name": "stdout",
     "output_type": "stream",
     "text": [
      "ross0.9262135646594635\n",
      "ross\n",
      "monica0.9732828013760254\n",
      "monica\n",
      "ross0.9288918771368337\n",
      "ross\n",
      "monica0.9752046063178955\n",
      "monica\n",
      "ross0.9247623806666749\n",
      "ross\n",
      "monica0.9783229074390276\n",
      "monica\n",
      "ross0.8268823806016978\n",
      "ross\n",
      "monica0.9781184018319456\n",
      "monica\n",
      "ross0.9338408073862631\n",
      "ross\n",
      "monica0.9765354319577972\n",
      "monica\n",
      "ross0.8813886333411796\n",
      "ross\n",
      "monica0.9744768765700978\n",
      "monica\n"
     ]
    },
    {
     "name": "stderr",
     "output_type": "stream",
     "text": [
      " 64%|█████████████████████████▍              | 683/1075 [00:16<00:13, 29.63it/s]"
     ]
    },
    {
     "name": "stdout",
     "output_type": "stream",
     "text": [
      "ross0.8915868138185723\n",
      "ross\n",
      "monica0.9756475167650451\n",
      "monica\n",
      "ross0.9466277803998547\n",
      "ross\n",
      "monica0.9790737433494459\n",
      "monica\n",
      "ross0.9238342861984722\n",
      "ross\n",
      "monica0.978451392093661\n",
      "monica\n",
      "ross0.9292266147309162\n",
      "ross\n",
      "monica0.9742639776733903\n",
      "monica\n",
      "ross0.9252294478238341\n",
      "ross\n",
      "monica0.9766745916209519\n",
      "monica\n",
      "ross0.8971235288037914\n",
      "ross\n",
      "monica0.9748254342406952\n",
      "monica\n"
     ]
    },
    {
     "name": "stderr",
     "output_type": "stream",
     "text": [
      " 64%|█████████████████████████▋              | 689/1075 [00:17<00:13, 29.42it/s]"
     ]
    },
    {
     "name": "stdout",
     "output_type": "stream",
     "text": [
      "ross0.894806002779122\n",
      "ross\n",
      "monica0.9757616883849701\n",
      "monica\n",
      "ross0.9234562244398535\n",
      "ross\n",
      "monica0.9768603077124174\n",
      "monica\n",
      "ross0.9086962432785337\n",
      "ross\n",
      "monica0.9835762628793867\n",
      "monica\n",
      "ross0.9124160584119854\n",
      "ross\n",
      "monica0.983067830282844\n",
      "monica\n",
      "ross0.9118463040410402\n",
      "ross\n",
      "monica0.9827431003803357\n",
      "monica\n",
      "ross0.9081059429243632\n",
      "ross\n",
      "monica0.9712817409707908\n",
      "monica\n"
     ]
    },
    {
     "name": "stderr",
     "output_type": "stream",
     "text": [
      " 65%|█████████████████████████▊              | 695/1075 [00:17<00:12, 29.51it/s]"
     ]
    },
    {
     "name": "stdout",
     "output_type": "stream",
     "text": [
      "monica0.9409274000748582\n",
      "monica\n",
      "ross0.8549054906885116\n",
      "ross\n",
      "monica0.9408836655094611\n",
      "monica\n",
      "ross0.856156585717364\n",
      "ross\n",
      "monica0.8863673928480665\n",
      "monica\n",
      "ross0.9365727823557581\n",
      "ross\n",
      "monica0.8825817786480339\n",
      "monica\n",
      "ross0.93588427699795\n",
      "ross\n",
      "monica0.881080017493286\n",
      "monica\n",
      "ross0.9358919644651662\n",
      "ross\n",
      "monica0.7647275786407912\n",
      "monica\n",
      "ross0.9520450653667524\n",
      "ross\n"
     ]
    },
    {
     "name": "stderr",
     "output_type": "stream",
     "text": [
      " 65%|██████████████████████████              | 701/1075 [00:17<00:12, 29.59it/s]"
     ]
    },
    {
     "name": "stdout",
     "output_type": "stream",
     "text": [
      "monica0.7408553687898637\n",
      "monica\n",
      "ross0.9361266501534934\n",
      "ross\n",
      "monica0.7369774982069165\n",
      "monica\n",
      "ross0.9327362929757196\n",
      "ross\n",
      "monica0.7348282228610439\n",
      "monica\n",
      "ross0.9355605793842567\n",
      "ross\n",
      "monica0.7302110399722915\n",
      "monica\n",
      "ross0.9200731178332143\n",
      "ross\n",
      "monica0.7291723654815825\n",
      "monica\n",
      "ross0.9212572303631616\n",
      "ross\n",
      "ross0.9299680760061262\n",
      "ross\n",
      "monica0.776712600447101\n",
      "monica\n"
     ]
    },
    {
     "name": "stderr",
     "output_type": "stream",
     "text": [
      " 66%|██████████████████████████▎             | 708/1075 [00:17<00:11, 32.35it/s]"
     ]
    },
    {
     "name": "stdout",
     "output_type": "stream",
     "text": [
      "ross0.9236028103643016\n",
      "ross\n",
      "ross0.920806971100595\n",
      "ross\n",
      "ross0.9252457573062031\n",
      "ross\n",
      "monica0.7078837870175395\n",
      "monica\n",
      "ross0.9467495495381161\n",
      "ross\n",
      "ross0.9477145945987305\n",
      "ross\n",
      "ross0.9417408582520522\n",
      "ross\n",
      "ross0.8895886717165578\n",
      "ross\n",
      "ross0.8908277468178414\n",
      "ross\n"
     ]
    },
    {
     "name": "stderr",
     "output_type": "stream",
     "text": [
      " 67%|██████████████████████████▋             | 718/1075 [00:17<00:09, 38.05it/s]"
     ]
    },
    {
     "name": "stdout",
     "output_type": "stream",
     "text": [
      "ross0.8903041619201204\n",
      "ross\n",
      "ross0.8933277572568319\n",
      "ross\n",
      "ross0.8750111368284977\n",
      "ross\n",
      "ross0.8810508194294342\n",
      "ross\n",
      "ross0.8788865652825918\n",
      "ross\n",
      "ross0.8515634296917112\n",
      "ross\n",
      "ross0.8582697741216648\n",
      "ross\n",
      "ross0.9022786990876084\n",
      "ross\n",
      "ross0.9016733080435911\n",
      "ross\n"
     ]
    },
    {
     "name": "stderr",
     "output_type": "stream",
     "text": [
      " 68%|███████████████████████████             | 726/1075 [00:18<00:09, 35.91it/s]"
     ]
    },
    {
     "name": "stdout",
     "output_type": "stream",
     "text": [
      "ross0.9013399898752398\n",
      "ross\n",
      "ross0.9024600617555437\n",
      "ross\n",
      "ross0.921699238625064\n",
      "ross\n",
      "ross0.9222528727681559\n",
      "ross\n",
      "ross0.9194544716264522\n",
      "ross\n",
      "ross0.9186076202115482\n",
      "ross\n",
      "ross0.9186549831184534\n",
      "ross\n"
     ]
    },
    {
     "name": "stderr",
     "output_type": "stream",
     "text": [
      "\r",
      " 68%|███████████████████████████▏            | 731/1075 [00:18<00:09, 38.02it/s]"
     ]
    },
    {
     "name": "stdout",
     "output_type": "stream",
     "text": [
      "ross0.9151072742946291\n",
      "ross\n",
      "ross0.8942916470033623\n",
      "ross\n",
      "ross0.8935290572844025\n",
      "ross\n",
      "ross0.886718167893994\n",
      "ross\n",
      "ross0.9402848768359601\n",
      "ross\n",
      "ross0.9410625784789173\n",
      "ross\n",
      "ross0.9393617881595746\n",
      "ross\n",
      "ross0.9088900297355521\n",
      "ross\n",
      "ross0.923518079688793\n",
      "ross\n"
     ]
    },
    {
     "name": "stderr",
     "output_type": "stream",
     "text": [
      " 69%|███████████████████████████▌            | 741/1075 [00:18<00:08, 40.61it/s]"
     ]
    },
    {
     "name": "stdout",
     "output_type": "stream",
     "text": [
      "ross0.9255985371112598\n",
      "ross\n",
      "ross0.9210620989889334\n",
      "ross\n",
      "ross0.919649619871146\n",
      "ross\n",
      "ross0.9185843955344656\n",
      "ross\n",
      "ross0.8977405649274647\n",
      "ross\n",
      "ross0.9181131980623412\n",
      "ross\n",
      "ross0.9190512149121357\n",
      "ross\n",
      "ross0.9201533561172028\n",
      "ross\n",
      "ross0.8952564568046812\n",
      "ross\n"
     ]
    },
    {
     "name": "stderr",
     "output_type": "stream",
     "text": [
      " 70%|███████████████████████████▉            | 751/1075 [00:18<00:07, 40.74it/s]"
     ]
    },
    {
     "name": "stdout",
     "output_type": "stream",
     "text": [
      "ross0.8968078728489883\n",
      "ross\n",
      "ross0.906042670351826\n",
      "ross\n",
      "ross0.9184223520143099\n",
      "ross\n",
      "ross0.9182896965876831\n",
      "ross\n",
      "ross0.9179900435734925\n",
      "ross\n",
      "ross0.932637665488909\n",
      "ross\n",
      "ross0.8974409736007994\n",
      "ross\n",
      "monica0.8654787503768632\n",
      "monica\n",
      "ross0.8914586842945671\n",
      "ross\n",
      "monica0.8839230554147525\n",
      "monica\n"
     ]
    },
    {
     "name": "stderr",
     "output_type": "stream",
     "text": [
      "\r",
      " 70%|████████████████████████████▏           | 756/1075 [00:18<00:08, 37.48it/s]"
     ]
    },
    {
     "name": "stdout",
     "output_type": "stream",
     "text": [
      "ross0.8878745760955995\n",
      "ross\n",
      "monica0.7908211754813409\n",
      "monica\n",
      "ross0.8838595619575118\n",
      "ross\n",
      "monica0.7926249016658226\n",
      "monica\n",
      "ross0.8825175827394776\n",
      "ross\n",
      "monica0.796539031506036\n",
      "monica\n",
      "ross0.8993766051350824\n",
      "ross\n",
      "ross0.8884004338255759\n",
      "ross\n",
      "ross0.8895992734804928\n",
      "ross\n",
      "ross0.8899783216414339\n",
      "ross\n",
      "ross0.8713005911465554\n",
      "ross\n"
     ]
    },
    {
     "name": "stderr",
     "output_type": "stream",
     "text": [
      " 71%|████████████████████████████▌           | 766/1075 [00:19<00:07, 40.17it/s]"
     ]
    },
    {
     "name": "stdout",
     "output_type": "stream",
     "text": [
      "ross0.8681312724736979\n",
      "ross\n",
      "ross0.9036427216712211\n",
      "ross\n",
      "ross0.914727179419201\n",
      "ross\n",
      "ross0.9206773032717764\n",
      "ross\n",
      "ross0.9165680677821509\n",
      "ross\n",
      "ross0.9317670342344543\n",
      "ross\n",
      "ross0.9341648571684185\n",
      "ross\n",
      "ross0.9215790657735007\n",
      "ross\n",
      "ross0.9080369300606531\n",
      "ross\n"
     ]
    },
    {
     "name": "stderr",
     "output_type": "stream",
     "text": [
      " 72%|████████████████████████████▊           | 776/1075 [00:19<00:08, 36.71it/s]"
     ]
    },
    {
     "name": "stdout",
     "output_type": "stream",
     "text": [
      "ross0.9086062712863425\n",
      "ross\n",
      "ross0.9113381049086025\n",
      "ross\n",
      "ross0.9078733043240714\n",
      "ross\n",
      "monica0.7275744232017461\n",
      "monica\n",
      "ross0.8988684317541857\n",
      "ross\n",
      "monica0.7044694023108061\n",
      "monica\n",
      "ross0.8997764892280753\n",
      "ross\n",
      "ross0.898314060575209\n",
      "ross\n",
      "ross0.8885580667377146\n",
      "ross\n",
      "monica0.8170136100887618\n",
      "monica\n"
     ]
    },
    {
     "name": "stderr",
     "output_type": "stream",
     "text": [
      "\r",
      " 73%|█████████████████████████████           | 780/1075 [00:19<00:08, 34.70it/s]"
     ]
    },
    {
     "name": "stdout",
     "output_type": "stream",
     "text": [
      "ross0.9059699902553096\n",
      "ross\n",
      "monica0.7938556665256555\n",
      "monica\n",
      "ross0.8965394739414184\n",
      "ross\n",
      "monica0.883226744357148\n",
      "monica\n",
      "ross0.8833355378112812\n",
      "ross\n",
      "monica0.7813029306772179\n",
      "monica\n",
      "ross0.8839556712534512\n",
      "ross\n",
      "monica0.8048417762011415\n",
      "monica\n",
      "ross0.8892202886489222\n",
      "ross\n",
      "monica0.7922103828332805\n",
      "monica\n",
      "monica0.7265736407156075\n",
      "monica\n",
      "ross0.8435438849459697\n",
      "ross\n"
     ]
    },
    {
     "name": "stderr",
     "output_type": "stream",
     "text": [
      " 73%|█████████████████████████████▎          | 788/1075 [00:19<00:08, 32.05it/s]"
     ]
    },
    {
     "name": "stdout",
     "output_type": "stream",
     "text": [
      "monica0.7360013699010989\n",
      "monica\n",
      "ross0.847496472676112\n",
      "ross\n",
      "monica0.8283504290066693\n",
      "monica\n",
      "ross0.870826017844711\n",
      "ross\n",
      "ross0.8496122164185534\n",
      "ross\n",
      "monica0.8558868148095812\n",
      "monica\n",
      "ross0.8474487837381307\n",
      "ross\n",
      "monica0.8555901629507335\n",
      "monica\n",
      "ross0.8446157778115388\n",
      "ross\n",
      "monica0.8520575304460744\n",
      "monica\n",
      "ross0.8791331581118708\n",
      "ross\n",
      "monica0.8452489352244148\n",
      "monica\n"
     ]
    },
    {
     "name": "stderr",
     "output_type": "stream",
     "text": [
      "\r",
      " 74%|█████████████████████████████▍          | 792/1075 [00:19<00:09, 31.37it/s]"
     ]
    },
    {
     "name": "stdout",
     "output_type": "stream",
     "text": [
      "ross0.8739574666663937\n",
      "ross\n",
      "monica0.828160662443624\n",
      "monica\n",
      "ross0.8467120534570953\n",
      "ross\n",
      "monica0.8452224659596603\n",
      "monica\n",
      "monica0.9348459887244797\n",
      "monica\n",
      "ross0.8847643720025554\n",
      "ross\n",
      "monica0.9370807293468643\n",
      "monica\n",
      "ross0.8890290629439486\n",
      "ross\n",
      "monica0.9383281988319293\n",
      "monica\n",
      "ross0.8848956812965107\n",
      "ross\n",
      "monica0.9489053368828708\n",
      "monica\n",
      "ross0.8782726555095954\n",
      "ross\n"
     ]
    },
    {
     "name": "stderr",
     "output_type": "stream",
     "text": [
      " 74%|█████████████████████████████▊          | 800/1075 [00:20<00:09, 30.09it/s]"
     ]
    },
    {
     "name": "stdout",
     "output_type": "stream",
     "text": [
      "monica0.9286769155043834\n",
      "monica\n",
      "ross0.9216537956467805\n",
      "ross\n",
      "monica0.9259227245470043\n",
      "monica\n",
      "ross0.9241491954487934\n",
      "ross\n",
      "ross0.9239510806462251\n",
      "ross\n",
      "monica0.9447801167386664\n",
      "monica\n",
      "ross0.9158651961745599\n",
      "ross\n",
      "monica0.9491608925547408\n",
      "monica\n",
      "ross0.917472171713424\n",
      "ross\n",
      "monica0.9559037864958639\n",
      "monica\n",
      "monica0.9566326291181281\n",
      "monica\n",
      "ross0.9039919955506611\n",
      "ross\n"
     ]
    },
    {
     "name": "stderr",
     "output_type": "stream",
     "text": [
      "\r",
      " 75%|█████████████████████████████▉          | 804/1075 [00:20<00:09, 29.95it/s]"
     ]
    },
    {
     "name": "stdout",
     "output_type": "stream",
     "text": [
      "monica0.9613227527318287\n",
      "monica\n",
      "ross0.8887497754143581\n",
      "ross\n",
      "monica0.9611625089481499\n",
      "monica\n",
      "ross0.8966206605013213\n",
      "ross\n",
      "monica0.9585658594689216\n",
      "monica\n",
      "ross0.8852166791864862\n",
      "ross\n",
      "monica0.9442036495311603\n",
      "monica\n",
      "ross0.9052659740060236\n",
      "ross\n",
      "monica0.943137442772788\n",
      "monica\n",
      "ross0.9063844487522543\n",
      "ross\n",
      "monica0.9536169301816895\n",
      "monica\n",
      "ross0.9212121734009374\n",
      "ross\n"
     ]
    },
    {
     "name": "stderr",
     "output_type": "stream",
     "text": [
      " 75%|██████████████████████████████▏         | 811/1075 [00:20<00:08, 29.70it/s]"
     ]
    },
    {
     "name": "stdout",
     "output_type": "stream",
     "text": [
      "monica0.9220874239209558\n",
      "monica\n",
      "ross0.9268709557912236\n",
      "ross\n",
      "monica0.9233024746230154\n",
      "monica\n",
      "ross0.9225060609932147\n",
      "ross\n",
      "monica0.9270860010838409\n",
      "monica\n",
      "ross0.9249071808860897\n",
      "ross\n",
      "monica0.9408339666340967\n",
      "monica\n",
      "ross0.9039197026786538\n",
      "ross\n",
      "monica0.9495320644933511\n",
      "monica\n",
      "ross0.907873208285885\n",
      "ross\n",
      "monica0.9511967242003996\n",
      "monica\n",
      "ross0.9086393890167193\n",
      "ross\n"
     ]
    },
    {
     "name": "stderr",
     "output_type": "stream",
     "text": [
      " 76%|██████████████████████████████▍         | 817/1075 [00:20<00:08, 29.39it/s]"
     ]
    },
    {
     "name": "stdout",
     "output_type": "stream",
     "text": [
      "monica0.9460710235943129\n",
      "monica\n",
      "ross0.894164106913066\n",
      "ross\n",
      "monica0.9463179462469724\n",
      "monica\n",
      "ross0.8924168897739775\n",
      "ross\n",
      "monica0.946453643481166\n",
      "monica\n",
      "ross0.8969937886484592\n",
      "ross\n",
      "monica0.8937158180711812\n",
      "monica\n",
      "ross0.9228559750652909\n",
      "ross\n",
      "monica0.9200925373577713\n",
      "monica\n",
      "ross0.9348677144233525\n",
      "ross\n",
      "monica0.9183544885455714\n",
      "monica\n",
      "ross0.9326259705071007\n",
      "ross\n"
     ]
    },
    {
     "name": "stderr",
     "output_type": "stream",
     "text": [
      " 77%|██████████████████████████████▋         | 824/1075 [00:21<00:08, 31.05it/s]"
     ]
    },
    {
     "name": "stdout",
     "output_type": "stream",
     "text": [
      "monica0.9201422577922941\n",
      "monica\n",
      "ross0.9325611608595228\n",
      "ross\n",
      "monica0.930160854331137\n",
      "monica\n",
      "ross0.887564488288698\n",
      "ross\n",
      "monica0.9306620713538825\n",
      "monica\n",
      "ross0.8831451877447775\n",
      "ross\n",
      "ross0.9408909617301034\n",
      "ross\n",
      "monica0.9366823911183271\n",
      "monica\n",
      "joey0.8715791663209809\n",
      "joey\n",
      "joey0.8615265203490738\n",
      "joey\n",
      "joey0.8637182784718739\n",
      "joey\n",
      "joey0.908064286305264\n",
      "joey\n"
     ]
    },
    {
     "name": "stderr",
     "output_type": "stream",
     "text": [
      " 78%|███████████████████████████████         | 834/1075 [00:21<00:06, 37.28it/s]"
     ]
    },
    {
     "name": "stdout",
     "output_type": "stream",
     "text": [
      "joey0.908527263333184\n",
      "joey\n",
      "joey0.8458343888391612\n",
      "joey\n",
      "joey0.8939627143131744\n",
      "joey\n",
      "joey0.8847981818479258\n",
      "joey\n",
      "joey0.8934297921501625\n",
      "joey\n",
      "joey0.8569717166172659\n",
      "joey\n",
      "joey0.9138884514896277\n",
      "joey\n",
      "joey0.9241279337083657\n",
      "joey\n",
      "joey0.9252449895129647\n",
      "joey\n"
     ]
    },
    {
     "name": "stderr",
     "output_type": "stream",
     "text": [
      " 79%|███████████████████████████████▍        | 844/1075 [00:21<00:05, 40.39it/s]"
     ]
    },
    {
     "name": "stdout",
     "output_type": "stream",
     "text": [
      "joey0.901514404042068\n",
      "joey\n",
      "joey0.9071825545926394\n",
      "joey\n",
      "joey0.9233307954953262\n",
      "joey\n",
      "joey0.9215284770201643\n",
      "joey\n",
      "joey0.9183384853985262\n",
      "joey\n",
      "joey0.9217990054211936\n",
      "joey\n",
      "joey0.9351567059885016\n",
      "joey\n",
      "joey0.9345360807471014\n",
      "joey\n",
      "joey0.9179316386650879\n",
      "joey\n"
     ]
    },
    {
     "name": "stderr",
     "output_type": "stream",
     "text": [
      "\r",
      " 79%|███████████████████████████████▌        | 849/1075 [00:21<00:05, 41.14it/s]"
     ]
    },
    {
     "name": "stdout",
     "output_type": "stream",
     "text": [
      "joey0.9055132987946181\n",
      "joey\n",
      "joey0.9049354529982401\n",
      "joey\n",
      "joey0.904502937992717\n",
      "joey\n",
      "joey0.9223888026906009\n",
      "joey\n",
      "joey0.9188556449159581\n",
      "joey\n",
      "joey0.9120819372377055\n",
      "joey\n",
      "joey0.9096067638271933\n",
      "joey\n",
      "joey0.9099232696496626\n",
      "joey\n",
      "joey0.9089841739700704\n",
      "joey\n"
     ]
    },
    {
     "name": "stderr",
     "output_type": "stream",
     "text": [
      " 80%|███████████████████████████████▉        | 859/1075 [00:21<00:05, 42.54it/s]"
     ]
    },
    {
     "name": "stdout",
     "output_type": "stream",
     "text": [
      "joey0.8945186275971101\n",
      "joey\n",
      "joey0.8801094918320498\n",
      "joey\n",
      "joey0.8787336648740588\n",
      "joey\n",
      "joey0.8834886368269864\n",
      "joey\n",
      "joey0.9519965629921165\n",
      "joey\n",
      "joey0.9519102741143182\n",
      "joey\n",
      "joey0.9247675007357633\n",
      "joey\n",
      "joey0.9394446827492577\n",
      "joey\n",
      "joey0.9273636506393604\n",
      "joey\n"
     ]
    },
    {
     "name": "stderr",
     "output_type": "stream",
     "text": [
      " 81%|████████████████████████████████▎       | 869/1075 [00:22<00:04, 42.53it/s]"
     ]
    },
    {
     "name": "stdout",
     "output_type": "stream",
     "text": [
      "joey0.9390233068783101\n",
      "joey\n",
      "joey0.9495078073460884\n",
      "joey\n",
      "joey0.9488254869079494\n",
      "joey\n",
      "joey0.9382160818601089\n",
      "joey\n",
      "joey0.9394654838230513\n",
      "joey\n",
      "joey0.9427626328571936\n",
      "joey\n",
      "joey0.9476686852206276\n",
      "joey\n",
      "joey0.9181010139466586\n",
      "joey\n",
      "joey0.9010052434355562\n",
      "joey\n"
     ]
    },
    {
     "name": "stderr",
     "output_type": "stream",
     "text": [
      " 82%|████████████████████████████████▋       | 879/1075 [00:22<00:04, 42.94it/s]"
     ]
    },
    {
     "name": "stdout",
     "output_type": "stream",
     "text": [
      "joey0.9020309383605147\n",
      "joey\n",
      "joey0.8352583172672312\n",
      "joey\n",
      "joey0.8423903267272675\n",
      "joey\n",
      "joey0.8613842100048706\n",
      "joey\n",
      "joey0.8973838517418182\n",
      "joey\n",
      "joey0.8927642101015831\n",
      "joey\n",
      "joey0.8944174633965774\n",
      "joey\n",
      "joey0.8870567560019539\n",
      "joey\n",
      "joey0.8858796612146338\n",
      "joey\n"
     ]
    },
    {
     "name": "stderr",
     "output_type": "stream",
     "text": [
      " 83%|█████████████████████████████████       | 889/1075 [00:22<00:04, 42.97it/s]"
     ]
    },
    {
     "name": "stdout",
     "output_type": "stream",
     "text": [
      "joey0.8857762380225738\n",
      "joey\n",
      "joey0.9046589787317866\n",
      "joey\n",
      "joey0.9206333990298042\n",
      "joey\n",
      "joey0.9252784542818305\n",
      "joey\n",
      "joey0.9197892258311094\n",
      "joey\n",
      "joey0.938950507371513\n",
      "joey\n",
      "joey0.933959657237303\n",
      "joey\n",
      "joey0.9374495680826439\n",
      "joey\n",
      "joey0.948128871339079\n",
      "joey\n"
     ]
    },
    {
     "name": "stderr",
     "output_type": "stream",
     "text": [
      "\r",
      " 83%|█████████████████████████████████▎      | 894/1075 [00:22<00:04, 43.04it/s]"
     ]
    },
    {
     "name": "stdout",
     "output_type": "stream",
     "text": [
      "joey0.9433525432418719\n",
      "joey\n",
      "joey0.9470940099949194\n",
      "joey\n",
      "joey0.940258518996002\n",
      "joey\n",
      "joey0.9512193772139765\n",
      "joey\n",
      "joey0.9499711007150508\n",
      "joey\n",
      "joey0.9428069272752323\n",
      "joey\n",
      "joey0.9605875407107743\n",
      "joey\n",
      "joey0.9620596045535545\n",
      "joey\n",
      "joey0.9590225571492569\n",
      "joey\n"
     ]
    },
    {
     "name": "stderr",
     "output_type": "stream",
     "text": [
      " 84%|█████████████████████████████████▋      | 904/1075 [00:22<00:03, 43.06it/s]"
     ]
    },
    {
     "name": "stdout",
     "output_type": "stream",
     "text": [
      "joey0.9559723151628525\n",
      "joey\n",
      "joey0.9500287540228535\n",
      "joey\n",
      "joey0.9562335529054308\n",
      "joey\n",
      "joey0.9630186567740274\n",
      "joey\n",
      "joey0.9632825074697233\n",
      "joey\n",
      "joey0.9497350116405266\n",
      "joey\n",
      "joey0.948637094678162\n",
      "joey\n",
      "joey0.9502010619297134\n",
      "joey\n",
      "joey0.9528722188316386\n",
      "joey\n"
     ]
    },
    {
     "name": "stderr",
     "output_type": "stream",
     "text": [
      " 85%|██████████████████████████████████      | 914/1075 [00:23<00:03, 42.58it/s]"
     ]
    },
    {
     "name": "stdout",
     "output_type": "stream",
     "text": [
      "joey0.957877781173157\n",
      "joey\n",
      "joey0.954440996994371\n",
      "joey\n",
      "joey0.971893923598102\n",
      "joey\n",
      "joey0.9239118403262152\n",
      "joey\n",
      "joey0.9301487917159833\n",
      "joey\n",
      "joey0.9256055819561652\n",
      "joey\n",
      "joey0.9445168045800449\n",
      "joey\n",
      "joey0.9308772831326123\n",
      "joey\n",
      "joey0.9338635638815954\n",
      "joey\n"
     ]
    },
    {
     "name": "stderr",
     "output_type": "stream",
     "text": [
      " 86%|██████████████████████████████████▍     | 924/1075 [00:23<00:03, 42.99it/s]"
     ]
    },
    {
     "name": "stdout",
     "output_type": "stream",
     "text": [
      "joey0.9288373135165671\n",
      "joey\n",
      "joey0.9441588029633415\n",
      "joey\n",
      "joey0.9461263905523302\n",
      "joey\n",
      "joey0.9407601923277112\n",
      "joey\n",
      "joey0.9614102934839637\n",
      "joey\n",
      "joey0.9677498571453139\n",
      "joey\n",
      "joey0.9704716774105646\n",
      "joey\n",
      "joey0.9306445189474521\n",
      "joey\n",
      "joey0.9300709288161537\n",
      "joey\n"
     ]
    },
    {
     "name": "stderr",
     "output_type": "stream",
     "text": [
      " 87%|██████████████████████████████████▊     | 934/1075 [00:23<00:03, 43.24it/s]"
     ]
    },
    {
     "name": "stdout",
     "output_type": "stream",
     "text": [
      "joey0.913948007438724\n",
      "joey\n",
      "joey0.8971075111475629\n",
      "joey\n",
      "joey0.8945722414354168\n",
      "joey\n",
      "joey0.9129612226176096\n",
      "joey\n",
      "joey0.9175459239570986\n",
      "joey\n",
      "joey0.9290198849054128\n",
      "joey\n",
      "joey0.9329401379591635\n",
      "joey\n",
      "joey0.9376394083963702\n",
      "joey\n",
      "joey0.9379633624687898\n",
      "joey\n"
     ]
    },
    {
     "name": "stderr",
     "output_type": "stream",
     "text": [
      "\r",
      " 87%|██████████████████████████████████▉     | 939/1075 [00:23<00:03, 43.00it/s]"
     ]
    },
    {
     "name": "stdout",
     "output_type": "stream",
     "text": [
      "joey0.9308095370080957\n",
      "joey\n",
      "joey0.925543707152317\n",
      "joey\n",
      "joey0.9508628430236081\n",
      "joey\n",
      "joey0.9513955167336223\n",
      "joey\n",
      "joey0.9525501383235062\n",
      "joey\n",
      "joey0.9181149983337695\n",
      "joey\n",
      "joey0.9258686002406352\n",
      "joey\n",
      "joey0.922102889723805\n",
      "joey\n",
      "joey0.9300145245859273\n",
      "joey\n"
     ]
    },
    {
     "name": "stderr",
     "output_type": "stream",
     "text": [
      " 88%|███████████████████████████████████▎    | 949/1075 [00:23<00:02, 42.81it/s]"
     ]
    },
    {
     "name": "stdout",
     "output_type": "stream",
     "text": [
      "joey0.9251037796282104\n",
      "joey\n",
      "joey0.9255251605380043\n",
      "joey\n",
      "joey0.9426497026872706\n",
      "joey\n",
      "joey0.9436469780663146\n",
      "joey\n",
      "joey0.9654077910093639\n",
      "joey\n",
      "joey0.9451012046259247\n",
      "joey\n",
      "joey0.9490671088651541\n",
      "joey\n",
      "joey0.9428945464578957\n",
      "joey\n",
      "joey0.9586261810543678\n",
      "joey\n"
     ]
    },
    {
     "name": "stderr",
     "output_type": "stream",
     "text": [
      " 89%|███████████████████████████████████▋    | 959/1075 [00:24<00:02, 42.63it/s]"
     ]
    },
    {
     "name": "stdout",
     "output_type": "stream",
     "text": [
      "joey0.9405413466864991\n",
      "joey\n",
      "joey0.9434947618647199\n",
      "joey\n",
      "joey0.9460949636450722\n",
      "joey\n",
      "joey0.9664145525787659\n",
      "joey\n",
      "joey0.9662394094913341\n",
      "joey\n",
      "joey0.9352676597505425\n",
      "joey\n",
      "joey0.9428222674967446\n",
      "joey\n",
      "joey0.9434175945712242\n",
      "joey\n",
      "joey0.9431119211941414\n",
      "joey\n"
     ]
    },
    {
     "name": "stderr",
     "output_type": "stream",
     "text": [
      " 90%|████████████████████████████████████    | 969/1075 [00:24<00:02, 42.81it/s]"
     ]
    },
    {
     "name": "stdout",
     "output_type": "stream",
     "text": [
      "joey0.9005724333335257\n",
      "joey\n",
      "joey0.9126135079250797\n",
      "joey\n",
      "joey0.9087967189869258\n",
      "joey\n",
      "joey0.8828392367624592\n",
      "joey\n",
      "joey0.8883630821376886\n",
      "joey\n",
      "joey0.8855831327615109\n",
      "joey\n",
      "joey0.9189630957332319\n",
      "joey\n",
      "joey0.9175671816975404\n",
      "joey\n",
      "joey0.8710939248022609\n",
      "joey\n"
     ]
    },
    {
     "name": "stderr",
     "output_type": "stream",
     "text": [
      " 91%|████████████████████████████████████▍   | 979/1075 [00:24<00:02, 43.03it/s]"
     ]
    },
    {
     "name": "stdout",
     "output_type": "stream",
     "text": [
      "joey0.8890499282190003\n",
      "joey\n",
      "joey0.8913173862232879\n",
      "joey\n",
      "joey0.8823586991823195\n",
      "joey\n",
      "joey0.9032680946214795\n",
      "joey\n",
      "joey0.8943068360323564\n",
      "joey\n",
      "joey0.8901756530471194\n",
      "joey\n",
      "joey0.88607019819446\n",
      "joey\n",
      "joey0.8767215256282596\n",
      "joey\n",
      "joey0.8727505761332985\n",
      "joey\n"
     ]
    },
    {
     "name": "stderr",
     "output_type": "stream",
     "text": [
      "\r",
      " 92%|████████████████████████████████████▌   | 984/1075 [00:24<00:02, 43.15it/s]"
     ]
    },
    {
     "name": "stdout",
     "output_type": "stream",
     "text": [
      "joey0.9271339006747311\n",
      "joey\n",
      "joey0.8696870561897648\n",
      "joey\n",
      "joey0.8564878173099597\n",
      "joey\n",
      "joey0.8419724343071091\n",
      "joey\n",
      "joey0.8045742625751601\n",
      "joey\n",
      "joey0.8226364596050504\n",
      "joey\n",
      "joey0.8101755952411308\n",
      "joey\n",
      "joey0.8464574024155876\n",
      "joey\n",
      "joey0.8385602326890923\n",
      "joey\n"
     ]
    },
    {
     "name": "stderr",
     "output_type": "stream",
     "text": [
      " 92%|████████████████████████████████████▉   | 994/1075 [00:24<00:01, 42.99it/s]"
     ]
    },
    {
     "name": "stdout",
     "output_type": "stream",
     "text": [
      "joey0.8611943301876207\n",
      "joey\n",
      "joey0.7029243989102563\n",
      "joey\n",
      "joey0.8636295538183465\n",
      "joey\n",
      "joey0.8806744167834233\n",
      "joey\n",
      "joey0.892165171346358\n",
      "joey\n",
      "joey0.887201399907217\n",
      "joey\n",
      "joey0.8703690828285398\n",
      "joey\n",
      "joey0.9062895904407954\n",
      "joey\n",
      "joey0.8870820740701287\n",
      "joey\n"
     ]
    },
    {
     "name": "stderr",
     "output_type": "stream",
     "text": [
      " 93%|████████████████████████████████████▍  | 1004/1075 [00:25<00:01, 42.89it/s]"
     ]
    },
    {
     "name": "stdout",
     "output_type": "stream",
     "text": [
      "joey0.8868147097380202\n",
      "joey\n",
      "joey0.8902528353953495\n",
      "joey\n",
      "joey0.905249591941543\n",
      "joey\n",
      "joey0.9112127177599623\n",
      "joey\n",
      "joey0.9203297121816763\n",
      "joey\n",
      "joey0.9318266878028382\n",
      "joey\n",
      "joey0.9334423190235872\n",
      "joey\n",
      "joey0.9210099983276708\n",
      "joey\n",
      "joey0.9420118263392845\n",
      "joey\n"
     ]
    },
    {
     "name": "stderr",
     "output_type": "stream",
     "text": [
      " 94%|████████████████████████████████████▊  | 1014/1075 [00:25<00:01, 42.83it/s]"
     ]
    },
    {
     "name": "stdout",
     "output_type": "stream",
     "text": [
      "joey0.9433186338197539\n",
      "joey\n",
      "joey0.9338908723228884\n",
      "joey\n",
      "joey0.9134676835850165\n",
      "joey\n",
      "joey0.9171283498238513\n",
      "joey\n",
      "joey0.9142933329142985\n",
      "joey\n",
      "joey0.9309554753591444\n",
      "joey\n",
      "joey0.9042577733571557\n",
      "joey\n",
      "joey0.9122627268928761\n",
      "joey\n",
      "joey0.9087021504742164\n",
      "joey\n"
     ]
    },
    {
     "name": "stderr",
     "output_type": "stream",
     "text": [
      " 95%|█████████████████████████████████████▏ | 1024/1075 [00:25<00:01, 43.00it/s]"
     ]
    },
    {
     "name": "stdout",
     "output_type": "stream",
     "text": [
      "joey0.9276733475503866\n",
      "joey\n",
      "joey0.92741696448021\n",
      "joey\n",
      "joey0.9390981719385215\n",
      "joey\n",
      "joey0.9261859497800866\n",
      "joey\n",
      "joey0.9231752322496903\n",
      "joey\n",
      "joey0.9288009195514807\n",
      "joey\n",
      "joey0.943181428194141\n",
      "joey\n",
      "joey0.941163018875552\n",
      "joey\n",
      "joey0.950463834542672\n",
      "joey\n"
     ]
    },
    {
     "name": "stderr",
     "output_type": "stream",
     "text": [
      "\r",
      " 96%|█████████████████████████████████████▎ | 1029/1075 [00:25<00:01, 43.14it/s]"
     ]
    },
    {
     "name": "stdout",
     "output_type": "stream",
     "text": [
      "joey0.9555303693429804\n",
      "joey\n",
      "joey0.9531931083652028\n",
      "joey\n",
      "joey0.9554138719437967\n",
      "joey\n",
      "joey0.9283866597120295\n",
      "joey\n",
      "joey0.9248146430949499\n",
      "joey\n",
      "joey0.9355800928066484\n",
      "joey\n",
      "joey0.9309954997662194\n",
      "joey\n",
      "joey0.9156840441437093\n",
      "joey\n",
      "joey0.9131704873552128\n",
      "joey\n"
     ]
    },
    {
     "name": "stderr",
     "output_type": "stream",
     "text": [
      " 97%|█████████████████████████████████████▋ | 1039/1075 [00:26<00:00, 37.32it/s]"
     ]
    },
    {
     "name": "stdout",
     "output_type": "stream",
     "text": [
      "monica0.9722093967828088\n",
      "monica\n",
      "monica0.9703838572146692\n",
      "monica\n",
      "ross0.7080202273937747\n",
      "ross\n",
      "monica0.9708546001488845\n",
      "monica\n",
      "ross0.705087872170414\n",
      "ross\n",
      "monica0.9710068365784458\n",
      "monica\n",
      "ross0.7056317797066679\n",
      "ross\n",
      "monica0.9833689250565886\n",
      "monica\n",
      "monica0.983596910341078\n",
      "monica\n",
      "ross0.7113664652856003\n",
      "ross\n",
      "monica0.9801611911337291\n",
      "monica\n"
     ]
    },
    {
     "name": "stderr",
     "output_type": "stream",
     "text": [
      "\r",
      " 97%|█████████████████████████████████████▊ | 1043/1075 [00:26<00:00, 35.01it/s]"
     ]
    },
    {
     "name": "stdout",
     "output_type": "stream",
     "text": [
      "ross0.7266488532204952\n",
      "ross\n",
      "monica0.980868618961258\n",
      "monica\n",
      "ross0.7120228508108339\n",
      "ross\n",
      "monica0.9805379465423777\n",
      "monica\n",
      "ross0.7220957230856039\n",
      "ross\n",
      "monica0.9814783047447868\n",
      "monica\n",
      "monica0.9729391551981497\n",
      "monica\n",
      "ross0.7165477971633494\n",
      "ross\n",
      "monica0.972690774348679\n",
      "monica\n",
      "ross0.7107330778500489\n",
      "ross\n"
     ]
    },
    {
     "name": "stderr",
     "output_type": "stream",
     "text": [
      " 98%|██████████████████████████████████████▏| 1051/1075 [00:26<00:00, 32.30it/s]"
     ]
    },
    {
     "name": "stdout",
     "output_type": "stream",
     "text": [
      "monica0.9756268855746074\n",
      "monica\n",
      "monica0.9595280011077233\n",
      "monica\n",
      "monica0.963879573993013\n",
      "monica\n",
      "monica0.9596527185853023\n",
      "monica\n",
      "monica0.9171203486858988\n",
      "monica\n",
      "monica0.9256254088987701\n",
      "monica\n"
     ]
    },
    {
     "name": "stderr",
     "output_type": "stream",
     "text": [
      "\r",
      " 98%|██████████████████████████████████████▎| 1055/1075 [00:26<00:00, 31.63it/s]"
     ]
    },
    {
     "name": "stdout",
     "output_type": "stream",
     "text": [
      "monica0.925250580904902\n",
      "monica\n",
      "monica0.9170958887276924\n",
      "monica\n",
      "monica0.9197738775421\n",
      "monica\n",
      "monica0.9198029034228724\n",
      "monica\n",
      "monica0.9276053111724971\n",
      "monica\n",
      "monica0.9336844916834625\n",
      "monica\n",
      "monica0.931952525721871\n",
      "monica\n"
     ]
    },
    {
     "name": "stderr",
     "output_type": "stream",
     "text": [
      " 99%|██████████████████████████████████████▌| 1063/1075 [00:26<00:00, 30.48it/s]"
     ]
    },
    {
     "name": "stdout",
     "output_type": "stream",
     "text": [
      "monica0.9328382995341864\n",
      "monica\n",
      "monica0.8967811908818378\n",
      "monica\n",
      "monica0.8986799391612647\n",
      "monica\n",
      "monica0.9424114182653764\n",
      "monica\n",
      "monica0.900114350225424\n",
      "monica\n",
      "monica0.9018556828495122\n",
      "monica\n"
     ]
    },
    {
     "name": "stderr",
     "output_type": "stream",
     "text": [
      "\r",
      " 99%|██████████████████████████████████████▋| 1067/1075 [00:27<00:00, 30.13it/s]"
     ]
    },
    {
     "name": "stdout",
     "output_type": "stream",
     "text": [
      "monica0.8926471533994177\n",
      "monica\n",
      "monica0.8926437071174324\n",
      "monica\n",
      "monica0.9048465875830829\n",
      "monica\n",
      "monica0.8791577589214397\n",
      "monica\n",
      "ross0.7098095324853863\n",
      "ross\n",
      "monica0.9067970840710952\n",
      "monica\n",
      "monica0.9200253953247175\n",
      "monica\n"
     ]
    },
    {
     "name": "stderr",
     "output_type": "stream",
     "text": [
      "100%|███████████████████████████████████████| 1075/1075 [00:27<00:00, 39.40it/s]"
     ]
    },
    {
     "name": "stdout",
     "output_type": "stream",
     "text": [
      "monica0.9137133173990543\n",
      "monica\n",
      "monica0.8846620310697298\n",
      "monica\n",
      "ross0.7245705560978373\n",
      "ross\n",
      "monica0.9054616394080007\n",
      "monica\n",
      "ross0.7275740491134317\n",
      "ross\n",
      "monica0.9101273443292648\n",
      "monica\n",
      "ross0.7131308897454989\n",
      "ross\n",
      "monica0.9033587631276412\n",
      "monica\n",
      "ross0.7144375310829341\n",
      "ross\n"
     ]
    },
    {
     "name": "stderr",
     "output_type": "stream",
     "text": [
      "\n"
     ]
    }
   ],
   "source": [
    "#ATTEMPT #2 HERE>>>>>>>>>>>\n",
    "import pandas as pd \n",
    "\n",
    "frame_number = 0\n",
    "\n",
    "face_recog_confidence = 0.7\n",
    "\n",
    "frame_storage = []\n",
    "\n",
    "for i in tqdm(range(length)):\n",
    "    # Grab a single frame of video\n",
    "    ret, frame = input_movie.read()\n",
    "    frame_number += 1\n",
    "\n",
    "    # Quit when the input video file ends\n",
    "    if not ret:\n",
    "        break\n",
    "\n",
    "    # Convert the image from BGR color (which OpenCV uses) to RGB color (which face_recognition uses)\n",
    "    # https://stackoverflow.com/questions/75926662/face-recognition-problem-with-face-encodings-function\n",
    "    rgb_frame = np.ascontiguousarray(frame[:, :, ::-1])\n",
    "\n",
    "    # Find all the faces and face encodings in the current frame of video\n",
    "    face_extract = detector.infer(rgb_frame)\n",
    "    if face_extract is not None:\n",
    "        face_embeddings = [\n",
    "            recognizer.infer(rgb_frame, face_extract[i][:-1])[0]\n",
    "            for i in range(len(face_extract))\n",
    "        ]\n",
    "    else:\n",
    "        print(\"No face found. Continuing\")\n",
    "        frame_storage.append([i, 0, 0, 0, 0, 0, 0])\n",
    "        continue\n",
    "\n",
    "    face_names = []\n",
    "    for e in face_embeddings:\n",
    "        # See if the face is a match for the known face(s)\n",
    "        prediction = clf.predict_proba([e])[0]\n",
    "        confidence = prediction[np.argmax(prediction)]\n",
    "        # threshold confidence\n",
    "        if confidence < face_recog_confidence:\n",
    "            continue\n",
    "            \n",
    "        label = clf.classes_[np.argmax(prediction)] + str(confidence)\n",
    "        name = clf.classes_[np.argmax(prediction)]\n",
    "        print(label)\n",
    "        print(name)\n",
    "        \n",
    "        face_names.append(name)\n",
    "        \n",
    "    # binary flag indicating whether or not a person is on the screen\n",
    "    face_present = [int(x in face_names) for x in clf.classes_]\n",
    "    to_store = [i]\n",
    "    to_store.extend(face_present)\n",
    "    \n",
    "    frame_storage.append(to_store)\n",
    "\n",
    "labels = ['frame_num']\n",
    "labels.extend(clf.classes_)\n",
    "out_df = pd.DataFrame(frame_storage, columns = labels)\n",
    "out_df.to_csv('frame_nums.csv')"
   ]
  },
  {
   "cell_type": "code",
   "execution_count": 18,
   "id": "72b8b76c",
   "metadata": {},
   "outputs": [
    {
     "name": "stderr",
     "output_type": "stream",
     "text": [
      " 11%|████▉                                       | 2/18 [00:00<00:01, 14.08it/s]"
     ]
    },
    {
     "name": "stdout",
     "output_type": "stream",
     "text": [
      "No face found. Continuing\n"
     ]
    },
    {
     "name": "stderr",
     "output_type": "stream",
     "text": [
      " 44%|███████████████████▌                        | 8/18 [00:00<00:00, 16.58it/s]"
     ]
    },
    {
     "name": "stdout",
     "output_type": "stream",
     "text": [
      "chandler0.7220765323524696\n",
      "chandler\n",
      "chandler0.8533350651053833\n",
      "chandler\n",
      "monica0.9656558029344469\n",
      "monica\n",
      "monica0.9584082667728111\n",
      "monica\n"
     ]
    },
    {
     "name": "stderr",
     "output_type": "stream",
     "text": [
      " 67%|████████████████████████████▋              | 12/18 [00:00<00:00, 15.89it/s]"
     ]
    },
    {
     "name": "stdout",
     "output_type": "stream",
     "text": [
      "monica0.9180821697891212\n",
      "monica\n",
      "joey0.9086145378789798\n",
      "joey\n",
      "ross0.8883586549178852\n",
      "ross\n",
      "monica0.9809881270084732\n",
      "monica\n",
      "ross0.9013399898752398\n",
      "ross\n"
     ]
    },
    {
     "name": "stderr",
     "output_type": "stream",
     "text": [
      " 94%|████████████████████████████████████████▌  | 17/18 [00:00<00:00, 18.65it/s]"
     ]
    },
    {
     "name": "stdout",
     "output_type": "stream",
     "text": [
      "ross0.8839556712534512\n",
      "ross\n",
      "monica0.8048417762011415\n",
      "monica\n",
      "joey0.9183384853985262\n",
      "joey\n",
      "joey0.9500287540228535\n",
      "joey\n",
      "joey0.9434175945712242\n",
      "joey\n"
     ]
    },
    {
     "name": "stderr",
     "output_type": "stream",
     "text": [
      "\r",
      "100%|███████████████████████████████████████████| 18/18 [00:01<00:00, 16.42it/s]"
     ]
    },
    {
     "name": "stdout",
     "output_type": "stream",
     "text": [
      "joey0.9231752322496903\n",
      "joey\n"
     ]
    },
    {
     "name": "stderr",
     "output_type": "stream",
     "text": [
      "\n"
     ]
    }
   ],
   "source": [
    "##ATTEMPT #3 analyzing by seconds rather than frames \n",
    "\n",
    "import pandas as pd\n",
    "import cv2\n",
    "import numpy as np\n",
    "from tqdm import tqdm\n",
    "\n",
    "\n",
    "# Video frame rate and length\n",
    "frame_rate = int(input_movie.get(cv2.CAP_PROP_FPS))\n",
    "video_length = int(input_movie.get(cv2.CAP_PROP_FRAME_COUNT))\n",
    "\n",
    "frame_number = 0\n",
    "face_recog_confidence = 0.7\n",
    "frame_storage = []\n",
    "\n",
    "# Increment in seconds\n",
    "time_interval = 1  # Change this to the desired time interval in seconds\n",
    "\n",
    "# Check if frame_rate * time_interval is non-zero before entering the loop\n",
    "if frame_rate * time_interval != 0:\n",
    "\n",
    "    for i in tqdm(range(video_length // (frame_rate * time_interval))):\n",
    "        # Set the video capture position to the desired time (in seconds)\n",
    "        target_time = i * time_interval\n",
    "        input_movie.set(cv2.CAP_PROP_POS_MSEC, target_time * 1000)\n",
    "\n",
    "        # Grab a frame at the desired time\n",
    "        ret, frame = input_movie.read()\n",
    "        frame_number += 1\n",
    "\n",
    "        # Quit when the input video file ends\n",
    "        if not ret:\n",
    "            break\n",
    "\n",
    "        # Append the data to frame_storage as needed\n",
    "            # Convert the image from BGR color (which OpenCV uses) to RGB color (which face_recognition uses)\n",
    "        # https://stackoverflow.com/questions/75926662/face-recognition-problem-with-face-encodings-function\n",
    "        rgb_frame = np.ascontiguousarray(frame[:, :, ::-1])\n",
    "\n",
    "        # Find all the faces and face encodings in the current frame of video\n",
    "        face_extract = detector.infer(rgb_frame)\n",
    "        if face_extract is not None:\n",
    "            face_embeddings = [\n",
    "                recognizer.infer(rgb_frame, face_extract[i][:-1])[0]\n",
    "                for i in range(len(face_extract))\n",
    "            ]\n",
    "        else:\n",
    "            print(\"No face found. Continuing\")\n",
    "            frame_storage.append([i, 0, 0, 0, 0, 0, 0])\n",
    "            continue\n",
    "\n",
    "        face_names = []\n",
    "        for e in face_embeddings:\n",
    "            # See if the face is a match for the known face(s)\n",
    "            prediction = clf.predict_proba([e])[0]\n",
    "            confidence = prediction[np.argmax(prediction)]\n",
    "            # threshold confidence\n",
    "            if confidence < face_recog_confidence:\n",
    "                continue\n",
    "\n",
    "            label = clf.classes_[np.argmax(prediction)] + str(confidence)\n",
    "            name = clf.classes_[np.argmax(prediction)]\n",
    "            print(label)\n",
    "            print(name)\n",
    "\n",
    "            face_names.append(name)\n",
    "\n",
    "        # binary flag indicating whether or not a person is on the screen\n",
    "        face_present = [int(x in face_names) for x in clf.classes_]\n",
    "        to_store = [i]\n",
    "        to_store.extend(face_present)\n",
    "\n",
    "        frame_storage.append(to_store)\n",
    "else:\n",
    "    print(\"Error: frame_rate * time_interval is zero. Adjust the values.\")\n",
    "\n",
    "\n",
    "# Save the results to a DataFrame and CSV file\n",
    "labels = ['time (s)']  # Change this label to reflect time instead of frame number\n",
    "labels.extend(clf.classes_)\n",
    "out_df = pd.DataFrame(frame_storage, columns=labels)\n",
    "out_df.to_csv('time_intervals.csv')\n"
   ]
  },
  {
   "cell_type": "code",
   "execution_count": 13,
   "id": "fb7fa10b",
   "metadata": {},
   "outputs": [],
   "source": [
    "frame_storage = []\n",
    "test = frame_storage.append(1)\n",
    "test"
   ]
  },
  {
   "cell_type": "code",
   "execution_count": 14,
   "id": "543ae823-0d19-49da-badf-976a2fa08d48",
   "metadata": {},
   "outputs": [
    {
     "name": "stderr",
     "output_type": "stream",
     "text": [
      "[ WARN:0@40.691] global loadsave.cpp:248 findDecoder imread_('../pictures/monica/monica_001'): can't open/read file: check file path/integrity\n",
      "[ WARN:0@40.692] global loadsave.cpp:248 findDecoder imread_('../pictures/monica/monica_004'): can't open/read file: check file path/integrity\n",
      "[ WARN:0@40.692] global loadsave.cpp:248 findDecoder imread_('../pictures/test_pics/trees.jpg'): can't open/read file: check file path/integrity\n",
      "[ WARN:0@40.692] global loadsave.cpp:248 findDecoder imread_('../pictures/test_pics/test_joey_monica.jpeg'): can't open/read file: check file path/integrity\n",
      "[ WARN:0@40.692] global loadsave.cpp:248 findDecoder imread_('../pictures/test_pics/monica_side_test.png'): can't open/read file: check file path/integrity\n"
     ]
    }
   ],
   "source": [
    "img1 = cv2.imread(\"../pictures/monica/monica_001\")\n",
    "img2 = cv2.imread(\"../pictures/monica/monica_004\")\n",
    "img3 = cv2.imread(\"../pictures/test_pics/trees.jpg\")\n",
    "img4 = cv2.imread(\"../pictures/test_pics/test_joey_monica.jpeg\")\n",
    "img5 = cv2.imread(\"../pictures/test_pics/monica_side_test.png\")"
   ]
  },
  {
   "cell_type": "code",
   "execution_count": 15,
   "id": "c35ab37d-bda5-4e41-98fa-ba216cb730c2",
   "metadata": {},
   "outputs": [
    {
     "ename": "AttributeError",
     "evalue": "'NoneType' object has no attribute 'shape'",
     "output_type": "error",
     "traceback": [
      "\u001b[0;31m---------------------------------------------------------------------------\u001b[0m",
      "\u001b[0;31mAttributeError\u001b[0m                            Traceback (most recent call last)",
      "Cell \u001b[0;32mIn[15], line 1\u001b[0m\n\u001b[0;32m----> 1\u001b[0m detector\u001b[38;5;241m.\u001b[39msetInputSize([img5\u001b[38;5;241m.\u001b[39mshape[\u001b[38;5;241m1\u001b[39m], img5\u001b[38;5;241m.\u001b[39mshape[\u001b[38;5;241m0\u001b[39m]])\n\u001b[1;32m      2\u001b[0m face5 \u001b[38;5;241m=\u001b[39m detector\u001b[38;5;241m.\u001b[39minfer(img5)\n\u001b[1;32m      3\u001b[0m face5\n",
      "\u001b[0;31mAttributeError\u001b[0m: 'NoneType' object has no attribute 'shape'"
     ]
    }
   ],
   "source": [
    "detector.setInputSize([img5.shape[1], img5.shape[0]])\n",
    "face5 = detector.infer(img5)\n",
    "face5"
   ]
  },
  {
   "cell_type": "code",
   "execution_count": null,
   "id": "378b4bc2-7b41-4854-961f-8c39267c7649",
   "metadata": {},
   "outputs": [],
   "source": [
    "detector.setInputSize([img4.shape[1], img4.shape[0]])\n",
    "face4 = detector.infer(img4)\n",
    "face4"
   ]
  },
  {
   "cell_type": "code",
   "execution_count": null,
   "id": "36b96819-23bd-4b83-9556-95df8c2afa76",
   "metadata": {},
   "outputs": [],
   "source": []
  },
  {
   "cell_type": "code",
   "execution_count": null,
   "id": "d879669f-d1f2-40d7-83b2-62bffb213c47",
   "metadata": {},
   "outputs": [],
   "source": [
    "detector.setInputSize([img1.shape[1], img1.shape[0]])\n",
    "face1 = detector.infer(img1)\n",
    "face1"
   ]
  },
  {
   "cell_type": "code",
   "execution_count": null,
   "id": "b074fe68-f9f2-4fc3-b41a-1cd348831d18",
   "metadata": {},
   "outputs": [],
   "source": [
    "detector.setInputSize([img2.shape[1], img2.shape[0]])"
   ]
  },
  {
   "cell_type": "code",
   "execution_count": null,
   "id": "7157dc90-d1e8-48fb-9c08-ab2996157961",
   "metadata": {},
   "outputs": [],
   "source": [
    "face2 = detector.infer(img2)\n",
    "face2"
   ]
  },
  {
   "cell_type": "code",
   "execution_count": null,
   "id": "3451fe75-4a44-401d-888b-f6ab4967c27b",
   "metadata": {},
   "outputs": [],
   "source": [
    "result = recognizer.match(img1, face1[0][:-1], img2, face2[0][:-1])\n",
    "result"
   ]
  },
  {
   "cell_type": "code",
   "execution_count": null,
   "id": "10a6107d-6c59-4061-93f4-7db353b2bc0b",
   "metadata": {},
   "outputs": [],
   "source": [
    "feature1 = recognizer.infer(img1, face1[0][:-1])[0]\n",
    "feature1"
   ]
  },
  {
   "cell_type": "code",
   "execution_count": null,
   "id": "6d9f574d-783a-4ce9-8434-ce92999934dd",
   "metadata": {},
   "outputs": [],
   "source": [
    "feature2 = recognizer.infer(img2, face2[0][:-1])[0]\n",
    "feature2"
   ]
  },
  {
   "cell_type": "code",
   "execution_count": null,
   "id": "7598d4fd-71f6-489f-a030-b4bbf249cae2",
   "metadata": {},
   "outputs": [],
   "source": [
    "cos_sim = dot(feature1, feature2) / (norm(feature1) * norm(feature2))\n",
    "cos_sim"
   ]
  },
  {
   "cell_type": "code",
   "execution_count": null,
   "id": "0aeb65af-5fb6-421c-8e16-58ae19d3a8cc",
   "metadata": {},
   "outputs": [],
   "source": [
    "cos_sim = dot(feature1, feature2) / (norm(feature1) * norm(feature2))\n",
    "cos_sim"
   ]
  },
  {
   "cell_type": "code",
   "execution_count": null,
   "id": "95c33e85-238b-4750-9442-6d905c04438d",
   "metadata": {},
   "outputs": [],
   "source": []
  }
 ],
 "metadata": {
  "kernelspec": {
   "display_name": "Python 3 (ipykernel)",
   "language": "python",
   "name": "python3"
  },
  "language_info": {
   "codemirror_mode": {
    "name": "ipython",
    "version": 3
   },
   "file_extension": ".py",
   "mimetype": "text/x-python",
   "name": "python",
   "nbconvert_exporter": "python",
   "pygments_lexer": "ipython3",
   "version": "3.11.5"
  }
 },
 "nbformat": 4,
 "nbformat_minor": 5
}
